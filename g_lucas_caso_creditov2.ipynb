{
  "nbformat": 4,
  "nbformat_minor": 0,
  "metadata": {
    "colab": {
      "name": "g_lucas_caso_credito.ipynb",
      "provenance": [],
      "toc_visible": true,
      "include_colab_link": true
    },
    "kernelspec": {
      "name": "python3",
      "display_name": "Python 3"
    }
  },
  "cells": [
    {
      "cell_type": "markdown",
      "metadata": {
        "id": "view-in-github",
        "colab_type": "text"
      },
      "source": [
        "<a href=\"https://colab.research.google.com/github/llukitas/Interbank_Kaggle/blob/master/g_lucas_caso_creditov2.ipynb\" target=\"_parent\"><img src=\"https://colab.research.google.com/assets/colab-badge.svg\" alt=\"Open In Colab\"/></a>"
      ]
    },
    {
      "cell_type": "markdown",
      "metadata": {
        "id": "oZYjeFl20oa5",
        "colab_type": "text"
      },
      "source": [
        "# 0. Instalacion de utilitarios Pyspark"
      ]
    },
    {
      "cell_type": "code",
      "metadata": {
        "id": "y6zaa4yk0uIV",
        "colab_type": "code",
        "colab": {}
      },
      "source": [
        "!apt-get install openjdk-8-jdk-headless -qq > /dev/null\n",
        "!wget -q https://www-us.apache.org/dist/spark/spark-2.3.4/spark-2.3.4-bin-hadoop2.7.tgz\n",
        "!tar xf spark-2.3.4-bin-hadoop2.7.tgz"
      ],
      "execution_count": 0,
      "outputs": []
    },
    {
      "cell_type": "code",
      "metadata": {
        "id": "c0SmG6708QQ6",
        "colab_type": "code",
        "colab": {}
      },
      "source": [
        "!apt-get install openjdk-8-jdk-headless -qq > /dev/null\n",
        "!wget -q https://www-us.apache.org/dist/spark/spark-2.4.4/spark-2.4.4-bin-hadoop2.7.tgz\n",
        "!tar xf spark-2.4.4-bin-hadoop2.7.tgz\n"
      ],
      "execution_count": 0,
      "outputs": []
    },
    {
      "cell_type": "code",
      "metadata": {
        "id": "tyor71X98igS",
        "colab_type": "code",
        "colab": {}
      },
      "source": [
        "!pip install -q findspark"
      ],
      "execution_count": 0,
      "outputs": []
    },
    {
      "cell_type": "code",
      "metadata": {
        "id": "mRsVKjDvsmoC",
        "colab_type": "code",
        "colab": {}
      },
      "source": [
        "import os\n",
        "os.environ[\"JAVA_HOME\"] = \"/usr/lib/jvm/java-8-openjdk-amd64\"\n",
        "os.environ[\"SPARK_HOME\"] = \"/content/spark-2.4.4-bin-hadoop2.7\"\n"
      ],
      "execution_count": 0,
      "outputs": []
    },
    {
      "cell_type": "code",
      "metadata": {
        "id": "OsNTQa-qsr7j",
        "colab_type": "code",
        "outputId": "0fb0abd9-d845-4437-a35b-142204e29535",
        "colab": {
          "base_uri": "https://localhost:8080/",
          "height": 258
        }
      },
      "source": [
        "!pip install pyspark"
      ],
      "execution_count": 5,
      "outputs": [
        {
          "output_type": "stream",
          "text": [
            "Collecting pyspark\n",
            "\u001b[?25l  Downloading https://files.pythonhosted.org/packages/87/21/f05c186f4ddb01d15d0ddc36ef4b7e3cedbeb6412274a41f26b55a650ee5/pyspark-2.4.4.tar.gz (215.7MB)\n",
            "\u001b[K     |████████████████████████████████| 215.7MB 55kB/s \n",
            "\u001b[?25hCollecting py4j==0.10.7\n",
            "\u001b[?25l  Downloading https://files.pythonhosted.org/packages/e3/53/c737818eb9a7dc32a7cd4f1396e787bd94200c3997c72c1dbe028587bd76/py4j-0.10.7-py2.py3-none-any.whl (197kB)\n",
            "\u001b[K     |████████████████████████████████| 204kB 36.6MB/s \n",
            "\u001b[?25hBuilding wheels for collected packages: pyspark\n",
            "  Building wheel for pyspark (setup.py) ... \u001b[?25l\u001b[?25hdone\n",
            "  Created wheel for pyspark: filename=pyspark-2.4.4-py2.py3-none-any.whl size=216130387 sha256=e440bc1f4bec3a9673e357f95e6398f5be8e57fca3181a206ecec29bbaa10a3e\n",
            "  Stored in directory: /root/.cache/pip/wheels/ab/09/4d/0d184230058e654eb1b04467dbc1292f00eaa186544604b471\n",
            "Successfully built pyspark\n",
            "Installing collected packages: py4j, pyspark\n",
            "Successfully installed py4j-0.10.7 pyspark-2.4.4\n"
          ],
          "name": "stdout"
        }
      ]
    },
    {
      "cell_type": "code",
      "metadata": {
        "id": "zCKm2w9rswTv",
        "colab_type": "code",
        "colab": {}
      },
      "source": [
        "from pyspark.sql import SparkSession\n",
        "from pyspark import SparkContext\n",
        "spark = SparkSession.builder.master(\"local\").getOrCreate()\n",
        "sc = SparkContext.getOrCreate()"
      ],
      "execution_count": 0,
      "outputs": []
    },
    {
      "cell_type": "markdown",
      "metadata": {
        "id": "NXie2Umg1DZk",
        "colab_type": "text"
      },
      "source": [
        "# 1. Lectura del origen datos"
      ]
    },
    {
      "cell_type": "code",
      "metadata": {
        "id": "W-l6Pu6f1HO9",
        "colab_type": "code",
        "colab": {}
      },
      "source": [
        "# Lectura desde un archivo fisico\n",
        "from google.colab import files\n",
        "uploaded = files.upload()"
      ],
      "execution_count": 0,
      "outputs": []
    },
    {
      "cell_type": "code",
      "metadata": {
        "id": "zZL0PhM88Eys",
        "colab_type": "code",
        "outputId": "119a9b1d-b952-4279-b3b5-67edc2577e55",
        "colab": {
          "base_uri": "https://localhost:8080/",
          "height": 122
        }
      },
      "source": [
        "\n",
        "# Conexion al drive\n",
        "#---------------------------\n",
        "from google.colab import drive\n",
        "drive.mount('/content/drive')"
      ],
      "execution_count": 7,
      "outputs": [
        {
          "output_type": "stream",
          "text": [
            "Go to this URL in a browser: https://accounts.google.com/o/oauth2/auth?client_id=947318989803-6bn6qk8qdgf4n4g3pfee6491hc0brc4i.apps.googleusercontent.com&redirect_uri=urn%3Aietf%3Awg%3Aoauth%3A2.0%3Aoob&scope=email%20https%3A%2F%2Fwww.googleapis.com%2Fauth%2Fdocs.test%20https%3A%2F%2Fwww.googleapis.com%2Fauth%2Fdrive%20https%3A%2F%2Fwww.googleapis.com%2Fauth%2Fdrive.photos.readonly%20https%3A%2F%2Fwww.googleapis.com%2Fauth%2Fpeopleapi.readonly&response_type=code\n",
            "\n",
            "Enter your authorization code:\n",
            "··········\n",
            "Mounted at /content/drive\n"
          ],
          "name": "stdout"
        }
      ]
    },
    {
      "cell_type": "code",
      "metadata": {
        "id": "BZQDnxtq2G2L",
        "colab_type": "code",
        "outputId": "718aed3a-76be-4077-e28d-1440016860f6",
        "colab": {
          "base_uri": "https://localhost:8080/",
          "height": 51
        }
      },
      "source": [
        "ls"
      ],
      "execution_count": 8,
      "outputs": [
        {
          "output_type": "stream",
          "text": [
            "\u001b[0m\u001b[01;34mdrive\u001b[0m/        \u001b[01;34mspark-2.3.4-bin-hadoop2.7\u001b[0m/     \u001b[01;34mspark-2.4.4-bin-hadoop2.7\u001b[0m/\n",
            "\u001b[01;34msample_data\u001b[0m/  spark-2.3.4-bin-hadoop2.7.tgz  spark-2.4.4-bin-hadoop2.7.tgz\n"
          ],
          "name": "stdout"
        }
      ]
    },
    {
      "cell_type": "markdown",
      "metadata": {
        "id": "ltZocWSm2l9G",
        "colab_type": "text"
      },
      "source": [
        "#2.  Cargando los datos en formato Spark"
      ]
    },
    {
      "cell_type": "code",
      "metadata": {
        "id": "WHjK49YB3vb7",
        "colab_type": "code",
        "outputId": "b7155474-3901-4a65-fc65-06f645299165",
        "colab": {
          "base_uri": "https://localhost:8080/",
          "height": 255
        }
      },
      "source": [
        "credito=spark.read.csv('/content/drive/My Drive/AGRARIA_ML/Training R ML en Casos de Negocios/2_caso negocio 2 riesgo crediticio/2_DS_creditos.csv',sep=',', header=True, inferSchema=True)\n",
        "# 2.1 Revisión de formatos\n",
        "credito.printSchema()"
      ],
      "execution_count": 9,
      "outputs": [
        {
          "output_type": "stream",
          "text": [
            "root\n",
            " |-- ID: integer (nullable = true)\n",
            " |-- Default: integer (nullable = true)\n",
            " |-- Prct_uso_tc: double (nullable = true)\n",
            " |-- Edad: integer (nullable = true)\n",
            " |-- Nro_prestao_retrasados: integer (nullable = true)\n",
            " |-- Prct_deuda_vs_ingresos: double (nullable = true)\n",
            " |-- Mto_ingreso_mensual: string (nullable = true)\n",
            " |-- Nro_prod_financieros_deuda: integer (nullable = true)\n",
            " |-- Nro_retraso_60dias: integer (nullable = true)\n",
            " |-- Nro_creditos_hipotecarios: integer (nullable = true)\n",
            " |-- Nro_retraso_ultm3anios: integer (nullable = true)\n",
            " |-- Nro_dependiente: string (nullable = true)\n",
            "\n"
          ],
          "name": "stdout"
        }
      ]
    },
    {
      "cell_type": "code",
      "metadata": {
        "id": "dIetPub__BLp",
        "colab_type": "code",
        "colab": {}
      },
      "source": [
        "from pyspark.sql.types import DoubleType, IntegerType\n",
        "credito = credito.withColumn(\"Mto_ingreso_mensual\", credito[\"Mto_ingreso_mensual\"].cast(DoubleType()))\n",
        "credito = credito.withColumn(\"Nro_dependiente\", credito[\"Nro_dependiente\"].cast(DoubleType()))"
      ],
      "execution_count": 0,
      "outputs": []
    },
    {
      "cell_type": "code",
      "metadata": {
        "id": "VIrOoKqw_RFu",
        "colab_type": "code",
        "outputId": "7ca804f5-1e8f-4192-8a40-585f3220c83a",
        "colab": {
          "base_uri": "https://localhost:8080/",
          "height": 255
        }
      },
      "source": [
        "credito.printSchema()"
      ],
      "execution_count": 11,
      "outputs": [
        {
          "output_type": "stream",
          "text": [
            "root\n",
            " |-- ID: integer (nullable = true)\n",
            " |-- Default: integer (nullable = true)\n",
            " |-- Prct_uso_tc: double (nullable = true)\n",
            " |-- Edad: integer (nullable = true)\n",
            " |-- Nro_prestao_retrasados: integer (nullable = true)\n",
            " |-- Prct_deuda_vs_ingresos: double (nullable = true)\n",
            " |-- Mto_ingreso_mensual: double (nullable = true)\n",
            " |-- Nro_prod_financieros_deuda: integer (nullable = true)\n",
            " |-- Nro_retraso_60dias: integer (nullable = true)\n",
            " |-- Nro_creditos_hipotecarios: integer (nullable = true)\n",
            " |-- Nro_retraso_ultm3anios: integer (nullable = true)\n",
            " |-- Nro_dependiente: double (nullable = true)\n",
            "\n"
          ],
          "name": "stdout"
        }
      ]
    },
    {
      "cell_type": "code",
      "metadata": {
        "id": "TfVW6WGy4yVx",
        "colab_type": "code",
        "outputId": "8ea2f300-c51a-4ad7-da25-cb0b6716a0c5",
        "colab": {
          "base_uri": "https://localhost:8080/",
          "height": 34
        }
      },
      "source": [
        "# Dimensiona de base\n",
        "print((credito.count(),len(credito.columns)))"
      ],
      "execution_count": 12,
      "outputs": [
        {
          "output_type": "stream",
          "text": [
            "(150000, 12)\n"
          ],
          "name": "stdout"
        }
      ]
    },
    {
      "cell_type": "code",
      "metadata": {
        "id": "fxGX2ZDq5xsD",
        "colab_type": "code",
        "outputId": "f9e8c52e-e856-47c5-f233-4a925010db58",
        "colab": {
          "base_uri": "https://localhost:8080/",
          "height": 207
        }
      },
      "source": [
        "# 2.2 Exploracion inicial\n",
        "credito.describe().show()"
      ],
      "execution_count": 13,
      "outputs": [
        {
          "output_type": "stream",
          "text": [
            "+-------+------------------+-------------------+------------------+------------------+----------------------+----------------------+-------------------+--------------------------+-------------------+-------------------------+----------------------+------------------+\n",
            "|summary|                ID|            Default|       Prct_uso_tc|              Edad|Nro_prestao_retrasados|Prct_deuda_vs_ingresos|Mto_ingreso_mensual|Nro_prod_financieros_deuda| Nro_retraso_60dias|Nro_creditos_hipotecarios|Nro_retraso_ultm3anios|   Nro_dependiente|\n",
            "+-------+------------------+-------------------+------------------+------------------+----------------------+----------------------+-------------------+--------------------------+-------------------+-------------------------+----------------------+------------------+\n",
            "|  count|            150000|             150000|            150000|            150000|                150000|                150000|             120269|                    150000|             150000|                   150000|                150000|            146076|\n",
            "|   mean|           75000.5|            0.06684|  6.04843805466686|52.295206666666665|    0.4210333333333333|     353.0050757638672|  6670.221237392844|                   8.45276|0.26597333333333334|                  1.01824|   0.24038666666666667|0.7572222678605657|\n",
            "| stddev|43301.414526548666|0.24974553092872043|249.75537062543987|14.771865863100352|     4.192781272018327|    2037.8185231443636| 14384.674215282083|         5.145950989643292|  4.169303787594438|       1.1297709848828545|     4.155179420987195|1.1150860714871424|\n",
            "|    min|                 1|                  0|               0.0|                 0|                     0|                   0.0|                0.0|                         0|                  0|                        0|                     0|               0.0|\n",
            "|    max|            150000|                  1|           50708.0|               109|                    98|              329664.0|          3008750.0|                        58|                 98|                       54|                    98|              20.0|\n",
            "+-------+------------------+-------------------+------------------+------------------+----------------------+----------------------+-------------------+--------------------------+-------------------+-------------------------+----------------------+------------------+\n",
            "\n"
          ],
          "name": "stdout"
        }
      ]
    },
    {
      "cell_type": "code",
      "metadata": {
        "id": "_Mr-nj496Y2u",
        "colab_type": "code",
        "outputId": "98c2ad43-0ea0-4af9-f076-a62c8d9e96af",
        "colab": {
          "base_uri": "https://localhost:8080/",
          "height": 241
        }
      },
      "source": [
        "# 2.3 Proceso para identificar valores nulos en cada variables\n",
        "from pyspark.sql.functions import col,sum\n",
        "credito.select(*(sum(col(c).isNull().cast(\"int\")).alias(c) for c in credito.columns)).show()\n",
        "credito.select(*(sum(col(c).isNull().cast(\"int\")/150000).alias(c) for c in credito.columns)).show()"
      ],
      "execution_count": 14,
      "outputs": [
        {
          "output_type": "stream",
          "text": [
            "+---+-------+-----------+----+----------------------+----------------------+-------------------+--------------------------+------------------+-------------------------+----------------------+---------------+\n",
            "| ID|Default|Prct_uso_tc|Edad|Nro_prestao_retrasados|Prct_deuda_vs_ingresos|Mto_ingreso_mensual|Nro_prod_financieros_deuda|Nro_retraso_60dias|Nro_creditos_hipotecarios|Nro_retraso_ultm3anios|Nro_dependiente|\n",
            "+---+-------+-----------+----+----------------------+----------------------+-------------------+--------------------------+------------------+-------------------------+----------------------+---------------+\n",
            "|  0|      0|          0|   0|                     0|                     0|              29731|                         0|                 0|                        0|                     0|           3924|\n",
            "+---+-------+-----------+----+----------------------+----------------------+-------------------+--------------------------+------------------+-------------------------+----------------------+---------------+\n",
            "\n",
            "+---+-------+-----------+----+----------------------+----------------------+-------------------+--------------------------+------------------+-------------------------+----------------------+--------------------+\n",
            "| ID|Default|Prct_uso_tc|Edad|Nro_prestao_retrasados|Prct_deuda_vs_ingresos|Mto_ingreso_mensual|Nro_prod_financieros_deuda|Nro_retraso_60dias|Nro_creditos_hipotecarios|Nro_retraso_ultm3anios|     Nro_dependiente|\n",
            "+---+-------+-----------+----+----------------------+----------------------+-------------------+--------------------------+------------------+-------------------------+----------------------+--------------------+\n",
            "|0.0|    0.0|        0.0| 0.0|                   0.0|                   0.0|0.19820666666656256|                       0.0|               0.0|                      0.0|                   0.0|0.026159999999998254|\n",
            "+---+-------+-----------+----+----------------------+----------------------+-------------------+--------------------------+------------------+-------------------------+----------------------+--------------------+\n",
            "\n"
          ],
          "name": "stdout"
        }
      ]
    },
    {
      "cell_type": "markdown",
      "metadata": {
        "id": "rpXmMTFeFWUz",
        "colab_type": "text"
      },
      "source": [
        "#3.  Imputacion  de datos\n",
        "Se identifico que hay 2 columnas con valores nulos o vacios:\n",
        "\n",
        "Nro_dependiente   -->    2.6% nulos imputamos valores\n",
        "\n",
        " Mto_ingreso_mensual  -->      19.87% nulos imputamos valores"
      ]
    },
    {
      "cell_type": "code",
      "metadata": {
        "id": "AMhMb5jivsZK",
        "colab_type": "code",
        "outputId": "47c9eecf-d713-4a23-8d05-b356cd178ad2",
        "colab": {
          "base_uri": "https://localhost:8080/",
          "height": 357
        }
      },
      "source": [
        "#2.4 Variable objetivo\n",
        "print(credito.count())\n",
        "credito.groupBy('Nro_dependiente').count().show(1000)"
      ],
      "execution_count": 15,
      "outputs": [
        {
          "output_type": "stream",
          "text": [
            "150000\n",
            "+---------------+-----+\n",
            "|Nro_dependiente|count|\n",
            "+---------------+-----+\n",
            "|            8.0|   24|\n",
            "|            0.0|86902|\n",
            "|            7.0|   51|\n",
            "|           null| 3924|\n",
            "|            1.0|26316|\n",
            "|            4.0| 2862|\n",
            "|            3.0| 9483|\n",
            "|            2.0|19522|\n",
            "|           10.0|    5|\n",
            "|           13.0|    1|\n",
            "|            6.0|  158|\n",
            "|           20.0|    1|\n",
            "|            5.0|  746|\n",
            "|            9.0|    5|\n",
            "+---------------+-----+\n",
            "\n"
          ],
          "name": "stdout"
        }
      ]
    },
    {
      "cell_type": "code",
      "metadata": {
        "id": "aAjNNXDau4O_",
        "colab_type": "code",
        "outputId": "2695fd6b-79c6-4874-f776-483afb687e8e",
        "colab": {
          "base_uri": "https://localhost:8080/",
          "height": 34
        }
      },
      "source": [
        "#credito.stat.approxQuantile(\"Nro_dependiente\", Array(0.5), 0.25)\n",
        "credito.approxQuantile(\"Mto_ingreso_mensual\", [0.5], 0.25)"
      ],
      "execution_count": 16,
      "outputs": [
        {
          "output_type": "execute_result",
          "data": {
            "text/plain": [
              "[5400.0]"
            ]
          },
          "metadata": {
            "tags": []
          },
          "execution_count": 16
        }
      ]
    },
    {
      "cell_type": "code",
      "metadata": {
        "id": "M-taYmomCcjm",
        "colab_type": "code",
        "outputId": "3d48a395-0f58-4482-9b44-86917d373460",
        "colab": {
          "base_uri": "https://localhost:8080/",
          "height": 411
        }
      },
      "source": [
        "# imputacion por mediana\n",
        "from pyspark.ml.feature import Imputer \n",
        "credito.show (5)\n",
        "imputer = Imputer (inputCols = [\"Mto_ingreso_mensual\", \"Nro_dependiente\"], outputCols = [\"Mto_ingreso_mensual\", \"Nro_dependiente\"]) \n",
        "model = imputer.setStrategy(\"median\").fit (credito) \n",
        "credito = model.transform (credito) \n",
        "credito.show (5)\n"
      ],
      "execution_count": 17,
      "outputs": [
        {
          "output_type": "stream",
          "text": [
            "+---+-------+-----------+----+----------------------+----------------------+-------------------+--------------------------+------------------+-------------------------+----------------------+---------------+\n",
            "| ID|Default|Prct_uso_tc|Edad|Nro_prestao_retrasados|Prct_deuda_vs_ingresos|Mto_ingreso_mensual|Nro_prod_financieros_deuda|Nro_retraso_60dias|Nro_creditos_hipotecarios|Nro_retraso_ultm3anios|Nro_dependiente|\n",
            "+---+-------+-----------+----+----------------------+----------------------+-------------------+--------------------------+------------------+-------------------------+----------------------+---------------+\n",
            "|  1|      1|0.766126609|  45|                     2|           0.802982129|             9120.0|                        13|                 0|                        6|                     0|            2.0|\n",
            "|  2|      0|0.957151019|  40|                     0|           0.121876201|             2600.0|                         4|                 0|                        0|                     0|            1.0|\n",
            "|  3|      0| 0.65818014|  38|                     1|           0.085113375|             3042.0|                         2|                 1|                        0|                     0|            0.0|\n",
            "|  4|      0|0.233809776|  30|                     0|           0.036049682|             3300.0|                         5|                 0|                        0|                     0|            0.0|\n",
            "|  5|      0|  0.9072394|  49|                     1|           0.024925695|            63588.0|                         7|                 0|                        1|                     0|            0.0|\n",
            "+---+-------+-----------+----+----------------------+----------------------+-------------------+--------------------------+------------------+-------------------------+----------------------+---------------+\n",
            "only showing top 5 rows\n",
            "\n",
            "+---+-------+-----------+----+----------------------+----------------------+-------------------+--------------------------+------------------+-------------------------+----------------------+---------------+\n",
            "| ID|Default|Prct_uso_tc|Edad|Nro_prestao_retrasados|Prct_deuda_vs_ingresos|Mto_ingreso_mensual|Nro_prod_financieros_deuda|Nro_retraso_60dias|Nro_creditos_hipotecarios|Nro_retraso_ultm3anios|Nro_dependiente|\n",
            "+---+-------+-----------+----+----------------------+----------------------+-------------------+--------------------------+------------------+-------------------------+----------------------+---------------+\n",
            "|  1|      1|0.766126609|  45|                     2|           0.802982129|             9120.0|                        13|                 0|                        6|                     0|            2.0|\n",
            "|  2|      0|0.957151019|  40|                     0|           0.121876201|             2600.0|                         4|                 0|                        0|                     0|            1.0|\n",
            "|  3|      0| 0.65818014|  38|                     1|           0.085113375|             3042.0|                         2|                 1|                        0|                     0|            0.0|\n",
            "|  4|      0|0.233809776|  30|                     0|           0.036049682|             3300.0|                         5|                 0|                        0|                     0|            0.0|\n",
            "|  5|      0|  0.9072394|  49|                     1|           0.024925695|            63588.0|                         7|                 0|                        1|                     0|            0.0|\n",
            "+---+-------+-----------+----+----------------------+----------------------+-------------------+--------------------------+------------------+-------------------------+----------------------+---------------+\n",
            "only showing top 5 rows\n",
            "\n"
          ],
          "name": "stdout"
        }
      ]
    },
    {
      "cell_type": "code",
      "metadata": {
        "id": "0bs4ab576xOz",
        "colab_type": "code",
        "outputId": "76106460-b1ef-418b-874d-f1444d772720",
        "colab": {
          "base_uri": "https://localhost:8080/",
          "height": 170
        }
      },
      "source": [
        "#2.4 Variable objetivo\n",
        "print(credito.count())\n",
        "credito.groupBy('Default').count().show()\n",
        "# Efectividad de venta\n",
        "(10026/150000)*100"
      ],
      "execution_count": 18,
      "outputs": [
        {
          "output_type": "stream",
          "text": [
            "150000\n",
            "+-------+------+\n",
            "|Default| count|\n",
            "+-------+------+\n",
            "|      1| 10026|\n",
            "|      0|139974|\n",
            "+-------+------+\n",
            "\n"
          ],
          "name": "stdout"
        },
        {
          "output_type": "execute_result",
          "data": {
            "text/plain": [
              "6.683999999999999"
            ]
          },
          "metadata": {
            "tags": []
          },
          "execution_count": 18
        }
      ]
    },
    {
      "cell_type": "markdown",
      "metadata": {
        "id": "3LQTaq9zzn_c",
        "colab_type": "text"
      },
      "source": [
        "# Informacion Value"
      ]
    },
    {
      "cell_type": "code",
      "metadata": {
        "id": "1WI_g4IuOBxO",
        "colab_type": "code",
        "outputId": "f33fcf85-7764-43b4-c7b2-b08cd4741282",
        "colab": {
          "base_uri": "https://localhost:8080/",
          "height": 428
        }
      },
      "source": [
        "!pip install scorecardpy"
      ],
      "execution_count": 19,
      "outputs": [
        {
          "output_type": "stream",
          "text": [
            "Collecting scorecardpy\n",
            "\u001b[?25l  Downloading https://files.pythonhosted.org/packages/b3/fd/be6c15335e537d2360f85823cbb0b1c02cdd2ed9ff52539db78545db7115/scorecardpy-0.1.9.1.1.tar.gz (55kB)\n",
            "\r\u001b[K     |██████                          | 10kB 17.4MB/s eta 0:00:01\r\u001b[K     |███████████▉                    | 20kB 1.7MB/s eta 0:00:01\r\u001b[K     |█████████████████▉              | 30kB 2.5MB/s eta 0:00:01\r\u001b[K     |███████████████████████▊        | 40kB 1.7MB/s eta 0:00:01\r\u001b[K     |█████████████████████████████▋  | 51kB 2.1MB/s eta 0:00:01\r\u001b[K     |████████████████████████████████| 61kB 1.9MB/s \n",
            "\u001b[?25hRequirement already satisfied: numpy in /usr/local/lib/python3.6/dist-packages (from scorecardpy) (1.17.3)\n",
            "Requirement already satisfied: pandas>=0.25.0 in /usr/local/lib/python3.6/dist-packages (from scorecardpy) (0.25.3)\n",
            "Requirement already satisfied: matplotlib in /usr/local/lib/python3.6/dist-packages (from scorecardpy) (3.1.1)\n",
            "Requirement already satisfied: scikit-learn>=0.19.1 in /usr/local/lib/python3.6/dist-packages (from scorecardpy) (0.21.3)\n",
            "Requirement already satisfied: python-dateutil>=2.6.1 in /usr/local/lib/python3.6/dist-packages (from pandas>=0.25.0->scorecardpy) (2.6.1)\n",
            "Requirement already satisfied: pytz>=2017.2 in /usr/local/lib/python3.6/dist-packages (from pandas>=0.25.0->scorecardpy) (2018.9)\n",
            "Requirement already satisfied: pyparsing!=2.0.4,!=2.1.2,!=2.1.6,>=2.0.1 in /usr/local/lib/python3.6/dist-packages (from matplotlib->scorecardpy) (2.4.4)\n",
            "Requirement already satisfied: kiwisolver>=1.0.1 in /usr/local/lib/python3.6/dist-packages (from matplotlib->scorecardpy) (1.1.0)\n",
            "Requirement already satisfied: cycler>=0.10 in /usr/local/lib/python3.6/dist-packages (from matplotlib->scorecardpy) (0.10.0)\n",
            "Requirement already satisfied: scipy>=0.17.0 in /usr/local/lib/python3.6/dist-packages (from scikit-learn>=0.19.1->scorecardpy) (1.3.1)\n",
            "Requirement already satisfied: joblib>=0.11 in /usr/local/lib/python3.6/dist-packages (from scikit-learn>=0.19.1->scorecardpy) (0.14.0)\n",
            "Requirement already satisfied: six>=1.5 in /usr/local/lib/python3.6/dist-packages (from python-dateutil>=2.6.1->pandas>=0.25.0->scorecardpy) (1.12.0)\n",
            "Requirement already satisfied: setuptools in /usr/local/lib/python3.6/dist-packages (from kiwisolver>=1.0.1->matplotlib->scorecardpy) (41.4.0)\n",
            "Building wheels for collected packages: scorecardpy\n",
            "  Building wheel for scorecardpy (setup.py) ... \u001b[?25l\u001b[?25hdone\n",
            "  Created wheel for scorecardpy: filename=scorecardpy-0.1.9.1.1-cp36-none-any.whl size=58169 sha256=e335a6f180aa0a39cfe6f8a67f8ade7c5d6e3c684502f99b6deeaa81313c2bb4\n",
            "  Stored in directory: /root/.cache/pip/wheels/8f/4c/98/567ff70984acd88ffae211d8fc209e34b98fb43ff27f09fdd3\n",
            "Successfully built scorecardpy\n",
            "Installing collected packages: scorecardpy\n",
            "Successfully installed scorecardpy-0.1.9.1.1\n"
          ],
          "name": "stdout"
        }
      ]
    },
    {
      "cell_type": "code",
      "metadata": {
        "id": "6yKOHQDz0UAu",
        "colab_type": "code",
        "colab": {}
      },
      "source": [
        "import scorecardpy as sc\n",
        "import pandas as pd"
      ],
      "execution_count": 0,
      "outputs": []
    },
    {
      "cell_type": "code",
      "metadata": {
        "id": "VIEyNSUt81xB",
        "colab_type": "code",
        "outputId": "35cf15ac-aa9a-4ec5-bd13-4e1fd4d23f05",
        "colab": {
          "base_uri": "https://localhost:8080/",
          "height": 34
        }
      },
      "source": [
        "type(credito)"
      ],
      "execution_count": 21,
      "outputs": [
        {
          "output_type": "execute_result",
          "data": {
            "text/plain": [
              "pyspark.sql.dataframe.DataFrame"
            ]
          },
          "metadata": {
            "tags": []
          },
          "execution_count": 21
        }
      ]
    },
    {
      "cell_type": "code",
      "metadata": {
        "id": "RjmSleye9Jnx",
        "colab_type": "code",
        "outputId": "d298c1c0-648d-423a-dcff-2d1feb56d553",
        "colab": {
          "base_uri": "https://localhost:8080/",
          "height": 34
        }
      },
      "source": [
        "df = credito.toPandas()\n",
        "type(df)"
      ],
      "execution_count": 22,
      "outputs": [
        {
          "output_type": "execute_result",
          "data": {
            "text/plain": [
              "pandas.core.frame.DataFrame"
            ]
          },
          "metadata": {
            "tags": []
          },
          "execution_count": 22
        }
      ]
    },
    {
      "cell_type": "code",
      "metadata": {
        "id": "GFW15HZP0nkD",
        "colab_type": "code",
        "colab": {}
      },
      "source": [
        "df.drop(['ID'], axis='columns', inplace=True)"
      ],
      "execution_count": 0,
      "outputs": []
    },
    {
      "cell_type": "code",
      "metadata": {
        "id": "t5sMfMso1Hl0",
        "colab_type": "code",
        "outputId": "58c1d755-3b02-424e-cd69-8a03808b4103",
        "colab": {
          "base_uri": "https://localhost:8080/",
          "height": 224
        }
      },
      "source": [
        "df.head()"
      ],
      "execution_count": 24,
      "outputs": [
        {
          "output_type": "execute_result",
          "data": {
            "text/html": [
              "<div>\n",
              "<style scoped>\n",
              "    .dataframe tbody tr th:only-of-type {\n",
              "        vertical-align: middle;\n",
              "    }\n",
              "\n",
              "    .dataframe tbody tr th {\n",
              "        vertical-align: top;\n",
              "    }\n",
              "\n",
              "    .dataframe thead th {\n",
              "        text-align: right;\n",
              "    }\n",
              "</style>\n",
              "<table border=\"1\" class=\"dataframe\">\n",
              "  <thead>\n",
              "    <tr style=\"text-align: right;\">\n",
              "      <th></th>\n",
              "      <th>Default</th>\n",
              "      <th>Prct_uso_tc</th>\n",
              "      <th>Edad</th>\n",
              "      <th>Nro_prestao_retrasados</th>\n",
              "      <th>Prct_deuda_vs_ingresos</th>\n",
              "      <th>Mto_ingreso_mensual</th>\n",
              "      <th>Nro_prod_financieros_deuda</th>\n",
              "      <th>Nro_retraso_60dias</th>\n",
              "      <th>Nro_creditos_hipotecarios</th>\n",
              "      <th>Nro_retraso_ultm3anios</th>\n",
              "      <th>Nro_dependiente</th>\n",
              "    </tr>\n",
              "  </thead>\n",
              "  <tbody>\n",
              "    <tr>\n",
              "      <th>0</th>\n",
              "      <td>1</td>\n",
              "      <td>0.766127</td>\n",
              "      <td>45</td>\n",
              "      <td>2</td>\n",
              "      <td>0.802982</td>\n",
              "      <td>9120.0</td>\n",
              "      <td>13</td>\n",
              "      <td>0</td>\n",
              "      <td>6</td>\n",
              "      <td>0</td>\n",
              "      <td>2.0</td>\n",
              "    </tr>\n",
              "    <tr>\n",
              "      <th>1</th>\n",
              "      <td>0</td>\n",
              "      <td>0.957151</td>\n",
              "      <td>40</td>\n",
              "      <td>0</td>\n",
              "      <td>0.121876</td>\n",
              "      <td>2600.0</td>\n",
              "      <td>4</td>\n",
              "      <td>0</td>\n",
              "      <td>0</td>\n",
              "      <td>0</td>\n",
              "      <td>1.0</td>\n",
              "    </tr>\n",
              "    <tr>\n",
              "      <th>2</th>\n",
              "      <td>0</td>\n",
              "      <td>0.658180</td>\n",
              "      <td>38</td>\n",
              "      <td>1</td>\n",
              "      <td>0.085113</td>\n",
              "      <td>3042.0</td>\n",
              "      <td>2</td>\n",
              "      <td>1</td>\n",
              "      <td>0</td>\n",
              "      <td>0</td>\n",
              "      <td>0.0</td>\n",
              "    </tr>\n",
              "    <tr>\n",
              "      <th>3</th>\n",
              "      <td>0</td>\n",
              "      <td>0.233810</td>\n",
              "      <td>30</td>\n",
              "      <td>0</td>\n",
              "      <td>0.036050</td>\n",
              "      <td>3300.0</td>\n",
              "      <td>5</td>\n",
              "      <td>0</td>\n",
              "      <td>0</td>\n",
              "      <td>0</td>\n",
              "      <td>0.0</td>\n",
              "    </tr>\n",
              "    <tr>\n",
              "      <th>4</th>\n",
              "      <td>0</td>\n",
              "      <td>0.907239</td>\n",
              "      <td>49</td>\n",
              "      <td>1</td>\n",
              "      <td>0.024926</td>\n",
              "      <td>63588.0</td>\n",
              "      <td>7</td>\n",
              "      <td>0</td>\n",
              "      <td>1</td>\n",
              "      <td>0</td>\n",
              "      <td>0.0</td>\n",
              "    </tr>\n",
              "  </tbody>\n",
              "</table>\n",
              "</div>"
            ],
            "text/plain": [
              "   Default  Prct_uso_tc  ...  Nro_retraso_ultm3anios  Nro_dependiente\n",
              "0        1     0.766127  ...                       0              2.0\n",
              "1        0     0.957151  ...                       0              1.0\n",
              "2        0     0.658180  ...                       0              0.0\n",
              "3        0     0.233810  ...                       0              0.0\n",
              "4        0     0.907239  ...                       0              0.0\n",
              "\n",
              "[5 rows x 11 columns]"
            ]
          },
          "metadata": {
            "tags": []
          },
          "execution_count": 24
        }
      ]
    },
    {
      "cell_type": "code",
      "metadata": {
        "id": "DevCxW045s4B",
        "colab_type": "code",
        "outputId": "58b536d2-fc61-4895-b503-c19a187b216e",
        "colab": {
          "base_uri": "https://localhost:8080/",
          "height": 68
        }
      },
      "source": [
        "# Formato de variables ScorecardPy\n",
        "dt_s = sc.var_filter(df, y=\"Default\")"
      ],
      "execution_count": 25,
      "outputs": [
        {
          "output_type": "stream",
          "text": [
            "[INFO] filtering variables ...\n",
            "Variable filtering on 150000 rows and 11 columns in 00:04:17 \n",
            "0 variables are removed\n"
          ],
          "name": "stdout"
        }
      ]
    },
    {
      "cell_type": "code",
      "metadata": {
        "id": "Qltb1xH01UUu",
        "colab_type": "code",
        "outputId": "745e9762-af9f-4204-f90f-9b1bd7d9f7bf",
        "colab": {
          "base_uri": "https://localhost:8080/",
          "height": 51
        }
      },
      "source": [
        "bins = sc.woebin(dt_s, y=\"Default\")"
      ],
      "execution_count": 26,
      "outputs": [
        {
          "output_type": "stream",
          "text": [
            "[INFO] creating woe binning ...\n",
            "Binning on 150000 rows and 11 columns in 00:00:12\n"
          ],
          "name": "stdout"
        }
      ]
    },
    {
      "cell_type": "code",
      "metadata": {
        "id": "_ZGQAm-braiI",
        "colab_type": "code",
        "outputId": "76a87128-513a-4926-ccb2-6b3e075aed95",
        "colab": {
          "base_uri": "https://localhost:8080/",
          "height": 359
        }
      },
      "source": [
        "# De acuerdo al analisis de correlacion de Spearman o Information Value\n",
        "# Las variables m;as relevantes son: Nro_retraso_60dias, Mto_ingreso_mensual, Nro_prestao_retrasados\n",
        "sc.iv(dt_s, y=\"Default\")"
      ],
      "execution_count": 27,
      "outputs": [
        {
          "output_type": "execute_result",
          "data": {
            "text/html": [
              "<div>\n",
              "<style scoped>\n",
              "    .dataframe tbody tr th:only-of-type {\n",
              "        vertical-align: middle;\n",
              "    }\n",
              "\n",
              "    .dataframe tbody tr th {\n",
              "        vertical-align: top;\n",
              "    }\n",
              "\n",
              "    .dataframe thead th {\n",
              "        text-align: right;\n",
              "    }\n",
              "</style>\n",
              "<table border=\"1\" class=\"dataframe\">\n",
              "  <thead>\n",
              "    <tr style=\"text-align: right;\">\n",
              "      <th></th>\n",
              "      <th>variable</th>\n",
              "      <th>info_value</th>\n",
              "    </tr>\n",
              "  </thead>\n",
              "  <tbody>\n",
              "    <tr>\n",
              "      <th>4</th>\n",
              "      <td>Nro_retraso_60dias</td>\n",
              "      <td>0.881208</td>\n",
              "    </tr>\n",
              "    <tr>\n",
              "      <th>9</th>\n",
              "      <td>Mto_ingreso_mensual</td>\n",
              "      <td>0.836594</td>\n",
              "    </tr>\n",
              "    <tr>\n",
              "      <th>1</th>\n",
              "      <td>Nro_prestao_retrasados</td>\n",
              "      <td>0.761158</td>\n",
              "    </tr>\n",
              "    <tr>\n",
              "      <th>5</th>\n",
              "      <td>Nro_retraso_ultm3anios</td>\n",
              "      <td>0.601024</td>\n",
              "    </tr>\n",
              "    <tr>\n",
              "      <th>2</th>\n",
              "      <td>Prct_deuda_vs_ingresos</td>\n",
              "      <td>0.406449</td>\n",
              "    </tr>\n",
              "    <tr>\n",
              "      <th>3</th>\n",
              "      <td>Prct_uso_tc</td>\n",
              "      <td>0.307700</td>\n",
              "    </tr>\n",
              "    <tr>\n",
              "      <th>8</th>\n",
              "      <td>Edad</td>\n",
              "      <td>0.274367</td>\n",
              "    </tr>\n",
              "    <tr>\n",
              "      <th>0</th>\n",
              "      <td>Nro_prod_financieros_deuda</td>\n",
              "      <td>0.116379</td>\n",
              "    </tr>\n",
              "    <tr>\n",
              "      <th>7</th>\n",
              "      <td>Nro_creditos_hipotecarios</td>\n",
              "      <td>0.068348</td>\n",
              "    </tr>\n",
              "    <tr>\n",
              "      <th>6</th>\n",
              "      <td>Nro_dependiente</td>\n",
              "      <td>0.035484</td>\n",
              "    </tr>\n",
              "  </tbody>\n",
              "</table>\n",
              "</div>"
            ],
            "text/plain": [
              "                     variable  info_value\n",
              "4          Nro_retraso_60dias    0.881208\n",
              "9         Mto_ingreso_mensual    0.836594\n",
              "1      Nro_prestao_retrasados    0.761158\n",
              "5      Nro_retraso_ultm3anios    0.601024\n",
              "2      Prct_deuda_vs_ingresos    0.406449\n",
              "3                 Prct_uso_tc    0.307700\n",
              "8                        Edad    0.274367\n",
              "0  Nro_prod_financieros_deuda    0.116379\n",
              "7   Nro_creditos_hipotecarios    0.068348\n",
              "6             Nro_dependiente    0.035484"
            ]
          },
          "metadata": {
            "tags": []
          },
          "execution_count": 27
        }
      ]
    },
    {
      "cell_type": "code",
      "metadata": {
        "id": "YFidulSN1XJU",
        "colab_type": "code",
        "outputId": "9cf25879-5604-46db-acb4-255e13b105ab",
        "colab": {
          "base_uri": "https://localhost:8080/",
          "height": 1000
        }
      },
      "source": [
        "# graficando los Insight identificados\n",
        "#bins = sc.woebin(dt_s[['Nro_retraso_60dias','Mto_ingreso_mensual','Nro_prestao_retrasados','Nro_retraso_ultm3anios','Prct_deuda_vs_ingresos']], y=\"Default\")\n",
        "sc.woebin_plot(bins)"
      ],
      "execution_count": 28,
      "outputs": [
        {
          "output_type": "execute_result",
          "data": {
            "text/plain": [
              "{'Edad': <Figure size 432x288 with 2 Axes>,\n",
              " 'Mto_ingreso_mensual': <Figure size 432x288 with 2 Axes>,\n",
              " 'Nro_creditos_hipotecarios': <Figure size 432x288 with 2 Axes>,\n",
              " 'Nro_dependiente': <Figure size 432x288 with 2 Axes>,\n",
              " 'Nro_prestao_retrasados': <Figure size 432x288 with 2 Axes>,\n",
              " 'Nro_prod_financieros_deuda': <Figure size 432x288 with 2 Axes>,\n",
              " 'Nro_retraso_60dias': <Figure size 432x288 with 2 Axes>,\n",
              " 'Nro_retraso_ultm3anios': <Figure size 432x288 with 2 Axes>,\n",
              " 'Prct_deuda_vs_ingresos': <Figure size 432x288 with 2 Axes>,\n",
              " 'Prct_uso_tc': <Figure size 432x288 with 2 Axes>}"
            ]
          },
          "metadata": {
            "tags": []
          },
          "execution_count": 28
        },
        {
          "output_type": "display_data",
          "data": {
            "image/png": "[encoded data removed]",
            "text/plain": [
              "<Figure size 432x288 with 2 Axes>"
            ]
          },
          "metadata": {
            "tags": []
          }
        },
        {
          "output_type": "display_data",
          "data": {
            "image/png": "[encoded data removed]",
            "text/plain": [
              "<Figure size 432x288 with 2 Axes>"
            ]
          },
          "metadata": {
            "tags": []
          }
        },
        {
          "output_type": "display_data",
          "data": {
            "image/png": "[encoded data removed]",
            "text/plain": [
              "<Figure size 432x288 with 2 Axes>"
            ]
          },
          "metadata": {
            "tags": []
          }
        },
        {
          "output_type": "display_data",
          "data": {
            "image/png": "[encoded data removed]",
            "text/plain": [
              "<Figure size 432x288 with 2 Axes>"
            ]
          },
          "metadata": {
            "tags": []
          }
        },
        {
          "output_type": "display_data",
          "data": {
            "image/png": "[encoded data removed]",
            "text/plain": [
              "<Figure size 432x288 with 2 Axes>"
            ]
          },
          "metadata": {
            "tags": []
          }
        },
        {
          "output_type": "display_data",
          "data": {
            "image/png": "[encoded data removed]",
            "text/plain": [
              "<Figure size 432x288 with 2 Axes>"
            ]
          },
          "metadata": {
            "tags": []
          }
        },
        {
          "output_type": "display_data",
          "data": {
            "image/png": "[encoded data removed]",
            "text/plain": [
              "<Figure size 432x288 with 2 Axes>"
            ]
          },
          "metadata": {
            "tags": []
          }
        },
        {
          "output_type": "display_data",
          "data": {
            "image/png": "[encoded data removed]",
            "text/plain": [
              "<Figure size 432x288 with 2 Axes>"
            ]
          },
          "metadata": {
            "tags": []
          }
        },
        {
          "output_type": "display_data",
          "data": {
            "image/png": "[encoded data removed]",
            "text/plain": [
              "<Figure size 432x288 with 2 Axes>"
            ]
          },
          "metadata": {
            "tags": []
          }
        },
        {
          "output_type": "display_data",
          "data": {
            "image/png": "[encoded data removed]",
            "text/plain": [
              "<Figure size 432x288 with 2 Axes>"
            ]
          },
          "metadata": {
            "tags": []
          }
        }
      ]
    },
    {
      "cell_type": "markdown",
      "metadata": {
        "id": "8a-P4gxspQuz",
        "colab_type": "text"
      },
      "source": [
        "#3.  Preparando la información para el modelamiento"
      ]
    },
    {
      "cell_type": "markdown",
      "metadata": {
        "id": "W2f0Nba2FTm5",
        "colab_type": "text"
      },
      "source": [
        ""
      ]
    },
    {
      "cell_type": "code",
      "metadata": {
        "id": "mlJyracP1dS1",
        "colab_type": "code",
        "colab": {}
      },
      "source": [
        "# REdefiniendo feature\n",
        "# Se elimina en caso ya exista una nueva columna\n",
        "credito=credito.drop(\"features\")"
      ],
      "execution_count": 0,
      "outputs": []
    },
    {
      "cell_type": "code",
      "metadata": {
        "id": "3z8XOpyHpWG7",
        "colab_type": "code",
        "colab": {}
      },
      "source": [
        "# Creando las variables nevesarias para el modelamiento\n",
        "# ESCENARIO 1 -- NO USADO\n",
        "# Consolidacion de variables\n",
        "from pyspark.ml.feature import StringIndexer \n",
        "from pyspark.ml.feature import VectorAssembler  \n",
        "# Transformacion\n",
        "df_assembler = VectorAssembler(inputCols=['Nro_retraso_60dias','Mto_ingreso_mensual','Nro_prestao_retrasados','Nro_retraso_ultm3anios'], outputCol=\"features\")\n",
        "credito = df_assembler.transform(credito)"
      ],
      "execution_count": 0,
      "outputs": []
    },
    {
      "cell_type": "code",
      "metadata": {
        "id": "lvY4FTFPygOv",
        "colab_type": "code",
        "colab": {
          "base_uri": "https://localhost:8080/",
          "height": 170
        },
        "outputId": "98af2628-ba6f-47c5-811e-637121812371"
      },
      "source": [
        "#Revision\n",
        "#DS_Renovacion_prest.printSchema()\n",
        "credito_t.select('Default','features').show(3,False)"
      ],
      "execution_count": 46,
      "outputs": [
        {
          "output_type": "stream",
          "text": [
            "+-------+--------------------------------+\n",
            "|Default|features                        |\n",
            "+-------+--------------------------------+\n",
            "|1      |[0.0,9120.0,2.0,0.0,0.802982129]|\n",
            "|0      |(5,[1,4],[2600.0,0.121876201])  |\n",
            "|0      |[1.0,3042.0,1.0,0.0,0.085113375]|\n",
            "+-------+--------------------------------+\n",
            "only showing top 3 rows\n",
            "\n"
          ],
          "name": "stdout"
        }
      ]
    },
    {
      "cell_type": "code",
      "metadata": {
        "id": "KG9Xqb5czBoF",
        "colab_type": "code",
        "colab": {}
      },
      "source": [
        "#Matriz de Modelamiento\n",
        "model_df_credito_t=credito_t.select('Default','features')"
      ],
      "execution_count": 0,
      "outputs": []
    },
    {
      "cell_type": "code",
      "metadata": {
        "id": "ZfLXT0IvssLx",
        "colab_type": "code",
        "colab": {
          "base_uri": "https://localhost:8080/",
          "height": 85
        },
        "outputId": "aa13ce70-79ac-42cf-a161-e8a16f04c4e3"
      },
      "source": [
        "model_df_credito_t.printSchema()"
      ],
      "execution_count": 48,
      "outputs": [
        {
          "output_type": "stream",
          "text": [
            "root\n",
            " |-- Default: integer (nullable = true)\n",
            " |-- features: vector (nullable = true)\n",
            "\n"
          ],
          "name": "stdout"
        }
      ]
    },
    {
      "cell_type": "markdown",
      "metadata": {
        "id": "KdGWun_NqafO",
        "colab_type": "text"
      },
      "source": [
        "# 5.  Seleccionando la muestra de aprendizaje y validacion\n"
      ]
    },
    {
      "cell_type": "code",
      "metadata": {
        "id": "WhTiyCtfqeQh",
        "colab_type": "code",
        "colab": {
          "base_uri": "https://localhost:8080/",
          "height": 34
        },
        "outputId": "8124de11-86c2-4106-d6fb-16c1f3b05577"
      },
      "source": [
        "# Definicion de muestra de entrenamiento y Validacion\n",
        "\n",
        "training_df,test_df=model_df_credito_t.randomSplit([0.5,0.5],seed=1234) \n",
        "\n",
        "# Tamaño de muestra\n",
        "print(training_df.count(),test_df.count())"
      ],
      "execution_count": 58,
      "outputs": [
        {
          "output_type": "stream",
          "text": [
            "75059 74941\n"
          ],
          "name": "stdout"
        }
      ]
    },
    {
      "cell_type": "markdown",
      "metadata": {
        "id": "rwY0WR5yqyby",
        "colab_type": "text"
      },
      "source": [
        "#6.  Modelamiento de predictivo"
      ]
    },
    {
      "cell_type": "code",
      "metadata": {
        "id": "0fg8NDvirLLB",
        "colab_type": "code",
        "colab": {}
      },
      "source": [
        "# Modelamiento de Regresion Logistica\n",
        "\n",
        "from pyspark.ml.classification import LogisticRegression\n",
        "log_reg=LogisticRegression(maxIter=10,labelCol='Default').fit(training_df)"
      ],
      "execution_count": 0,
      "outputs": []
    },
    {
      "cell_type": "code",
      "metadata": {
        "id": "fsC_-d2I3ob9",
        "colab_type": "code",
        "colab": {}
      },
      "source": [
        "# Modelamiento de Regresion Logistica\n",
        "\n",
        "from pyspark.ml.classification import LogisticRegression\n",
        "\n",
        "log_reg=LogisticRegression(labelCol='Default').fit(training_df)"
      ],
      "execution_count": 0,
      "outputs": []
    },
    {
      "cell_type": "code",
      "metadata": {
        "id": "OlIUK1xU0FTl",
        "colab_type": "code",
        "colab": {
          "base_uri": "https://localhost:8080/",
          "height": 34
        },
        "outputId": "06d33f7b-11c3-4b63-ec4f-09bbaa39f9f3"
      },
      "source": [
        "# Revision\n",
        "log_reg.coefficients"
      ],
      "execution_count": 68,
      "outputs": [
        {
          "output_type": "execute_result",
          "data": {
            "text/plain": [
              "DenseVector([0.5107, -0.0, 0.527, -1.0027, -0.0])"
            ]
          },
          "metadata": {
            "tags": []
          },
          "execution_count": 68
        }
      ]
    },
    {
      "cell_type": "code",
      "metadata": {
        "id": "Prgj_uvv0KVb",
        "colab_type": "code",
        "colab": {
          "base_uri": "https://localhost:8080/",
          "height": 265
        },
        "outputId": "2fc42be4-b5e1-4dc5-d699-b5ea7acf8a79"
      },
      "source": [
        "# Representacion grafica de los betas de la REgresion Logistica\n",
        "import matplotlib.pyplot as plt\n",
        "import numpy as np\n",
        "beta = np.sort(log_reg.coefficients)\n",
        "plt.plot(beta)\n",
        "plt.ylabel('Beta Coefficients')\n",
        "plt.show()"
      ],
      "execution_count": 61,
      "outputs": [
        {
          "output_type": "display_data",
          "data": {
            "image/png": "[encoded data removed]",
            "text/plain": [
              "<Figure size 432x288 with 1 Axes>"
            ]
          },
          "metadata": {
            "tags": []
          }
        }
      ]
    },
    {
      "cell_type": "code",
      "metadata": {
        "id": "c60miA1a3-LR",
        "colab_type": "code",
        "colab": {
          "base_uri": "https://localhost:8080/",
          "height": 289
        },
        "outputId": "a57a9df7-dbb9-40ac-8db3-05182a833ecf"
      },
      "source": [
        "# Aplicando sobre la data Train el modelo identificado\n",
        "\n",
        "train_results=log_reg.evaluate(training_df).predictions\n",
        "\n",
        "# Verificando las probabilidad en los clientes con compra\n",
        "\n",
        "train_results.filter(train_results['Default']==1).select(['Default','prediction','probability']).show(10,False)"
      ],
      "execution_count": 70,
      "outputs": [
        {
          "output_type": "stream",
          "text": [
            "+-------+----------+----------------------------------------+\n",
            "|Default|prediction|probability                             |\n",
            "+-------+----------+----------------------------------------+\n",
            "|1      |0.0       |[0.9314516537270227,0.06854834627297728]|\n",
            "|1      |0.0       |[0.8907535708418821,0.10924642915811783]|\n",
            "|1      |0.0       |[0.8934885438315172,0.10651145616848275]|\n",
            "|1      |0.0       |[0.8945670454913642,0.10543295450863577]|\n",
            "|1      |0.0       |[0.8971881964828461,0.10281180351715391]|\n",
            "|1      |0.0       |[0.8994387080807463,0.10056129191925357]|\n",
            "|1      |0.0       |[0.9008091841941686,0.09919081580583132]|\n",
            "|1      |0.0       |[0.9018428472316968,0.09815715276830322]|\n",
            "|1      |0.0       |[0.9021946289896655,0.09780537101033443]|\n",
            "|1      |0.0       |[0.9035940045792964,0.09640599542070354]|\n",
            "+-------+----------+----------------------------------------+\n",
            "only showing top 10 rows\n",
            "\n"
          ],
          "name": "stdout"
        }
      ]
    },
    {
      "cell_type": "code",
      "metadata": {
        "id": "rkUMGTXwtGqR",
        "colab_type": "code",
        "colab": {
          "base_uri": "https://localhost:8080/",
          "height": 289
        },
        "outputId": "bc2adbdc-08b7-4a96-dd39-a5ba233fcc76"
      },
      "source": [
        "# Aplicando sobre la data Train el modelo identificado\n",
        "train_results=log_reg.evaluate(training_df).predictions\n",
        "# Verificando las probabilidad en los clientes con compra\n",
        "train_results.filter(train_results['Default']==1).select(['Default','prediction','probability']).show(10,False)"
      ],
      "execution_count": 62,
      "outputs": [
        {
          "output_type": "stream",
          "text": [
            "+-------+----------+----------------------------------------+\n",
            "|Default|prediction|probability                             |\n",
            "+-------+----------+----------------------------------------+\n",
            "|1      |0.0       |[0.8986978929295146,0.10130210707048538]|\n",
            "|1      |0.0       |[0.8848377355173312,0.11516226448266886]|\n",
            "|1      |0.0       |[0.8927471888345943,0.10725281116540569]|\n",
            "|1      |0.0       |[0.895779040867928,0.10422095913207202] |\n",
            "|1      |0.0       |[0.9029408180736285,0.09705918192637147]|\n",
            "|1      |0.0       |[0.9088552858008914,0.09114471419910868]|\n",
            "|1      |0.0       |[0.9123505302793428,0.08764946972065726]|\n",
            "|1      |0.0       |[0.9149334371278623,0.08506656287213762]|\n",
            "|1      |0.0       |[0.9158020073293284,0.08419799267067173]|\n",
            "|1      |0.0       |[0.919204591222257,0.08079540877774308] |\n",
            "+-------+----------+----------------------------------------+\n",
            "only showing top 10 rows\n",
            "\n"
          ],
          "name": "stdout"
        }
      ]
    },
    {
      "cell_type": "markdown",
      "metadata": {
        "id": "iX8pFRFzxNkJ",
        "colab_type": "text"
      },
      "source": [
        "# 7. Evaluacion del modelo\n"
      ]
    },
    {
      "cell_type": "code",
      "metadata": {
        "id": "ur0BBkG10kZK",
        "colab_type": "code",
        "colab": {}
      },
      "source": [
        "# Aplicando el modelo predictivo\n",
        "transformed = log_reg.transform(test_df)"
      ],
      "execution_count": 0,
      "outputs": []
    },
    {
      "cell_type": "code",
      "metadata": {
        "id": "jkVLmeh50nLe",
        "colab_type": "code",
        "colab": {
          "base_uri": "https://localhost:8080/",
          "height": 204
        },
        "outputId": "7e526984-586b-4dbd-b436-a00c56d92040"
      },
      "source": [
        "test_df.show(5)"
      ],
      "execution_count": 72,
      "outputs": [
        {
          "output_type": "stream",
          "text": [
            "+-------+---------+\n",
            "|Default| features|\n",
            "+-------+---------+\n",
            "|      0|(5,[],[])|\n",
            "|      0|(5,[],[])|\n",
            "|      0|(5,[],[])|\n",
            "|      0|(5,[],[])|\n",
            "|      0|(5,[],[])|\n",
            "+-------+---------+\n",
            "only showing top 5 rows\n",
            "\n"
          ],
          "name": "stdout"
        }
      ]
    },
    {
      "cell_type": "code",
      "metadata": {
        "id": "TJff4nOT0vUX",
        "colab_type": "code",
        "colab": {
          "base_uri": "https://localhost:8080/",
          "height": 170
        },
        "outputId": "86c05017-e2fa-4fd6-ce5d-59ab5a6de98a"
      },
      "source": [
        "# Revision\n",
        "transformed.show(3,False)"
      ],
      "execution_count": 73,
      "outputs": [
        {
          "output_type": "stream",
          "text": [
            "+-------+---------+----------------------------------------+----------------------------------------+----------+\n",
            "|Default|features |rawPrediction                           |probability                             |prediction|\n",
            "+-------+---------+----------------------------------------+----------------------------------------+----------+\n",
            "|0      |(5,[],[])|[2.6092050058410545,-2.6092050058410545]|[0.9314516537270227,0.06854834627297728]|0.0       |\n",
            "|0      |(5,[],[])|[2.6092050058410545,-2.6092050058410545]|[0.9314516537270227,0.06854834627297728]|0.0       |\n",
            "|0      |(5,[],[])|[2.6092050058410545,-2.6092050058410545]|[0.9314516537270227,0.06854834627297728]|0.0       |\n",
            "+-------+---------+----------------------------------------+----------------------------------------+----------+\n",
            "only showing top 3 rows\n",
            "\n"
          ],
          "name": "stdout"
        }
      ]
    },
    {
      "cell_type": "code",
      "metadata": {
        "id": "ZHVm8zqA03Gh",
        "colab_type": "code",
        "colab": {
          "base_uri": "https://localhost:8080/",
          "height": 231
        },
        "outputId": "347828bf-de3d-4e8c-e279-bf629e8c7cc1"
      },
      "source": [
        "# LLamando a las librerias de evaluacion de modelamiento\n",
        "\n",
        "from pyspark.mllib.evaluation import BinaryClassificationMetrics as metric\n",
        "results = transformed.select(['probability', 'Default'])\n",
        "## prepare score-label set\n",
        "results_collect = results.collect()\n",
        "results_list = [(float(i[0][0]), 1.0-float(i[1])) for i in results_collect]\n",
        "scoreAndLabels = sc.parallelize(results_list)\n",
        " \n",
        "metrics = metric(scoreAndLabels)\n",
        "print(\"The ROC score is (@numTrees=200): \", metrics.areaUnderROC)"
      ],
      "execution_count": 74,
      "outputs": [
        {
          "output_type": "error",
          "ename": "AttributeError",
          "evalue": "ignored",
          "traceback": [
            "\u001b[0;31m---------------------------------------------------------------------------\u001b[0m",
            "\u001b[0;31mAttributeError\u001b[0m                            Traceback (most recent call last)",
            "\u001b[0;32m<ipython-input-74-cee24622ae71>\u001b[0m in \u001b[0;36m<module>\u001b[0;34m()\u001b[0m\n\u001b[1;32m      5\u001b[0m \u001b[0mresults_collect\u001b[0m \u001b[0;34m=\u001b[0m \u001b[0mresults\u001b[0m\u001b[0;34m.\u001b[0m\u001b[0mcollect\u001b[0m\u001b[0;34m(\u001b[0m\u001b[0;34m)\u001b[0m\u001b[0;34m\u001b[0m\u001b[0;34m\u001b[0m\u001b[0m\n\u001b[1;32m      6\u001b[0m \u001b[0mresults_list\u001b[0m \u001b[0;34m=\u001b[0m \u001b[0;34m[\u001b[0m\u001b[0;34m(\u001b[0m\u001b[0mfloat\u001b[0m\u001b[0;34m(\u001b[0m\u001b[0mi\u001b[0m\u001b[0;34m[\u001b[0m\u001b[0;36m0\u001b[0m\u001b[0;34m]\u001b[0m\u001b[0;34m[\u001b[0m\u001b[0;36m0\u001b[0m\u001b[0;34m]\u001b[0m\u001b[0;34m)\u001b[0m\u001b[0;34m,\u001b[0m \u001b[0;36m1.0\u001b[0m\u001b[0;34m-\u001b[0m\u001b[0mfloat\u001b[0m\u001b[0;34m(\u001b[0m\u001b[0mi\u001b[0m\u001b[0;34m[\u001b[0m\u001b[0;36m1\u001b[0m\u001b[0;34m]\u001b[0m\u001b[0;34m)\u001b[0m\u001b[0;34m)\u001b[0m \u001b[0;32mfor\u001b[0m \u001b[0mi\u001b[0m \u001b[0;32min\u001b[0m \u001b[0mresults_collect\u001b[0m\u001b[0;34m]\u001b[0m\u001b[0;34m\u001b[0m\u001b[0;34m\u001b[0m\u001b[0m\n\u001b[0;32m----> 7\u001b[0;31m \u001b[0mscoreAndLabels\u001b[0m \u001b[0;34m=\u001b[0m \u001b[0msc\u001b[0m\u001b[0;34m.\u001b[0m\u001b[0mparallelize\u001b[0m\u001b[0;34m(\u001b[0m\u001b[0mresults_list\u001b[0m\u001b[0;34m)\u001b[0m\u001b[0;34m\u001b[0m\u001b[0;34m\u001b[0m\u001b[0m\n\u001b[0m\u001b[1;32m      8\u001b[0m \u001b[0;34m\u001b[0m\u001b[0m\n\u001b[1;32m      9\u001b[0m \u001b[0mmetrics\u001b[0m \u001b[0;34m=\u001b[0m \u001b[0mmetric\u001b[0m\u001b[0;34m(\u001b[0m\u001b[0mscoreAndLabels\u001b[0m\u001b[0;34m)\u001b[0m\u001b[0;34m\u001b[0m\u001b[0;34m\u001b[0m\u001b[0m\n",
            "\u001b[0;31mAttributeError\u001b[0m: module 'scorecardpy' has no attribute 'parallelize'"
          ]
        }
      ]
    },
    {
      "cell_type": "code",
      "metadata": {
        "id": "63Nh0Z77xsVr",
        "colab_type": "code",
        "colab": {}
      },
      "source": [
        "import matplotlib.pyplot as plt\n",
        "import numpy as np\n",
        "\n",
        "trainingSummary = log_reg.summary\n",
        "roc = trainingSummary.roc.toPandas()\n",
        "plt.plot(roc['FPR'],roc['TPR'])\n",
        "plt.ylabel('False Positive Rate')\n",
        "plt.xlabel('True Positive Rate')\n",
        "plt.title('ROC Curve')\n",
        "plt.show()\n",
        "print('Training set areaUnderROC: ' + str(trainingSummary.areaUnderROC))"
      ],
      "execution_count": 0,
      "outputs": []
    }
  ]
}