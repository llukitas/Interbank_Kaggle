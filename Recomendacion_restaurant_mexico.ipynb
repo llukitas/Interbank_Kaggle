{
  "nbformat": 4,
  "nbformat_minor": 0,
  "metadata": {
    "colab": {
      "name": "Recomendacion_tiporapid.ipynb",
      "provenance": [],
      "toc_visible": true,
      "include_colab_link": true
    },
    "kernelspec": {
      "name": "python3",
      "display_name": "Python 3"
    }
  },
  "cells": [
    {
      "cell_type": "markdown",
      "metadata": {
        "id": "view-in-github",
        "colab_type": "text"
      },
      "source": [
        "<a href=\"https://colab.research.google.com/github/llukitas/Interbank_Kaggle/blob/master/Recomendacion_restaurant_mexico.ipynb\" target=\"_parent\"><img src=\"https://colab.research.google.com/assets/colab-badge.svg\" alt=\"Open In Colab\"/></a>"
      ]
    },
    {
      "cell_type": "markdown",
      "metadata": {
        "id": "oZYjeFl20oa5",
        "colab_type": "text"
      },
      "source": [
        "# 0. Instalacion de utilitarios Pyspark"
      ]
    },
    {
      "cell_type": "markdown",
      "metadata": {
        "id": "HsoSAwbLrOBl",
        "colab_type": "text"
      },
      "source": [
        "#  **03/11/2019**"
      ]
    },
    {
      "cell_type": "code",
      "metadata": {
        "id": "y6zaa4yk0uIV",
        "colab_type": "code",
        "colab": {}
      },
      "source": [
        "!apt-get install openjdk-8-jdk-headless -qq > /dev/null\n",
        "!wget -q https://www-us.apache.org/dist/spark/spark-2.3.4/spark-2.3.4-bin-hadoop2.7.tgz\n",
        "!tar xf spark-2.3.4-bin-hadoop2.7.tgz"
      ],
      "execution_count": 0,
      "outputs": []
    },
    {
      "cell_type": "code",
      "metadata": {
        "id": "c0SmG6708QQ6",
        "colab_type": "code",
        "colab": {}
      },
      "source": [
        "!apt-get install openjdk-8-jdk-headless -qq > /dev/null\n",
        "!wget -q https://www-us.apache.org/dist/spark/spark-2.4.4/spark-2.4.4-bin-hadoop2.7.tgz\n",
        "!tar xf spark-2.4.4-bin-hadoop2.7.tgz\n"
      ],
      "execution_count": 0,
      "outputs": []
    },
    {
      "cell_type": "code",
      "metadata": {
        "id": "tyor71X98igS",
        "colab_type": "code",
        "colab": {}
      },
      "source": [
        "!pip install -q findspark"
      ],
      "execution_count": 0,
      "outputs": []
    },
    {
      "cell_type": "code",
      "metadata": {
        "id": "mRsVKjDvsmoC",
        "colab_type": "code",
        "colab": {}
      },
      "source": [
        "import os\n",
        "os.environ[\"JAVA_HOME\"] = \"/usr/lib/jvm/java-8-openjdk-amd64\"\n",
        "os.environ[\"SPARK_HOME\"] = \"/content/spark-2.4.4-bin-hadoop2.7\"\n"
      ],
      "execution_count": 0,
      "outputs": []
    },
    {
      "cell_type": "code",
      "metadata": {
        "id": "OsNTQa-qsr7j",
        "colab_type": "code",
        "outputId": "af91931e-3f9d-4a3f-98f6-d8a723f98097",
        "colab": {
          "base_uri": "https://localhost:8080/",
          "height": 51
        }
      },
      "source": [
        "!pip install pyspark"
      ],
      "execution_count": 33,
      "outputs": [
        {
          "output_type": "stream",
          "text": [
            "Requirement already satisfied: pyspark in /usr/local/lib/python3.6/dist-packages (2.4.4)\n",
            "Requirement already satisfied: py4j==0.10.7 in /usr/local/lib/python3.6/dist-packages (from pyspark) (0.10.7)\n"
          ],
          "name": "stdout"
        }
      ]
    },
    {
      "cell_type": "code",
      "metadata": {
        "id": "zCKm2w9rswTv",
        "colab_type": "code",
        "colab": {}
      },
      "source": [
        "from pyspark.sql import SparkSession\n",
        "from pyspark import SparkContext\n",
        "spark = SparkSession.builder.master(\"local\").getOrCreate()\n",
        "sc = SparkContext.getOrCreate()"
      ],
      "execution_count": 0,
      "outputs": []
    },
    {
      "cell_type": "markdown",
      "metadata": {
        "id": "NXie2Umg1DZk",
        "colab_type": "text"
      },
      "source": [
        "# 1. Lectura del origen datos"
      ]
    },
    {
      "cell_type": "code",
      "metadata": {
        "id": "W-l6Pu6f1HO9",
        "colab_type": "code",
        "colab": {}
      },
      "source": [
        "# Lectura desde un archivo fisico\n",
        "from google.colab import files\n",
        "uploaded = files.upload()"
      ],
      "execution_count": 0,
      "outputs": []
    },
    {
      "cell_type": "code",
      "metadata": {
        "id": "zZL0PhM88Eys",
        "colab_type": "code",
        "outputId": "07d1712b-d517-4b96-b284-b052fb1e9743",
        "colab": {
          "base_uri": "https://localhost:8080/",
          "height": 54
        }
      },
      "source": [
        "\n",
        "# Conexion al drive\n",
        "#---------------------------\n",
        "from google.colab import drive\n",
        "drive.mount('/content/drive')"
      ],
      "execution_count": 36,
      "outputs": [
        {
          "output_type": "stream",
          "text": [
            "Drive already mounted at /content/drive; to attempt to forcibly remount, call drive.mount(\"/content/drive\", force_remount=True).\n"
          ],
          "name": "stdout"
        }
      ]
    },
    {
      "cell_type": "code",
      "metadata": {
        "id": "BZQDnxtq2G2L",
        "colab_type": "code",
        "outputId": "d3a3b9b8-5fd5-4a25-af69-7ebc18db01b0",
        "colab": {
          "base_uri": "https://localhost:8080/",
          "height": 85
        }
      },
      "source": [
        "ls"
      ],
      "execution_count": 37,
      "outputs": [
        {
          "output_type": "stream",
          "text": [
            "\u001b[0m\u001b[01;34mdrive\u001b[0m/                         spark-2.3.4-bin-hadoop2.7.tgz.1\n",
            "\u001b[01;34msample_data\u001b[0m/                   \u001b[01;34mspark-2.4.4-bin-hadoop2.7\u001b[0m/\n",
            "\u001b[01;34mspark-2.3.4-bin-hadoop2.7\u001b[0m/     spark-2.4.4-bin-hadoop2.7.tgz\n",
            "spark-2.3.4-bin-hadoop2.7.tgz  spark-2.4.4-bin-hadoop2.7.tgz.1\n"
          ],
          "name": "stdout"
        }
      ]
    },
    {
      "cell_type": "markdown",
      "metadata": {
        "id": "ltZocWSm2l9G",
        "colab_type": "text"
      },
      "source": [
        "#2.  Cargando los datos en formato Spark"
      ]
    },
    {
      "cell_type": "code",
      "metadata": {
        "id": "xg8zoYu62uhd",
        "colab_type": "code",
        "outputId": "22c343f1-51ab-4d00-c157-6cb9e97dd9d8",
        "colab": {
          "base_uri": "https://localhost:8080/",
          "height": 204
        }
      },
      "source": [
        "comercio_mex = spark.read.csv('/content/drive/My Drive/AGRARIA_ML/Training R ML en Casos de Negocios/8_Recomendacion_comercio/Comercio_tipo_rappi.csv', sep=';', header=True, inferSchema=True)\n",
        "\n",
        "# 2.1 Revision de formatos \n",
        "comercio_mex.printSchema()"
      ],
      "execution_count": 38,
      "outputs": [
        {
          "output_type": "stream",
          "text": [
            "root\n",
            " |-- userID: string (nullable = true)\n",
            " |-- userID_cod: integer (nullable = true)\n",
            " |-- placeID: integer (nullable = true)\n",
            " |-- Nombre_comerce: string (nullable = true)\n",
            " |-- Distrito: string (nullable = true)\n",
            " |-- rating: integer (nullable = true)\n",
            " |-- food_rating: integer (nullable = true)\n",
            " |-- service_rating: integer (nullable = true)\n",
            " |-- rating_total: integer (nullable = true)\n",
            "\n"
          ],
          "name": "stdout"
        }
      ]
    },
    {
      "cell_type": "code",
      "metadata": {
        "id": "DevCxW045s4B",
        "colab_type": "code",
        "outputId": "d3c532e6-743c-489c-e69e-bcd4e418fb90",
        "colab": {
          "base_uri": "https://localhost:8080/",
          "height": 34
        }
      },
      "source": [
        "# Dimensiona de base\n",
        "print((comercio_mex.count(),len(comercio_mex.columns)))"
      ],
      "execution_count": 39,
      "outputs": [
        {
          "output_type": "stream",
          "text": [
            "(50766, 9)\n"
          ],
          "name": "stdout"
        }
      ]
    },
    {
      "cell_type": "code",
      "metadata": {
        "id": "RBEt1wHV2Zy4",
        "colab_type": "code",
        "outputId": "b1549242-095a-4639-9ee0-51fb0e786b78",
        "colab": {
          "base_uri": "https://localhost:8080/",
          "height": 204
        }
      },
      "source": [
        "# 2.2 Revisiones  \n",
        "comercio_mex.show(5)"
      ],
      "execution_count": 40,
      "outputs": [
        {
          "output_type": "stream",
          "text": [
            "+------+----------+-------+--------------------+---------------+------+-----------+--------------+------------+\n",
            "|userID|userID_cod|placeID|      Nombre_comerce|       Distrito|rating|food_rating|service_rating|rating_total|\n",
            "+------+----------+-------+--------------------+---------------+------+-----------+--------------+------------+\n",
            "| U1077|         1| 135085|Tortas Locas Hipo...|San Luis Potosi|     2|          2|             2|           6|\n",
            "| U1077|         1| 135038|Restaurant la Cha...|San Luis Potosi|     2|          2|             1|           5|\n",
            "| U1077|         1| 132825|     puesto de tacos|         s.l.p.|     2|          2|             2|           6|\n",
            "| U1077|         1| 135060|Restaurante Maris...|San Luis Potosi|     1|          2|             2|           5|\n",
            "| U1068|         2| 135104|                vips|              0|     1|          1|             2|           4|\n",
            "+------+----------+-------+--------------------+---------------+------+-----------+--------------+------------+\n",
            "only showing top 5 rows\n",
            "\n"
          ],
          "name": "stdout"
        }
      ]
    },
    {
      "cell_type": "code",
      "metadata": {
        "id": "qvOhWLekgeAT",
        "colab_type": "code",
        "colab": {
          "base_uri": "https://localhost:8080/",
          "height": 459
        },
        "outputId": "3edf27c0-0d47-462e-9660-22610e01ff89"
      },
      "source": [
        "#df.filter(df.name.contains('o')).collect()\n",
        "comercio_mex.filter(comercio_mex.Distrito.contains('San Luis Potosi')).show()"
      ],
      "execution_count": 41,
      "outputs": [
        {
          "output_type": "stream",
          "text": [
            "+------+----------+-------+--------------------+---------------+------+-----------+--------------+------------+\n",
            "|userID|userID_cod|placeID|      Nombre_comerce|       Distrito|rating|food_rating|service_rating|rating_total|\n",
            "+------+----------+-------+--------------------+---------------+------+-----------+--------------+------------+\n",
            "| U1077|         1| 135085|Tortas Locas Hipo...|San Luis Potosi|     2|          2|             2|           6|\n",
            "| U1077|         1| 135038|Restaurant la Cha...|San Luis Potosi|     2|          2|             1|           5|\n",
            "| U1077|         1| 135060|Restaurante Maris...|San Luis Potosi|     1|          2|             2|           5|\n",
            "| U1015|        12| 135071|Restaurante la Ca...|San Luis Potosi|     0|          0|             0|           0|\n",
            "| U1083|        16| 135034|Michiko Restauran...|San Luis Potosi|     2|          2|             2|           6|\n",
            "| U1083|        16| 135046|Restaurante El Re...|San Luis Potosi|     2|          2|             1|           5|\n",
            "| U1108|        17| 135075|Mariscos El Pescador|San Luis Potosi|     2|          2|             2|           6|\n",
            "| U1108|        17| 132572|        Cafe Chaires|San Luis Potosi|     1|          2|             1|           4|\n",
            "| U1108|        17| 135074|Restaurante la Pa...|San Luis Potosi|     2|          2|             1|           5|\n",
            "| U1108|        17| 135028|         La Virreina|San Luis Potosi|     1|          1|             1|           3|\n",
            "| U1108|        17| 135085|Tortas Locas Hipo...|San Luis Potosi|     1|          2|             1|           4|\n",
            "| U1108|        17| 135032|Cafeteria y Resta...|San Luis Potosi|     2|          1|             2|           5|\n",
            "| U1108|        17| 135086|Mcdonalds Parque ...|San Luis Potosi|     1|          1|             0|           2|\n",
            "| U1108|        17| 135046|Restaurante El Re...|San Luis Potosi|     1|          2|             1|           4|\n",
            "| U1108|        17| 135058|Restaurante Tiberius|San Luis Potosi|     1|          1|             1|           3|\n",
            "| U1055|        34| 135051|Restaurante Versa...|San Luis Potosi|     1|          2|             2|           5|\n",
            "| U1055|        34| 135075|Mariscos El Pescador|San Luis Potosi|     2|          2|             2|           6|\n",
            "| U1055|        34| 132572|        Cafe Chaires|San Luis Potosi|     2|          2|             2|           6|\n",
            "| U1055|        34| 135028|         La Virreina|San Luis Potosi|     2|          2|             2|           6|\n",
            "| U1055|        34| 135025|El Rincon de San ...|San Luis Potosi|     2|          2|             2|           6|\n",
            "+------+----------+-------+--------------------+---------------+------+-----------+--------------+------------+\n",
            "only showing top 20 rows\n",
            "\n"
          ],
          "name": "stdout"
        }
      ]
    },
    {
      "cell_type": "markdown",
      "metadata": {
        "id": "DxNq3HhKhjwv",
        "colab_type": "text"
      },
      "source": [
        "#4. **Codificar los distritos**"
      ]
    },
    {
      "cell_type": "code",
      "metadata": {
        "id": "t-84qbRveqMC",
        "colab_type": "code",
        "colab": {}
      },
      "source": [
        "# Importando el codifocador\n",
        "from pyspark.ml.feature import StringIndexer,IndexToString"
      ],
      "execution_count": 0,
      "outputs": []
    },
    {
      "cell_type": "code",
      "metadata": {
        "id": "ofSzXgqmhhOe",
        "colab_type": "code",
        "colab": {}
      },
      "source": [
        "# Configurando la Numerzación los distritos de Mexico\n",
        "# distrito_new = La codificación de las peliculas\n",
        "stringIndexer = StringIndexer(inputCol=\"Distrito\", outputCol=\"distrito_new\")"
      ],
      "execution_count": 0,
      "outputs": []
    },
    {
      "cell_type": "code",
      "metadata": {
        "id": "SSHUvY3vifjS",
        "colab_type": "code",
        "colab": {}
      },
      "source": [
        "model = stringIndexer.fit(comercio_mex)"
      ],
      "execution_count": 0,
      "outputs": []
    },
    {
      "cell_type": "code",
      "metadata": {
        "id": "nImSMBAfikCh",
        "colab_type": "code",
        "colab": {}
      },
      "source": [
        "#Creando un nuevo Dataframe con el indexado creado\n",
        "comercio_mex_new = model.transform(comercio_mex)"
      ],
      "execution_count": 0,
      "outputs": []
    },
    {
      "cell_type": "code",
      "metadata": {
        "id": "mMMwf25Yis_H",
        "colab_type": "code",
        "colab": {
          "base_uri": "https://localhost:8080/",
          "height": 459
        },
        "outputId": "17835d37-7b10-4e5a-f601-2ae852c4b18c"
      },
      "source": [
        "comercio_mex_new.show()"
      ],
      "execution_count": 46,
      "outputs": [
        {
          "output_type": "stream",
          "text": [
            "+------+----------+-------+--------------------+---------------+------+-----------+--------------+------------+------------+\n",
            "|userID|userID_cod|placeID|      Nombre_comerce|       Distrito|rating|food_rating|service_rating|rating_total|distrito_new|\n",
            "+------+----------+-------+--------------------+---------------+------+-----------+--------------+------------+------------+\n",
            "| U1077|         1| 135085|Tortas Locas Hipo...|San Luis Potosi|     2|          2|             2|           6|         0.0|\n",
            "| U1077|         1| 135038|Restaurant la Cha...|San Luis Potosi|     2|          2|             1|           5|         0.0|\n",
            "| U1077|         1| 132825|     puesto de tacos|         s.l.p.|     2|          2|             2|           6|         5.0|\n",
            "| U1077|         1| 135060|Restaurante Maris...|San Luis Potosi|     1|          2|             2|           5|         0.0|\n",
            "| U1068|         2| 135104|                vips|              0|     1|          1|             2|           4|         1.0|\n",
            "| U1068|         2| 132740|Carreton de Flaut...|Ciudad Victoria|     0|          0|             0|           0|         8.0|\n",
            "| U1068|         2| 132663|           tacos abi|       victoria|     1|          1|             1|           3|         4.0|\n",
            "| U1068|         2| 132732|  Taqueria EL amigo |    Cd Victoria|     0|          0|             0|           0|        14.0|\n",
            "| U1068|         2| 132630|          palomo tec|       victoria|     1|          1|             1|           3|         4.0|\n",
            "| U1067|         3| 132584|  Gorditas Dona Tota|              0|     2|          2|             2|           6|         1.0|\n",
            "| U1067|         3| 132733|       Little Cesarz|Ciudad Victoria|     1|          1|             1|           3|         8.0|\n",
            "| U1067|         3| 132732|  Taqueria EL amigo |    Cd Victoria|     1|          2|             2|           5|        14.0|\n",
            "| U1067|         3| 132630|          palomo tec|       victoria|     1|          0|             1|           2|         4.0|\n",
            "| U1067|         3| 135104|                vips|              0|     0|          0|             0|           0|         1.0|\n",
            "| U1067|         3| 132560|  puesto de gorditas|       victoria|     1|          0|             0|           1|         4.0|\n",
            "| U1103|         4| 132584|  Gorditas Dona Tota|              0|     1|          2|             1|           4|         1.0|\n",
            "| U1103|         4| 132732|  Taqueria EL amigo |    Cd Victoria|     0|          0|             2|           2|        14.0|\n",
            "| U1103|         4| 132630|          palomo tec|       victoria|     1|          2|             0|           3|         4.0|\n",
            "| U1103|         4| 132613|       carnitas_mata|       victoria|     2|          2|             2|           6|         4.0|\n",
            "| U1103|         4| 132667|little pizza Emil...|      victoria |     1|          2|             2|           5|        13.0|\n",
            "+------+----------+-------+--------------------+---------------+------+-----------+--------------+------------+------------+\n",
            "only showing top 20 rows\n",
            "\n"
          ],
          "name": "stdout"
        }
      ]
    },
    {
      "cell_type": "code",
      "metadata": {
        "id": "yzqMLSHch4qv",
        "colab_type": "code",
        "colab": {
          "base_uri": "https://localhost:8080/",
          "height": 1000
        },
        "outputId": "4f6ad283-6fa7-4b67-ef2f-719bc3af6b7c"
      },
      "source": [
        "# 2.5 Los clientes que más vistaron la plataforma de videos\n",
        "comercio_mex_new.groupBy('placeID','Distrito','distrito_new').count().orderBy('count',ascending=False).show(1000,False)"
      ],
      "execution_count": 59,
      "outputs": [
        {
          "output_type": "stream",
          "text": [
            "+-------+----------------+------------+-----+\n",
            "|placeID|Distrito        |distrito_new|count|\n",
            "+-------+----------------+------------+-----+\n",
            "|135085 |San Luis Potosi |0.0         |1641 |\n",
            "|135032 |San Luis Potosi |0.0         |1466 |\n",
            "|132825 |s.l.p.          |5.0         |1387 |\n",
            "|135052 |San Luis Potosi |0.0         |1202 |\n",
            "|135038 |San Luis Potosi |0.0         |1200 |\n",
            "|132834 |san luis potosi |3.0         |1176 |\n",
            "|135060 |San Luis Potosi |0.0         |1017 |\n",
            "|135042 |San Luis Potosi |0.0         |955  |\n",
            "|135062 |San Luis Potosi |0.0         |945  |\n",
            "|135041 |San Luis Potosi |0.0         |836  |\n",
            "|132856 |San Luis Potosi |0.0         |818  |\n",
            "|135025 |San Luis Potosi |0.0         |757  |\n",
            "|135058 |San Luis Potosi |0.0         |753  |\n",
            "|135057 |San Luis Potosi |0.0         |749  |\n",
            "|132862 |San Luis Potosi |0.0         |741  |\n",
            "|135045 |San Luis Potosi |0.0         |727  |\n",
            "|135079 |San Luis Potosi |0.0         |713  |\n",
            "|135051 |San Luis Potosi |0.0         |678  |\n",
            "|135028 |San Luis Potosi |0.0         |667  |\n",
            "|135039 |San Luis Potosi |0.0         |629  |\n",
            "|135064 |San Luis Potosi |0.0         |607  |\n",
            "|135076 |San Luis Potosi |0.0         |592  |\n",
            "|135108 |San Luis Potosi |0.0         |584  |\n",
            "|135066 |San Luis Potosi |0.0         |584  |\n",
            "|132830 |0               |1.0         |581  |\n",
            "|135030 |San Luis Potosi |0.0         |581  |\n",
            "|132572 |San Luis Potosi |0.0         |570  |\n",
            "|132754 |San Luis Potosi |0.0         |558  |\n",
            "|135069 |San Luis Potosi |0.0         |555  |\n",
            "|132723 |0               |1.0         |548  |\n",
            "|132921 |0               |1.0         |547  |\n",
            "|132872 |s.l.p           |9.0         |497  |\n",
            "|135106 |San Luis Potosi |0.0         |483  |\n",
            "|135054 |San Luis Potosi |0.0         |482  |\n",
            "|132768 |cuernavaca      |10.0        |467  |\n",
            "|134996 |Cuernavaca      |2.0         |460  |\n",
            "|135081 |San Luis Potosi |0.0         |459  |\n",
            "|135075 |San Luis Potosi |0.0         |442  |\n",
            "|135021 |Cuernavaca      |2.0         |438  |\n",
            "|135082 |San Luis Potosi |0.0         |436  |\n",
            "|134986 |Cuernavaca      |2.0         |432  |\n",
            "|135027 |San Luis Potosi |0.0         |431  |\n",
            "|135046 |San Luis Potosi |0.0         |421  |\n",
            "|135026 |San Luis Potosi |0.0         |420  |\n",
            "|132851 |San Luis Potosi |0.0         |413  |\n",
            "|135047 |San Luis Potosi |0.0         |411  |\n",
            "|135063 |San Luis Potosi |0.0         |399  |\n",
            "|135071 |San Luis Potosi |0.0         |399  |\n",
            "|135086 |San Luis Potosi |0.0         |397  |\n",
            "|135059 |San Luis Potosi |0.0         |387  |\n",
            "|135070 |San Luis Potosi |0.0         |375  |\n",
            "|132733 |Ciudad Victoria |8.0         |373  |\n",
            "|135043 |Soledad         |7.0         |367  |\n",
            "|135072 |San Luis Potosi |0.0         |357  |\n",
            "|132854 |San Luis Potosi |0.0         |351  |\n",
            "|135065 |San Luis Potosi |0.0         |347  |\n",
            "|132861 |San Luis Potosi |0.0         |345  |\n",
            "|132845 |san luis potosi |3.0         |341  |\n",
            "|135050 |Soledad         |7.0         |338  |\n",
            "|132869 |San Luis Potosi |0.0         |336  |\n",
            "|132951 |San Luis Potosi |0.0         |333  |\n",
            "|135001 |Cuernavaca      |2.0         |320  |\n",
            "|132767 |Jiutepec        |6.0         |320  |\n",
            "|132847 |slp             |11.0        |319  |\n",
            "|135019 |Jiutepec        |6.0         |315  |\n",
            "|132858 |San Luis Potosi |0.0         |290  |\n",
            "|134999 |Cuernavaca      |2.0         |284  |\n",
            "|132875 |0               |1.0         |281  |\n",
            "|135053 |San Luis Potosi |0.0         |270  |\n",
            "|132846 |san luis potosi |12.0        |268  |\n",
            "|135088 |Cuernavaca      |2.0         |266  |\n",
            "|132740 |Ciudad Victoria |8.0         |256  |\n",
            "|135055 |San Luis Potosi |0.0         |238  |\n",
            "|132866 |San Luis Potosi |0.0         |238  |\n",
            "|132870 |San Luis Potosi |0.0         |230  |\n",
            "|135013 |Jiutepec        |6.0         |225  |\n",
            "|132884 |0               |1.0         |225  |\n",
            "|132885 |San Luis Potosi |0.0         |224  |\n",
            "|132584 |0               |1.0         |223  |\n",
            "|135104 |0               |1.0         |218  |\n",
            "|132613 |victoria        |4.0         |218  |\n",
            "|132732 |Cd Victoria     |14.0        |216  |\n",
            "|132608 |victoria        |4.0         |216  |\n",
            "|135000 |Cuernavaca      |2.0         |214  |\n",
            "|135035 |San Luis Potosi |0.0         |213  |\n",
            "|135034 |San Luis Potosi |0.0         |212  |\n",
            "|134976 |0               |1.0         |210  |\n",
            "|134983 |Cuernavaca      |2.0         |210  |\n",
            "|135073 |San Luis Potosi |0.0         |209  |\n",
            "|135033 |San Luis Potosi |0.0         |205  |\n",
            "|135049 |San Luis Potosi |0.0         |205  |\n",
            "|132663 |victoria        |4.0         |199  |\n",
            "|132755 |San Luis Potosi |0.0         |199  |\n",
            "|132922 |0               |1.0         |196  |\n",
            "|132773 |Cuernavaca      |2.0         |193  |\n",
            "|132877 |0               |1.0         |188  |\n",
            "|135018 |Cuernavaca      |2.0         |184  |\n",
            "|132583 |Cuernavaca      |2.0         |180  |\n",
            "|135048 |San Luis Potosi |0.0         |180  |\n",
            "|132630 |victoria        |4.0         |180  |\n",
            "|134987 |Cuernavaca      |2.0         |180  |\n",
            "|132954 |san luis potosi |3.0         |180  |\n",
            "|135080 |San Luis Potosi |0.0         |177  |\n",
            "|135040 |San Luis Potosi |0.0         |177  |\n",
            "|132609 |victoria        |4.0         |171  |\n",
            "|132660 |victoria        |4.0         |169  |\n",
            "|134992 |Cuernavaca      |2.0         |167  |\n",
            "|132766 |Cuernavaca      |2.0         |161  |\n",
            "|135109 |0               |1.0         |155  |\n",
            "|132937 |san luis potosi |3.0         |154  |\n",
            "|132667 |victoria        |13.0        |152  |\n",
            "|132715 |0               |1.0         |152  |\n",
            "|135074 |San Luis Potosi |0.0         |148  |\n",
            "|132594 |0               |1.0         |147  |\n",
            "|132665 |victoria        |4.0         |145  |\n",
            "|135044 |San Luis Potosi |0.0         |144  |\n",
            "|134975 |0               |1.0         |141  |\n",
            "|135011 |Jiutepec        |6.0         |141  |\n",
            "|132925 |0               |1.0         |136  |\n",
            "|135016 |Cuernavaca      |2.0         |135  |\n",
            "|132668 |victoria        |4.0         |133  |\n",
            "|132564 |0               |1.0         |126  |\n",
            "|132958 |san luis potosi |3.0         |118  |\n",
            "|132560 |victoria        |4.0         |109  |\n",
            "|132717 |0               |1.0         |109  |\n",
            "|132626 |victoria        |4.0         |102  |\n",
            "|132561 |0               |1.0         |100  |\n",
            "|132654 |victoria        |13.0        |100  |\n",
            "|132706 |Cd. Victoria    |15.0        |100  |\n",
            "|132955 |san luis potos  |16.0        |99   |\n",
            "+-------+----------------+------------+-----+\n",
            "\n"
          ],
          "name": "stdout"
        }
      ]
    },
    {
      "cell_type": "markdown",
      "metadata": {
        "id": "g2StO-Uvmukv",
        "colab_type": "text"
      },
      "source": [
        "Nota: Data de distritos sucia para la ciudad San Luis de Potosi existen:  **San Luis Potosi ,san luis potosi, s.l.p. , s.l.p ,slp, san luis potosi y san luis potos**\n"
      ]
    },
    {
      "cell_type": "code",
      "metadata": {
        "id": "Gi2wMQeDmtZb",
        "colab_type": "code",
        "colab": {}
      },
      "source": [
        "#filtro de todos aquellos que son diferentes a los antes mecionados\n",
        "data_clean=comercio_mex_new.filter((comercio_mex_new.distrito_new==1) |(comercio_mex_new.distrito_new==2) |(comercio_mex_new.distrito_new==4) |(comercio_mex_new.distrito_new==6) |(comercio_mex_new.distrito_new==7) |(comercio_mex_new.distrito_new==8) |(comercio_mex_new.distrito_new==10) |(comercio_mex_new.distrito_new==13) |(comercio_mex_new.distrito_new==14) |(comercio_mex_new.distrito_new==15) )\n",
        "#df.filter((df.d<5)& (df.col2!=df.col4) & (df.col1==df.col3)).show()"
      ],
      "execution_count": 0,
      "outputs": []
    },
    {
      "cell_type": "code",
      "metadata": {
        "id": "X-fAWXKfrcSH",
        "colab_type": "code",
        "colab": {}
      },
      "source": [
        "#Eliminamos la clasificacion de distritos_new en data:  comercio_mex_new\n",
        "data_clean2=data_clean.drop(\"distrito_new\")"
      ],
      "execution_count": 0,
      "outputs": []
    },
    {
      "cell_type": "code",
      "metadata": {
        "id": "5fjvJfKarn-P",
        "colab_type": "code",
        "colab": {
          "base_uri": "https://localhost:8080/",
          "height": 459
        },
        "outputId": "9aa932ef-82ec-44e9-face-3cdce20cca88"
      },
      "source": [
        "data_clean2.show()"
      ],
      "execution_count": 58,
      "outputs": [
        {
          "output_type": "stream",
          "text": [
            "+------+----------+-------+--------------------+---------------+------+-----------+--------------+------------+\n",
            "|userID|userID_cod|placeID|      Nombre_comerce|       Distrito|rating|food_rating|service_rating|rating_total|\n",
            "+------+----------+-------+--------------------+---------------+------+-----------+--------------+------------+\n",
            "| U1068|         2| 135104|                vips|              0|     1|          1|             2|           4|\n",
            "| U1068|         2| 132740|Carreton de Flaut...|Ciudad Victoria|     0|          0|             0|           0|\n",
            "| U1068|         2| 132663|           tacos abi|       victoria|     1|          1|             1|           3|\n",
            "| U1068|         2| 132732|  Taqueria EL amigo |    Cd Victoria|     0|          0|             0|           0|\n",
            "| U1068|         2| 132630|          palomo tec|       victoria|     1|          1|             1|           3|\n",
            "| U1067|         3| 132584|  Gorditas Dona Tota|              0|     2|          2|             2|           6|\n",
            "| U1067|         3| 132733|       Little Cesarz|Ciudad Victoria|     1|          1|             1|           3|\n",
            "| U1067|         3| 132732|  Taqueria EL amigo |    Cd Victoria|     1|          2|             2|           5|\n",
            "| U1067|         3| 132630|          palomo tec|       victoria|     1|          0|             1|           2|\n",
            "| U1067|         3| 135104|                vips|              0|     0|          0|             0|           0|\n",
            "| U1067|         3| 132560|  puesto de gorditas|       victoria|     1|          0|             0|           1|\n",
            "| U1103|         4| 132584|  Gorditas Dona Tota|              0|     1|          2|             1|           4|\n",
            "| U1103|         4| 132732|  Taqueria EL amigo |    Cd Victoria|     0|          0|             2|           2|\n",
            "| U1103|         4| 132630|          palomo tec|       victoria|     1|          2|             0|           3|\n",
            "| U1103|         4| 132613|       carnitas_mata|       victoria|     2|          2|             2|           6|\n",
            "| U1103|         4| 132667|little pizza Emil...|      victoria |     1|          2|             2|           5|\n",
            "| U1103|         4| 135104|                vips|              0|     1|          2|             0|           3|\n",
            "| U1103|         4| 132663|           tacos abi|       victoria|     1|          0|             2|           3|\n",
            "| U1103|         4| 132733|       Little Cesarz|Ciudad Victoria|     2|          2|             2|           6|\n",
            "| U1107|         5| 132660|carnitas mata cal...|       victoria|     2|          2|             1|           5|\n",
            "+------+----------+-------+--------------------+---------------+------+-----------+--------------+------------+\n",
            "only showing top 20 rows\n",
            "\n"
          ],
          "name": "stdout"
        }
      ]
    },
    {
      "cell_type": "code",
      "metadata": {
        "id": "CpYnf-WM3iun",
        "colab_type": "code",
        "outputId": "ccc7fc51-a4f5-4e39-fee2-e71b27c71b65",
        "colab": {
          "base_uri": "https://localhost:8080/",
          "height": 34
        }
      },
      "source": [
        "# 2.3 Validacion de carga del total de registros\n",
        "print(data_clean2.count())"
      ],
      "execution_count": 60,
      "outputs": [
        {
          "output_type": "stream",
          "text": [
            "13119\n"
          ],
          "name": "stdout"
        }
      ]
    },
    {
      "cell_type": "code",
      "metadata": {
        "id": "7J1Stx2j9KdX",
        "colab_type": "code",
        "outputId": "0c7be840-0749-4c6c-d6cf-b74ecd48d97e",
        "colab": {
          "base_uri": "https://localhost:8080/",
          "height": 207
        }
      },
      "source": [
        "# 2.4 Exploracion inicial\n",
        "data_clean2.describe().show()"
      ],
      "execution_count": 61,
      "outputs": [
        {
          "output_type": "stream",
          "text": [
            "+-------+------+-----------------+------------------+---------------+---------+------------------+------------------+------------------+------------------+\n",
            "|summary|userID|       userID_cod|           placeID| Nombre_comerce| Distrito|            rating|       food_rating|    service_rating|      rating_total|\n",
            "+-------+------+-----------------+------------------+---------------+---------+------------------+------------------+------------------+------------------+\n",
            "|  count| 13119|            13119|             13119|          13119|    13119|             13119|             13119|             13119|             13119|\n",
            "|   mean|  null|51.04619254516351|133677.19262138882|           null|      0.0|1.1938409939781995|1.2661788246055339|1.1077826053815076| 3.567802423965241|\n",
            "| stddev|  null| 41.1619557622561|1124.8149505528338|           null|      0.0|0.7735755590925539|0.8150561188889777|0.7956082473835119|2.1526484597726867|\n",
            "|    min| U1001|                2|            132560|Arrachela Grill|        0|                 0|                 0|                 0|                 0|\n",
            "|    max| U1138|              138|            135109|           vips|victoria |                 2|                 2|                 2|                 6|\n",
            "+-------+------+-----------------+------------------+---------------+---------+------------------+------------------+------------------+------------------+\n",
            "\n"
          ],
          "name": "stdout"
        }
      ]
    },
    {
      "cell_type": "code",
      "metadata": {
        "id": "5UavJB8AASDE",
        "colab_type": "code",
        "outputId": "9c6b3d3e-70af-4337-f63a-e9cb15d0b68f",
        "colab": {
          "base_uri": "https://localhost:8080/",
          "height": 289
        }
      },
      "source": [
        "# 2.5 Los clientes que más usaron la plataforma de delivery \"sin distrito: San Luis de Potosi\"\n",
        "data_clean2.groupBy('userId','userID_cod').count().orderBy('count',ascending=False).show(10,False)"
      ],
      "execution_count": 193,
      "outputs": [
        {
          "output_type": "stream",
          "text": [
            "+------+----------+-----+\n",
            "|userId|userID_cod|count|\n",
            "+------+----------+-----+\n",
            "|U1133 |25        |423  |\n",
            "|U1082 |9         |401  |\n",
            "|U1093 |19        |392  |\n",
            "|U1030 |20        |392  |\n",
            "|U1123 |13        |360  |\n",
            "|U1103 |4         |360  |\n",
            "|U1035 |36        |348  |\n",
            "|U1042 |88        |305  |\n",
            "|U1118 |26        |301  |\n",
            "|U1100 |24        |294  |\n",
            "+------+----------+-----+\n",
            "only showing top 10 rows\n",
            "\n"
          ],
          "name": "stdout"
        }
      ]
    },
    {
      "cell_type": "code",
      "metadata": {
        "id": "F_tkAukCtD3Y",
        "colab_type": "code",
        "colab": {
          "base_uri": "https://localhost:8080/",
          "height": 289
        },
        "outputId": "3a361615-6e43-4cd3-bb60-98117d7f0a46"
      },
      "source": [
        "# 2.5 Los clientes que menos usaron la plataforma de delivery \"sin distrito: San Luis de Potosi\"\n",
        "data_clean2.groupBy('userId','userID_cod').count().orderBy('count',ascending=True).show(10,False)"
      ],
      "execution_count": 194,
      "outputs": [
        {
          "output_type": "stream",
          "text": [
            "+------+----------+-----+\n",
            "|userId|userID_cod|count|\n",
            "+------+----------+-----+\n",
            "|U1136 |128       |19   |\n",
            "|U1049 |70        |20   |\n",
            "|U1112 |118       |20   |\n",
            "|U1057 |119       |20   |\n",
            "|U1001 |39        |35   |\n",
            "|U1088 |41        |35   |\n",
            "|U1081 |38        |35   |\n",
            "|U1092 |98        |38   |\n",
            "|U1015 |12        |38   |\n",
            "|U1033 |106       |38   |\n",
            "+------+----------+-----+\n",
            "only showing top 10 rows\n",
            "\n"
          ],
          "name": "stdout"
        }
      ]
    },
    {
      "cell_type": "code",
      "metadata": {
        "id": "K0TIDmgJMwmI",
        "colab_type": "code",
        "outputId": "e46bc83d-da3d-401e-ba22-c3df417cc9c8",
        "colab": {
          "base_uri": "https://localhost:8080/",
          "height": 459
        }
      },
      "source": [
        "#Restaurnates que visita el cliente que mas utiliza delivery\n",
        "data_clean2.filter(data_clean2['userID']=='U1133').show()"
      ],
      "execution_count": 65,
      "outputs": [
        {
          "output_type": "stream",
          "text": [
            "+------+----------+-------+--------------------+----------+------+-----------+--------------+------------+\n",
            "|userID|userID_cod|placeID|      Nombre_comerce|  Distrito|rating|food_rating|service_rating|rating_total|\n",
            "+------+----------+-------+--------------------+----------+------+-----------+--------------+------------+\n",
            "| U1133|        25| 134983|Restaurant and Ba...|Cuernavaca|     1|          1|             1|           3|\n",
            "| U1133|        25| 134986|Restaurant Las Ma...|Cuernavaca|     2|          2|             2|           6|\n",
            "| U1133|        25| 132766|              Mikasa|Cuernavaca|     1|          1|             0|           2|\n",
            "| U1133|        25| 132767|Restaurant Famili...|  Jiutepec|     0|          0|             0|           0|\n",
            "| U1133|        25| 135021|              Subway|Cuernavaca|     2|          2|             2|           6|\n",
            "| U1133|        25| 135001|                Vips|Cuernavaca|     2|          2|             2|           6|\n",
            "| U1133|        25| 134975|     Rincon del Bife|         0|     1|          1|             1|           3|\n",
            "| U1133|        25| 134992|    Restaurant Teely|Cuernavaca|     1|          2|             1|           4|\n",
            "| U1133|        25| 135019|Restaurant Bar Co...|  Jiutepec|     1|          2|             0|           3|\n",
            "| U1133|        25| 134983|Restaurant and Ba...|Cuernavaca|     1|          1|             1|           3|\n",
            "| U1133|        25| 134986|Restaurant Las Ma...|Cuernavaca|     2|          2|             2|           6|\n",
            "| U1133|        25| 132766|              Mikasa|Cuernavaca|     1|          1|             0|           2|\n",
            "| U1133|        25| 132767|Restaurant Famili...|  Jiutepec|     0|          0|             0|           0|\n",
            "| U1133|        25| 135021|              Subway|Cuernavaca|     2|          2|             2|           6|\n",
            "| U1133|        25| 135001|                Vips|Cuernavaca|     2|          2|             2|           6|\n",
            "| U1133|        25| 134975|     Rincon del Bife|         0|     1|          1|             1|           3|\n",
            "| U1133|        25| 134992|    Restaurant Teely|Cuernavaca|     1|          2|             1|           4|\n",
            "| U1133|        25| 135019|Restaurant Bar Co...|  Jiutepec|     1|          2|             0|           3|\n",
            "| U1133|        25| 134983|Restaurant and Ba...|Cuernavaca|     1|          1|             1|           3|\n",
            "| U1133|        25| 134986|Restaurant Las Ma...|Cuernavaca|     2|          2|             2|           6|\n",
            "+------+----------+-------+--------------------+----------+------+-----------+--------------+------------+\n",
            "only showing top 20 rows\n",
            "\n"
          ],
          "name": "stdout"
        }
      ]
    },
    {
      "cell_type": "code",
      "metadata": {
        "id": "hO-eIVs4A0Is",
        "colab_type": "code",
        "outputId": "636480a7-17fc-4c01-c614-d3416b7441c2",
        "colab": {
          "base_uri": "https://localhost:8080/",
          "height": 289
        }
      },
      "source": [
        "# 2.7  Comercio con mayor pedidos de delivery\n",
        "data_clean2.groupBy('Nombre_comerce').count().orderBy('count',ascending=False).show(10,False)"
      ],
      "execution_count": 66,
      "outputs": [
        {
          "output_type": "stream",
          "text": [
            "+-------------------------------+-----+\n",
            "|Nombre_comerce                 |count|\n",
            "+-------------------------------+-----+\n",
            "|Rincon Huasteco                |581  |\n",
            "|Gordas de morales              |548  |\n",
            "|crudalia                       |547  |\n",
            "|Mariscos Tia Licha             |467  |\n",
            "|Sanborns Casa Piedra           |460  |\n",
            "|Subway                         |438  |\n",
            "|Restaurant Las Mananitas       |432  |\n",
            "|Little Cesarz                  |373  |\n",
            "|pizza clasica                  |367  |\n",
            "|Restaurante la Estrella de Dima|338  |\n",
            "+-------------------------------+-----+\n",
            "only showing top 10 rows\n",
            "\n"
          ],
          "name": "stdout"
        }
      ]
    },
    {
      "cell_type": "code",
      "metadata": {
        "id": "72-1CAMzXvSt",
        "colab_type": "code",
        "outputId": "b6d6f4ec-7ad4-48b7-f305-6fd26029f3c7",
        "colab": {
          "base_uri": "https://localhost:8080/",
          "height": 282
        }
      },
      "source": [
        "#Graficas\n",
        "res= data_clean2.groupBy('Nombre_comerce').count().orderBy('count',ascending=False)\n",
        "red=res.toPandas()\n",
        "import pandas as pd\n",
        "import matplotlib.pyplot as plt\n",
        "import seaborn as sns\n",
        "ax=sns.barplot(x=\"Nombre_comerce\", y=\"count\", data=red)\n",
        "\n"
      ],
      "execution_count": 67,
      "outputs": [
        {
          "output_type": "display_data",
          "data": {
            "image/png": "[encoded data removed]",
            "text/plain": [
              "<Figure size 432x288 with 1 Axes>"
            ]
          },
          "metadata": {
            "tags": []
          }
        }
      ]
    },
    {
      "cell_type": "markdown",
      "metadata": {
        "id": "nhC6tpUw39tn",
        "colab_type": "text"
      },
      "source": [
        "# 3. FEature Engineering: Tansforma pelicula a numero\n",
        "\n"
      ]
    },
    {
      "cell_type": "code",
      "metadata": {
        "id": "h05_VfzA4C1k",
        "colab_type": "code",
        "colab": {}
      },
      "source": [
        "# Importando el codifocador\n",
        "from pyspark.ml.feature import StringIndexer,IndexToString"
      ],
      "execution_count": 0,
      "outputs": []
    },
    {
      "cell_type": "code",
      "metadata": {
        "id": "LBiAQR4tB8ul",
        "colab_type": "code",
        "colab": {}
      },
      "source": [
        "# Configurando la Numerzación los nombres de los comercios\n",
        "# title_new = La codificación de las peliculas\n",
        "stringIndexer2 = StringIndexer(inputCol=\"Nombre_comerce\", outputCol=\"Nombre_comerce_new\")"
      ],
      "execution_count": 0,
      "outputs": []
    },
    {
      "cell_type": "code",
      "metadata": {
        "id": "1Lik8aKaCw_O",
        "colab_type": "code",
        "colab": {}
      },
      "source": [
        "#Aplicando la numerización decomercio\n",
        "model2 = stringIndexer2.fit(data_clean2)"
      ],
      "execution_count": 0,
      "outputs": []
    },
    {
      "cell_type": "code",
      "metadata": {
        "id": "ANbGXtZHDBxt",
        "colab_type": "code",
        "colab": {}
      },
      "source": [
        "#Creando un nuevo Dataframe con el indexado creado\n",
        "indexed2 = model2.transform(data_clean2)"
      ],
      "execution_count": 0,
      "outputs": []
    },
    {
      "cell_type": "code",
      "metadata": {
        "id": "mLkAhgfoCg4X",
        "colab_type": "code",
        "outputId": "778e27be-8a73-4c05-8e7a-40d88ec7224e",
        "colab": {
          "base_uri": "https://localhost:8080/",
          "height": 309
        }
      },
      "source": [
        "#Revision de los indices\n",
        "indexed2.show(10)"
      ],
      "execution_count": 80,
      "outputs": [
        {
          "output_type": "stream",
          "text": [
            "+------+----------+-------+--------------------+---------------+------+-----------+--------------+------------+------------------+\n",
            "|userID|userID_cod|placeID|      Nombre_comerce|       Distrito|rating|food_rating|service_rating|rating_total|Nombre_comerce_new|\n",
            "+------+----------+-------+--------------------+---------------+------+-----------+--------------+------------+------------------+\n",
            "| U1068|         2| 135104|                vips|              0|     1|          1|             2|           4|              21.0|\n",
            "| U1068|         2| 132740|Carreton de Flaut...|Ciudad Victoria|     0|          0|             0|           0|              17.0|\n",
            "| U1068|         2| 132663|           tacos abi|       victoria|     1|          1|             1|           3|              27.0|\n",
            "| U1068|         2| 132732|  Taqueria EL amigo |    Cd Victoria|     0|          0|             0|           0|              22.0|\n",
            "| U1068|         2| 132630|          palomo tec|       victoria|     1|          1|             1|           3|              34.0|\n",
            "| U1067|         3| 132584|  Gorditas Dona Tota|              0|     2|          2|             2|           6|              10.0|\n",
            "| U1067|         3| 132733|       Little Cesarz|Ciudad Victoria|     1|          1|             1|           3|               7.0|\n",
            "| U1067|         3| 132732|  Taqueria EL amigo |    Cd Victoria|     1|          2|             2|           5|              22.0|\n",
            "| U1067|         3| 132630|          palomo tec|       victoria|     1|          0|             1|           2|              34.0|\n",
            "| U1067|         3| 135104|                vips|              0|     0|          0|             0|           0|              21.0|\n",
            "+------+----------+-------+--------------------+---------------+------+-----------+--------------+------------+------------------+\n",
            "only showing top 10 rows\n",
            "\n"
          ],
          "name": "stdout"
        }
      ]
    },
    {
      "cell_type": "code",
      "metadata": {
        "id": "0uDCzdTqDg5D",
        "colab_type": "code",
        "outputId": "db88c3e6-6ecc-46ab-aeb4-4197bac46dfc",
        "colab": {
          "base_uri": "https://localhost:8080/",
          "height": 289
        }
      },
      "source": [
        "#Numero de veces que comercio ha aparecido\n",
        "indexed2.groupBy('Nombre_comerce_new').count().orderBy('count',ascending=False).show(10,False)"
      ],
      "execution_count": 81,
      "outputs": [
        {
          "output_type": "stream",
          "text": [
            "+------------------+-----+\n",
            "|Nombre_comerce_new|count|\n",
            "+------------------+-----+\n",
            "|0.0               |581  |\n",
            "|1.0               |548  |\n",
            "|2.0               |547  |\n",
            "|3.0               |467  |\n",
            "|4.0               |460  |\n",
            "|5.0               |438  |\n",
            "|6.0               |432  |\n",
            "|7.0               |373  |\n",
            "|8.0               |367  |\n",
            "|9.0               |338  |\n",
            "+------------------+-----+\n",
            "only showing top 10 rows\n",
            "\n"
          ],
          "name": "stdout"
        }
      ]
    },
    {
      "cell_type": "markdown",
      "metadata": {
        "id": "xgUobOLemd25",
        "colab_type": "text"
      },
      "source": [
        "# 4. Dividiendo la data en muestra de entrenamiento y validacion\n"
      ]
    },
    {
      "cell_type": "code",
      "metadata": {
        "id": "8ws92PIxmkGs",
        "colab_type": "code",
        "colab": {}
      },
      "source": [
        "#4.1  Data de entrenamiento y validacion\n",
        "train,test=indexed2.randomSplit([0.75,0.25],seed=1234)"
      ],
      "execution_count": 0,
      "outputs": []
    },
    {
      "cell_type": "code",
      "metadata": {
        "id": "AVzr9MGdD_Mi",
        "colab_type": "code",
        "outputId": "d25d2f54-2d90-44bf-a570-c7d1e890093b",
        "colab": {
          "base_uri": "https://localhost:8080/",
          "height": 34
        }
      },
      "source": [
        "# Nro de entrenamiento\n",
        "train.count()"
      ],
      "execution_count": 83,
      "outputs": [
        {
          "output_type": "execute_result",
          "data": {
            "text/plain": [
              "9863"
            ]
          },
          "metadata": {
            "tags": []
          },
          "execution_count": 83
        }
      ]
    },
    {
      "cell_type": "code",
      "metadata": {
        "id": "WYpYCZWtEFCo",
        "colab_type": "code",
        "outputId": "c109b57b-afe4-43ae-f0c9-2777fb0fa19a",
        "colab": {
          "base_uri": "https://localhost:8080/",
          "height": 34
        }
      },
      "source": [
        "# Nro de Validacion\n",
        "test.count()"
      ],
      "execution_count": 84,
      "outputs": [
        {
          "output_type": "execute_result",
          "data": {
            "text/plain": [
              "3256"
            ]
          },
          "metadata": {
            "tags": []
          },
          "execution_count": 84
        }
      ]
    },
    {
      "cell_type": "markdown",
      "metadata": {
        "id": "DzS3l96FELtG",
        "colab_type": "text"
      },
      "source": [
        "# 5. Entrenando el Modelo\n"
      ]
    },
    {
      "cell_type": "code",
      "metadata": {
        "id": "bBgycnsdm9_3",
        "colab_type": "code",
        "colab": {}
      },
      "source": [
        "#Importando el modelo Recomendador ALS\n",
        "from pyspark.sql.functions import *\n",
        "from pyspark.ml.recommendation import ALS\n"
      ],
      "execution_count": 0,
      "outputs": []
    },
    {
      "cell_type": "code",
      "metadata": {
        "id": "spViP-t4EY-7",
        "colab_type": "code",
        "colab": {}
      },
      "source": [
        "#Configuracion del Entrenamiento del modelo Recomendador usando la muetsra de entrenamiento\n",
        "rec=ALS(maxIter=10,regParam=0.01,userCol='userID_cod',itemCol='Nombre_comerce_new',ratingCol='rating_total',nonnegative=True,coldStartStrategy=\"drop\",implicitPrefs=False,seed=1234)\n",
        "\n",
        "# maxIter: El maximo de iteraciones\n",
        "# regParam: Parametro de REgularización\n",
        "# nonnegative: Especificar si se utiliza una restriccion negativa en los Minimos cuadrados\n",
        "# coldStartStrategy: Parametro que elimina cualquier cliente que no tenga informacion\n",
        "# implicitPrefs: Si es implicito hace referencia a feedback no registrado voluntariamente por el cliente"
      ],
      "execution_count": 0,
      "outputs": []
    },
    {
      "cell_type": "code",
      "metadata": {
        "id": "coVXq71IEkIS",
        "colab_type": "code",
        "colab": {}
      },
      "source": [
        "#Entrenando el modelo\n",
        "rec_model=rec.fit(train)"
      ],
      "execution_count": 0,
      "outputs": []
    },
    {
      "cell_type": "code",
      "metadata": {
        "id": "fJxeEWJ5E0c0",
        "colab_type": "code",
        "colab": {}
      },
      "source": [
        "#Haciendo las predicciones en la data de test \n",
        "predicted_ratings=rec_model.transform(test)"
      ],
      "execution_count": 0,
      "outputs": []
    },
    {
      "cell_type": "code",
      "metadata": {
        "id": "m55jvm2gEyCY",
        "colab_type": "code",
        "outputId": "ebb2e8e8-9862-4f52-a60e-870edc23c11e",
        "colab": {
          "base_uri": "https://localhost:8080/",
          "height": 238
        }
      },
      "source": [
        "#Revisando los pronostico\n",
        "predicted_ratings.printSchema()"
      ],
      "execution_count": 155,
      "outputs": [
        {
          "output_type": "stream",
          "text": [
            "root\n",
            " |-- userID: string (nullable = true)\n",
            " |-- userID_cod: integer (nullable = true)\n",
            " |-- placeID: integer (nullable = true)\n",
            " |-- Nombre_comerce: string (nullable = true)\n",
            " |-- Distrito: string (nullable = true)\n",
            " |-- rating: integer (nullable = true)\n",
            " |-- food_rating: integer (nullable = true)\n",
            " |-- service_rating: integer (nullable = true)\n",
            " |-- rating_total: integer (nullable = true)\n",
            " |-- Nombre_comerce_new: double (nullable = false)\n",
            " |-- prediction: float (nullable = false)\n",
            "\n"
          ],
          "name": "stdout"
        }
      ]
    },
    {
      "cell_type": "code",
      "metadata": {
        "id": "h8cfiAWkFHxi",
        "colab_type": "code",
        "outputId": "4b2493ab-c859-441d-cbf9-ca7b979959b0",
        "colab": {
          "base_uri": "https://localhost:8080/",
          "height": 309
        }
      },
      "source": [
        "# Revision rapida de los pronosticos\n",
        "predicted_ratings.orderBy(rand()).show(10)"
      ],
      "execution_count": 156,
      "outputs": [
        {
          "output_type": "stream",
          "text": [
            "+------+----------+-------+--------------------+-----------+------+-----------+--------------+------------+------------------+----------+\n",
            "|userID|userID_cod|placeID|      Nombre_comerce|   Distrito|rating|food_rating|service_rating|rating_total|Nombre_comerce_new|prediction|\n",
            "+------+----------+-------+--------------------+-----------+------+-----------+--------------+------------+------------------+----------+\n",
            "| U1043|       137| 132630|          palomo tec|   victoria|     1|          1|             1|           3|              34.0| 3.0679202|\n",
            "| U1058|       125| 135043|       pizza clasica|    Soledad|     1|          2|             2|           5|               8.0| 4.9758883|\n",
            "| U1082|         9| 132630|          palomo tec|   victoria|     1|          1|             1|           3|              34.0| 2.9588444|\n",
            "| U1082|         9| 132594|tacos de barbacoa...|          0|     0|          0|             0|           0|              42.0|       0.0|\n",
            "| U1072|        27| 135088|   Cafeteria cenidet| Cuernavaca|     0|          1|             0|           1|              16.0|0.99583936|\n",
            "| U1067|         3| 132732|  Taqueria EL amigo |Cd Victoria|     1|          2|             2|           5|              22.0|  4.973959|\n",
            "| U1070|         7| 132613|       carnitas_mata|   victoria|     1|          1|             0|           2|              20.0| 2.0029716|\n",
            "| U1110|        87| 134999|     Kiku Cuernavaca| Cuernavaca|     2|          2|             2|           6|              14.0|    5.9965|\n",
            "| U1123|        13| 135104|                vips|          0|     2|          2|             2|           6|              21.0|  5.946353|\n",
            "| U1128|        92| 132925|         el pueblito|          0|     0|          0|             0|           0|              46.0|       0.0|\n",
            "+------+----------+-------+--------------------+-----------+------+-----------+--------------+------------+------------------+----------+\n",
            "only showing top 10 rows\n",
            "\n"
          ],
          "name": "stdout"
        }
      ]
    },
    {
      "cell_type": "code",
      "metadata": {
        "id": "H5sy0MCST3xP",
        "colab_type": "code",
        "colab": {}
      },
      "source": [
        "# Generando los top 10 peliculas sugeridas por cada cliente\n",
        "userRecs = rec_model.recommendForAllUsers(10)"
      ],
      "execution_count": 0,
      "outputs": []
    },
    {
      "cell_type": "code",
      "metadata": {
        "id": "iXB9FWCpUCEm",
        "colab_type": "code",
        "outputId": "66efaa5b-d50c-4c4d-f55a-4816c24d8131",
        "colab": {
          "base_uri": "https://localhost:8080/",
          "height": 224
        }
      },
      "source": [
        "userRecs.show(5,False)"
      ],
      "execution_count": 158,
      "outputs": [
        {
          "output_type": "stream",
          "text": [
            "+----------+---------------------------------------------------------------------------------------------------------------------------------------------------------------------+\n",
            "|userID_cod|recommendations                                                                                                                                                      |\n",
            "+----------+---------------------------------------------------------------------------------------------------------------------------------------------------------------------+\n",
            "|31        |[[29, 5.0049286], [47, 4.994557], [50, 4.521358], [6, 4.4449306], [3, 4.277436], [16, 3.9851758], [49, 3.9695992], [11, 3.6648827], [32, 3.5985832], [41, 3.5954194]]|\n",
            "|85        |[[9, 7.59154], [33, 6.5666656], [45, 6.143962], [28, 6.0632052], [19, 5.96976], [25, 5.8097057], [52, 5.4136877], [2, 4.9398146], [8, 4.793965], [34, 4.648533]]     |\n",
            "|137       |[[6, 7.335392], [11, 5.4964743], [1, 5.286109], [31, 5.1799607], [50, 5.023314], [3, 4.4521503], [16, 4.448637], [0, 4.350591], [28, 4.293237], [10, 3.8807533]]     |\n",
            "|133       |[[47, 7.86345], [3, 6.966063], [16, 6.618476], [29, 6.45531], [11, 5.8546257], [6, 5.6283674], [32, 5.6258755], [50, 5.346419], [41, 4.9928074], [22, 4.9323373]]    |\n",
            "|108       |[[28, 5.997285], [1, 5.0007586], [36, 4.5952816], [50, 4.3918705], [6, 4.3831882], [48, 4.2510457], [10, 4.163731], [0, 4.0557337], [23, 3.900136], [2, 3.888573]]   |\n",
            "+----------+---------------------------------------------------------------------------------------------------------------------------------------------------------------------+\n",
            "only showing top 5 rows\n",
            "\n"
          ],
          "name": "stdout"
        }
      ]
    },
    {
      "cell_type": "markdown",
      "metadata": {
        "id": "hSEgqY-EpCYi",
        "colab_type": "text"
      },
      "source": [
        "# 5. Evaluación del poder predictivo del modelo\n"
      ]
    },
    {
      "cell_type": "code",
      "metadata": {
        "id": "DmVUSxsmpJ4M",
        "colab_type": "code",
        "outputId": "31d25898-b3f4-4fcd-b73b-5e1a958c27fc",
        "colab": {
          "base_uri": "https://localhost:8080/",
          "height": 479
        }
      },
      "source": [
        "# Creando la columna diferencia del pronostico\n",
        "predicted_ratings_witherr=predicted_ratings.withColumn('err',abs(predicted_ratings.prediction - predicted_ratings.rating))\n",
        "\n",
        "predicted_ratings_witherr.show()"
      ],
      "execution_count": 159,
      "outputs": [
        {
          "output_type": "stream",
          "text": [
            "+------+----------+-------+----------------+----------+------+-----------+--------------+------------+------------------+----------+---------+\n",
            "|userID|userID_cod|placeID|  Nombre_comerce|  Distrito|rating|food_rating|service_rating|rating_total|Nombre_comerce_new|prediction|      err|\n",
            "+------+----------+-------+----------------+----------+------+-----------+--------------+------------+------------------+----------+---------+\n",
            "| U1117|        31| 135018|El Oceano Dorado|Cuernavaca|     1|          1|             1|           3|              31.0| 3.0022976|2.0022976|\n",
            "| U1117|        31| 135018|El Oceano Dorado|Cuernavaca|     1|          1|             1|           3|              31.0| 3.0022976|2.0022976|\n",
            "| U1117|        31| 135018|El Oceano Dorado|Cuernavaca|     1|          1|             1|           3|              31.0| 3.0022976|2.0022976|\n",
            "| U1117|        31| 135018|El Oceano Dorado|Cuernavaca|     1|          1|             1|           3|              31.0| 3.0022976|2.0022976|\n",
            "| U1117|        31| 135018|El Oceano Dorado|Cuernavaca|     1|          1|             1|           3|              31.0| 3.0022976|2.0022976|\n",
            "| U1117|        31| 135018|El Oceano Dorado|Cuernavaca|     1|          1|             1|           3|              31.0| 3.0022976|2.0022976|\n",
            "| U1117|        31| 135018|El Oceano Dorado|Cuernavaca|     1|          1|             1|           3|              31.0| 3.0022976|2.0022976|\n",
            "| U1117|        31| 135018|El Oceano Dorado|Cuernavaca|     1|          1|             1|           3|              31.0| 3.0022976|2.0022976|\n",
            "| U1117|        31| 135018|El Oceano Dorado|Cuernavaca|     1|          1|             1|           3|              31.0| 3.0022976|2.0022976|\n",
            "| U1117|        31| 135018|El Oceano Dorado|Cuernavaca|     1|          1|             1|           3|              31.0| 3.0022976|2.0022976|\n",
            "| U1117|        31| 135018|El Oceano Dorado|Cuernavaca|     1|          1|             1|           3|              31.0| 3.0022976|2.0022976|\n",
            "| U1117|        31| 135018|El Oceano Dorado|Cuernavaca|     1|          1|             1|           3|              31.0| 3.0022976|2.0022976|\n",
            "| U1117|        31| 135018|El Oceano Dorado|Cuernavaca|     1|          1|             1|           3|              31.0| 3.0022976|2.0022976|\n",
            "| U1117|        31| 135018|El Oceano Dorado|Cuernavaca|     1|          1|             1|           3|              31.0| 3.0022976|2.0022976|\n",
            "| U1117|        31| 135018|El Oceano Dorado|Cuernavaca|     1|          1|             1|           3|              31.0| 3.0022976|2.0022976|\n",
            "| U1117|        31| 135018|El Oceano Dorado|Cuernavaca|     1|          1|             1|           3|              31.0| 3.0022976|2.0022976|\n",
            "| U1117|        31| 135018|El Oceano Dorado|Cuernavaca|     1|          1|             1|           3|              31.0| 3.0022976|2.0022976|\n",
            "| U1117|        31| 135018|El Oceano Dorado|Cuernavaca|     1|          1|             1|           3|              31.0| 3.0022976|2.0022976|\n",
            "| U1117|        31| 135018|El Oceano Dorado|Cuernavaca|     1|          1|             1|           3|              31.0| 3.0022976|2.0022976|\n",
            "| U1030|        20| 135018|El Oceano Dorado|Cuernavaca|     2|          2|             2|           6|              31.0|  6.092808| 4.092808|\n",
            "+------+----------+-------+----------------+----------+------+-----------+--------------+------------+------------------+----------+---------+\n",
            "only showing top 20 rows\n",
            "\n"
          ],
          "name": "stdout"
        }
      ]
    },
    {
      "cell_type": "code",
      "metadata": {
        "id": "5c9vbl7Q2b1x",
        "colab_type": "code",
        "outputId": "dc63fab5-b6ef-4549-ab70-73ae207d5ca9",
        "colab": {
          "base_uri": "https://localhost:8080/",
          "height": 221
        }
      },
      "source": [
        "# Distribución de las valoraciones\n",
        "predicted_ratings.groupBy('rating_total').count().orderBy('rating_total',ascending=True).show()"
      ],
      "execution_count": 160,
      "outputs": [
        {
          "output_type": "stream",
          "text": [
            "+------------+-----+\n",
            "|rating_total|count|\n",
            "+------------+-----+\n",
            "|           0|  588|\n",
            "|           1|   88|\n",
            "|           2|  221|\n",
            "|           3|  584|\n",
            "|           4|  460|\n",
            "|           5|  387|\n",
            "|           6|  928|\n",
            "+------------+-----+\n",
            "\n"
          ],
          "name": "stdout"
        }
      ]
    },
    {
      "cell_type": "code",
      "metadata": {
        "id": "GgQi748YvWu7",
        "colab_type": "code",
        "outputId": "b75edd0b-d12e-4d22-abe1-1f7c3d701038",
        "colab": {
          "base_uri": "https://localhost:8080/",
          "height": 221
        }
      },
      "source": [
        "# Error promedio por rating de valoracion\n",
        "predicted_ratings_witherr.groupBy('rating_total').agg({'err':'mean'}).orderBy('rating_total',ascending=True).show()"
      ],
      "execution_count": 161,
      "outputs": [
        {
          "output_type": "stream",
          "text": [
            "+------------+-------------------+\n",
            "|rating_total|           avg(err)|\n",
            "+------------+-------------------+\n",
            "|           0|0.04206375430039523|\n",
            "|           1| 0.7581957985054363|\n",
            "|           2| 1.1649056807902065|\n",
            "|           3| 1.9708965694251126|\n",
            "|           4| 2.8259762131649513|\n",
            "|           5| 3.2504647979440615|\n",
            "|           6| 3.9896978329995583|\n",
            "+------------+-------------------+\n",
            "\n"
          ],
          "name": "stdout"
        }
      ]
    },
    {
      "cell_type": "code",
      "metadata": {
        "id": "JO5oYYa_dnZT",
        "colab_type": "code",
        "outputId": "3384c4d2-48c1-447b-f6da-b482b7ac764b",
        "colab": {
          "base_uri": "https://localhost:8080/",
          "height": 221
        }
      },
      "source": [
        "# Error promedio por rating de valoracion\n",
        "predicted_ratings_witherr.groupBy('rating_total').agg({'err':'std'}).orderBy('rating_total',ascending=True).show()"
      ],
      "execution_count": 162,
      "outputs": [
        {
          "output_type": "stream",
          "text": [
            "+------------+--------------------+\n",
            "|rating_total|         stddev(err)|\n",
            "+------------+--------------------+\n",
            "|           0| 0.05818603571964522|\n",
            "|           1| 0.43536056954824914|\n",
            "|           2|  0.4913301440175618|\n",
            "|           3|  0.1786968924779278|\n",
            "|           4|  0.4345769759537637|\n",
            "|           5| 0.43754517607085286|\n",
            "|           6|0.030965249278859946|\n",
            "+------------+--------------------+\n",
            "\n"
          ],
          "name": "stdout"
        }
      ]
    },
    {
      "cell_type": "code",
      "metadata": {
        "id": "e0uziR670BFM",
        "colab_type": "code",
        "colab": {}
      },
      "source": [
        "#Importando el evaluador de Regresion RMSE \n",
        "from pyspark.ml.evaluation import RegressionEvaluator"
      ],
      "execution_count": 0,
      "outputs": []
    },
    {
      "cell_type": "code",
      "metadata": {
        "id": "XFO3FDV_ysT2",
        "colab_type": "code",
        "colab": {}
      },
      "source": [
        "#Evluando la presición del pronostico\n",
        "evaluator=RegressionEvaluator(metricName='rmse',predictionCol='prediction',labelCol='rating_total')"
      ],
      "execution_count": 0,
      "outputs": []
    },
    {
      "cell_type": "code",
      "metadata": {
        "id": "kP7KuqQbz7UD",
        "colab_type": "code",
        "colab": {}
      },
      "source": [
        "#Evluando el error de pronostico global\n",
        "rmse=evaluator.evaluate(predicted_ratings)"
      ],
      "execution_count": 0,
      "outputs": []
    },
    {
      "cell_type": "code",
      "metadata": {
        "id": "z4fUBfZ03t4Z",
        "colab_type": "code",
        "outputId": "ed78c061-e5d8-4388-d2f5-c9c801d347e2",
        "colab": {
          "base_uri": "https://localhost:8080/",
          "height": 34
        }
      },
      "source": [
        "#Imprimiento el error\n",
        "print(rmse)"
      ],
      "execution_count": 166,
      "outputs": [
        {
          "output_type": "stream",
          "text": [
            "0.038728838847086285\n"
          ],
          "name": "stdout"
        }
      ]
    },
    {
      "cell_type": "markdown",
      "metadata": {
        "id": "KG2wbeNe4hDU",
        "colab_type": "text"
      },
      "source": [
        "# 6. Recomendandor de peliculas, ya listo!"
      ]
    },
    {
      "cell_type": "code",
      "metadata": {
        "id": "06wR5qaF4pLL",
        "colab_type": "code",
        "colab": {}
      },
      "source": [
        "#Listado de comercios unicas\n",
        "unique_movies=indexed2.select('Nombre_comerce_new').distinct()"
      ],
      "execution_count": 0,
      "outputs": []
    },
    {
      "cell_type": "code",
      "metadata": {
        "id": "WIRmCdZNHNfX",
        "colab_type": "code",
        "outputId": "f42edb0c-94d1-4310-839a-8106d6918b41",
        "colab": {
          "base_uri": "https://localhost:8080/",
          "height": 34
        }
      },
      "source": [
        "#Total de peliculas\n",
        "unique_movies.count()"
      ],
      "execution_count": 168,
      "outputs": [
        {
          "output_type": "execute_result",
          "data": {
            "text/plain": [
              "55"
            ]
          },
          "metadata": {
            "tags": []
          },
          "execution_count": 168
        }
      ]
    },
    {
      "cell_type": "code",
      "metadata": {
        "id": "txVjDgJKOThq",
        "colab_type": "code",
        "outputId": "7869cdbd-77c7-4c97-e3b5-df9a5ed7ff31",
        "colab": {
          "base_uri": "https://localhost:8080/",
          "height": 289
        }
      },
      "source": [
        "unique_movies.show(10,False)"
      ],
      "execution_count": 169,
      "outputs": [
        {
          "output_type": "stream",
          "text": [
            "+------------------+\n",
            "|Nombre_comerce_new|\n",
            "+------------------+\n",
            "|8.0               |\n",
            "|0.0               |\n",
            "|7.0               |\n",
            "|49.0              |\n",
            "|29.0              |\n",
            "|47.0              |\n",
            "|42.0              |\n",
            "|44.0              |\n",
            "|35.0              |\n",
            "|18.0              |\n",
            "+------------------+\n",
            "only showing top 10 rows\n",
            "\n"
          ],
          "name": "stdout"
        }
      ]
    },
    {
      "cell_type": "code",
      "metadata": {
        "id": "taX8DiH85XBQ",
        "colab_type": "code",
        "colab": {}
      },
      "source": [
        "#Asignando un alias {a} la lista unica de peliculas\n",
        "a = unique_movies.alias('a')"
      ],
      "execution_count": 0,
      "outputs": []
    },
    {
      "cell_type": "code",
      "metadata": {
        "id": "XBoqyCAU51sv",
        "colab_type": "code",
        "outputId": "79b6b394-51dd-41e8-a4c1-4972d972bad3",
        "colab": {
          "base_uri": "https://localhost:8080/",
          "height": 34
        }
      },
      "source": [
        "# Eligiendo un cliente\n",
        "user_id=25\n",
        "\n",
        "# Creando una tabla que contiene una pelicula por usuario\n",
        "watched_movies=indexed2.filter(indexed2['userID_cod'] == user_id).select('Nombre_comerce_new').distinct()\n",
        "\n",
        "#Numero de peliculas ya evaluadas \n",
        "watched_movies.count()"
      ],
      "execution_count": 171,
      "outputs": [
        {
          "output_type": "execute_result",
          "data": {
            "text/plain": [
              "9"
            ]
          },
          "metadata": {
            "tags": []
          },
          "execution_count": 171
        }
      ]
    },
    {
      "cell_type": "code",
      "metadata": {
        "id": "s9V_iwTDN7ad",
        "colab_type": "code",
        "outputId": "793fecb4-d93f-4051-92fb-5f1f4304c2d8",
        "colab": {
          "base_uri": "https://localhost:8080/",
          "height": 459
        }
      },
      "source": [
        "a.show()"
      ],
      "execution_count": 172,
      "outputs": [
        {
          "output_type": "stream",
          "text": [
            "+------------------+\n",
            "|Nombre_comerce_new|\n",
            "+------------------+\n",
            "|               8.0|\n",
            "|               0.0|\n",
            "|               7.0|\n",
            "|              49.0|\n",
            "|              29.0|\n",
            "|              47.0|\n",
            "|              42.0|\n",
            "|              44.0|\n",
            "|              35.0|\n",
            "|              18.0|\n",
            "|               1.0|\n",
            "|              39.0|\n",
            "|              34.0|\n",
            "|              37.0|\n",
            "|              25.0|\n",
            "|              36.0|\n",
            "|              41.0|\n",
            "|               4.0|\n",
            "|              23.0|\n",
            "|              50.0|\n",
            "+------------------+\n",
            "only showing top 20 rows\n",
            "\n"
          ],
          "name": "stdout"
        }
      ]
    },
    {
      "cell_type": "code",
      "metadata": {
        "id": "oyv-yms65v5v",
        "colab_type": "code",
        "colab": {}
      },
      "source": [
        "# Asignando un alias  {b} ha peliculas que el usuario ya vio de la tabla\n",
        "b=watched_movies.alias('b')"
      ],
      "execution_count": 0,
      "outputs": []
    },
    {
      "cell_type": "code",
      "metadata": {
        "id": "YVVaJzxhOKUS",
        "colab_type": "code",
        "outputId": "e01fabd9-822f-41c2-f0e9-5b245b6d4c1f",
        "colab": {
          "base_uri": "https://localhost:8080/",
          "height": 255
        }
      },
      "source": [
        "b.show()"
      ],
      "execution_count": 174,
      "outputs": [
        {
          "output_type": "stream",
          "text": [
            "+------------------+\n",
            "|Nombre_comerce_new|\n",
            "+------------------+\n",
            "|              44.0|\n",
            "|              37.0|\n",
            "|              11.0|\n",
            "|              38.0|\n",
            "|              13.0|\n",
            "|               6.0|\n",
            "|               5.0|\n",
            "|              26.0|\n",
            "|              12.0|\n",
            "+------------------+\n",
            "\n"
          ],
          "name": "stdout"
        }
      ]
    },
    {
      "cell_type": "code",
      "metadata": {
        "id": "2g1l6cNKIg3N",
        "colab_type": "code",
        "colab": {}
      },
      "source": [
        "#Cruzando ambas tablas\n",
        "total_movies = a.join(b, a.Nombre_comerce_new == b.Nombre_comerce_new,how='left')"
      ],
      "execution_count": 0,
      "outputs": []
    },
    {
      "cell_type": "code",
      "metadata": {
        "id": "oQSPG1WPIyHc",
        "colab_type": "code",
        "outputId": "75bf80d6-e667-40c7-a997-686a543601b6",
        "colab": {
          "base_uri": "https://localhost:8080/",
          "height": 289
        }
      },
      "source": [
        "total_movies.show(10,False)"
      ],
      "execution_count": 176,
      "outputs": [
        {
          "output_type": "stream",
          "text": [
            "+------------------+------------------+\n",
            "|Nombre_comerce_new|Nombre_comerce_new|\n",
            "+------------------+------------------+\n",
            "|8.0               |null              |\n",
            "|0.0               |null              |\n",
            "|7.0               |null              |\n",
            "|49.0              |null              |\n",
            "|29.0              |null              |\n",
            "|47.0              |null              |\n",
            "|42.0              |null              |\n",
            "|44.0              |44.0              |\n",
            "|35.0              |null              |\n",
            "|18.0              |null              |\n",
            "+------------------+------------------+\n",
            "only showing top 10 rows\n",
            "\n"
          ],
          "name": "stdout"
        }
      ]
    },
    {
      "cell_type": "code",
      "metadata": {
        "id": "jTTbDE_oI4Rv",
        "colab_type": "code",
        "colab": {}
      },
      "source": [
        "# Seleccionando peliculas que el cliente aun no ha mirado\n",
        "remaining_movies=total_movies.where(col(\"b.Nombre_comerce_new\").isNull()).select(a.Nombre_comerce_new).distinct()"
      ],
      "execution_count": 0,
      "outputs": []
    },
    {
      "cell_type": "code",
      "metadata": {
        "id": "oNshK4j_JBIG",
        "colab_type": "code",
        "outputId": "5f2be0c6-b438-472a-e3ac-193f02dae7fd",
        "colab": {
          "base_uri": "https://localhost:8080/",
          "height": 459
        }
      },
      "source": [
        "remaining_movies.show()"
      ],
      "execution_count": 178,
      "outputs": [
        {
          "output_type": "stream",
          "text": [
            "+------------------+\n",
            "|Nombre_comerce_new|\n",
            "+------------------+\n",
            "|               8.0|\n",
            "|               0.0|\n",
            "|               7.0|\n",
            "|              49.0|\n",
            "|              29.0|\n",
            "|              47.0|\n",
            "|              42.0|\n",
            "|              35.0|\n",
            "|              18.0|\n",
            "|               1.0|\n",
            "|              39.0|\n",
            "|              34.0|\n",
            "|              25.0|\n",
            "|              36.0|\n",
            "|              41.0|\n",
            "|               4.0|\n",
            "|              23.0|\n",
            "|              50.0|\n",
            "|              45.0|\n",
            "|              31.0|\n",
            "+------------------+\n",
            "only showing top 20 rows\n",
            "\n"
          ],
          "name": "stdout"
        }
      ]
    },
    {
      "cell_type": "code",
      "metadata": {
        "id": "0g1asm_eJMhe",
        "colab_type": "code",
        "outputId": "b6280223-ec29-4dae-eae7-db0f0de97b5e",
        "colab": {
          "base_uri": "https://localhost:8080/",
          "height": 34
        }
      },
      "source": [
        "# Numero de peliculas que los usuario aun no lo ven \n",
        "remaining_movies.count()"
      ],
      "execution_count": 180,
      "outputs": [
        {
          "output_type": "execute_result",
          "data": {
            "text/plain": [
              "46"
            ]
          },
          "metadata": {
            "tags": []
          },
          "execution_count": 180
        }
      ]
    },
    {
      "cell_type": "code",
      "metadata": {
        "id": "ZEualSXXJZfQ",
        "colab_type": "code",
        "colab": {}
      },
      "source": [
        "# Agregando una nueva columna del usuario \n",
        "remaining_movies=remaining_movies.withColumn(\"userID_cod\",lit(int(user_id)))"
      ],
      "execution_count": 0,
      "outputs": []
    },
    {
      "cell_type": "code",
      "metadata": {
        "id": "mYwMGFg2Jr5L",
        "colab_type": "code",
        "outputId": "593a85e9-5eab-4af0-865f-7f1604667510",
        "colab": {
          "base_uri": "https://localhost:8080/",
          "height": 289
        }
      },
      "source": [
        "remaining_movies.show(10,False)"
      ],
      "execution_count": 182,
      "outputs": [
        {
          "output_type": "stream",
          "text": [
            "+------------------+----------+\n",
            "|Nombre_comerce_new|userID_cod|\n",
            "+------------------+----------+\n",
            "|8.0               |25        |\n",
            "|0.0               |25        |\n",
            "|7.0               |25        |\n",
            "|49.0              |25        |\n",
            "|29.0              |25        |\n",
            "|47.0              |25        |\n",
            "|42.0              |25        |\n",
            "|35.0              |25        |\n",
            "|18.0              |25        |\n",
            "|1.0               |25        |\n",
            "+------------------+----------+\n",
            "only showing top 10 rows\n",
            "\n"
          ],
          "name": "stdout"
        }
      ]
    },
    {
      "cell_type": "code",
      "metadata": {
        "id": "9L7S1kfJc8_-",
        "colab_type": "code",
        "colab": {}
      },
      "source": [
        "#Configuracion del Entrenamiento del modelo Recomendador usando la muetsra de entrenamiento\n",
        "rec=ALS(maxIter=10,regParam=0.01,userCol='userID_cod',itemCol='Nombre_comerce_new',ratingCol='rating_total',nonnegative=True,coldStartStrategy=\"drop\",implicitPrefs=False,seed=1234)\n"
      ],
      "execution_count": 0,
      "outputs": []
    },
    {
      "cell_type": "code",
      "metadata": {
        "id": "bDlMnujwdr9m",
        "colab_type": "code",
        "colab": {}
      },
      "source": [
        "rec_model=rec.fit(train)"
      ],
      "execution_count": 0,
      "outputs": []
    },
    {
      "cell_type": "code",
      "metadata": {
        "id": "6VI20fG2Jy-s",
        "colab_type": "code",
        "colab": {}
      },
      "source": [
        "# Haciendo la recomendacion de peliculas utilizando el modelo recomendador ALS y seleccionado solo las mejores top {n} peliculas\n",
        "recommendations=rec_model.transform(remaining_movies).orderBy('prediction',ascending=False)"
      ],
      "execution_count": 0,
      "outputs": []
    },
    {
      "cell_type": "code",
      "metadata": {
        "id": "Vho32qWRKBYz",
        "colab_type": "code",
        "colab": {
          "base_uri": "https://localhost:8080/",
          "height": 204
        },
        "outputId": "ee77607b-52d1-42ac-e86b-d8b3874d4e29"
      },
      "source": [
        "recommendations.show(5,False)"
      ],
      "execution_count": 184,
      "outputs": [
        {
          "output_type": "stream",
          "text": [
            "+------------------+----------+----------+\n",
            "|Nombre_comerce_new|userID_cod|prediction|\n",
            "+------------------+----------+----------+\n",
            "|1.0               |25        |8.330903  |\n",
            "|0.0               |25        |6.718669  |\n",
            "|18.0              |25        |6.6202908 |\n",
            "|28.0              |25        |6.4490824 |\n",
            "|10.0              |25        |6.0675387 |\n",
            "+------------------+----------+----------+\n",
            "only showing top 5 rows\n",
            "\n"
          ],
          "name": "stdout"
        }
      ]
    },
    {
      "cell_type": "code",
      "metadata": {
        "id": "WvNsq2skKF4t",
        "colab_type": "code",
        "colab": {}
      },
      "source": [
        "# Consiguiendo los de las peliculas sugeridas\n",
        "movie_title = IndexToString(inputCol=\"Nombre_comerce_new\", outputCol=\"Nombre_comerce\",labels=model2.labels)\n",
        "\n",
        "final_recommendations=movie_title.transform(recommendations)"
      ],
      "execution_count": 0,
      "outputs": []
    },
    {
      "cell_type": "code",
      "metadata": {
        "id": "cKjoYW7NKNkO",
        "colab_type": "code",
        "colab": {
          "base_uri": "https://localhost:8080/",
          "height": 289
        },
        "outputId": "2834c3e0-9b10-4a3e-a331-ac67845b92ff"
      },
      "source": [
        "final_recommendations.show(10,False)"
      ],
      "execution_count": 190,
      "outputs": [
        {
          "output_type": "stream",
          "text": [
            "+------------------+----------+----------+----------------------+\n",
            "|Nombre_comerce_new|userID_cod|prediction|Nombre_comerce        |\n",
            "+------------------+----------+----------+----------------------+\n",
            "|1.0               |25        |8.330903  |Gordas de morales     |\n",
            "|0.0               |25        |6.718669  |Rincon Huasteco       |\n",
            "|18.0              |25        |6.6202908 |dairy queen           |\n",
            "|28.0              |25        |6.4490824 |cafe punta del cielo  |\n",
            "|10.0              |25        |6.0675387 |Gorditas Dona Tota    |\n",
            "|48.0              |25        |5.4098997 |TACOS EL GUERO        |\n",
            "|21.0              |25        |5.326073  |vips                  |\n",
            "|23.0              |25        |4.7800174 |Hamburguesas La perica|\n",
            "|50.0              |25        |4.647002  |tortas hawai          |\n",
            "|40.0              |25        |4.5214405 |tacos de la estacion  |\n",
            "+------------------+----------+----------+----------------------+\n",
            "only showing top 10 rows\n",
            "\n"
          ],
          "name": "stdout"
        }
      ]
    },
    {
      "cell_type": "markdown",
      "metadata": {
        "id": "qg-eHdVRDZHq",
        "colab_type": "text"
      },
      "source": [
        "# 7. Construyendo las funcion que sugiera una pelicula recomendada segun el modelo recomendador"
      ]
    },
    {
      "cell_type": "code",
      "metadata": {
        "id": "u4LLYAgXDpnL",
        "colab_type": "code",
        "colab": {}
      },
      "source": [
        "# Funcion para recomendar las top n peliculas para cualquier usuario\n",
        "def top_movies(user_id,n):\n",
        "    \"\"\"\n",
        "    This function returns the top 'n' movies that user has not seen yet but might like \n",
        "    \n",
        "    \"\"\"\n",
        "    # Asignación de una lista de peliculas unicas a\n",
        "    a = unique_movies.alias('a')\n",
        "    \n",
        "    # Creando otra tabla que contiene las peliculas que ya vio el usuario\n",
        "    watched_movies=indexed2.filter(indexed2['userID_cod'] == user_id).select('Nombre_comerce_new')\n",
        "    \n",
        "    # Asignanción de tabla de peliculas b de peliculas ya vistas \n",
        "    b=watched_movies.alias('b')\n",
        "    \n",
        "    # Cruce de ambas tablas\n",
        "    total_movies = a.join(b, a.Nombre_comerce_new == b.Nombre_comerce_new,how='left')\n",
        "    \n",
        "    # Seleccionando peliculas que el usuario no ha visto aun \n",
        "    remaining_movies=total_movies.where(col(\"b.Nombre_comerce_new\").isNull()).select(a.Nombre_comerce_new).distinct()\n",
        "        \n",
        "    #Agregando una nueva columan del cliente  \n",
        "    remaining_movies=remaining_movies.withColumn(\"userID_cod\",lit(int(user_id)))\n",
        "    \n",
        "    # REalizando la recomendnado de peliculas mas adecuada utilizando el Sistema de recomendador del modelo ALS y seleccionando las mejores peliculas\n",
        "    recommendations=rec_model.transform(remaining_movies).orderBy('prediction',ascending=False).limit(n)\n",
        "\n",
        "    # Agregando los titulos de las peliculas en texto   \n",
        "    movie_title = IndexToString(inputCol=\"Nombre_comerce_new\", outputCol=\"Nombre_comerce\",labels=model2.labels)\n",
        "    final_recommendations=movie_title.transform(recommendations)\n",
        "    \n",
        "    # Entregando los titutlos recomendado por usuario\n",
        "    return final_recommendations.show(n,False)\n"
      ],
      "execution_count": 0,
      "outputs": []
    },
    {
      "cell_type": "code",
      "metadata": {
        "id": "3o06Kl2nMt2a",
        "colab_type": "code",
        "colab": {
          "base_uri": "https://localhost:8080/",
          "height": 272
        },
        "outputId": "65b3c940-1bd3-4eba-c6b4-4649eff95aaa"
      },
      "source": [
        "# REvision del clientes y las 10 peliculas sugeridas para el cliente\n",
        "top_movies(25,10)"
      ],
      "execution_count": 192,
      "outputs": [
        {
          "output_type": "stream",
          "text": [
            "+------------------+----------+----------+----------------------+\n",
            "|Nombre_comerce_new|userID_cod|prediction|Nombre_comerce        |\n",
            "+------------------+----------+----------+----------------------+\n",
            "|1.0               |25        |8.330903  |Gordas de morales     |\n",
            "|0.0               |25        |6.718669  |Rincon Huasteco       |\n",
            "|18.0              |25        |6.6202908 |dairy queen           |\n",
            "|28.0              |25        |6.4490824 |cafe punta del cielo  |\n",
            "|10.0              |25        |6.0675387 |Gorditas Dona Tota    |\n",
            "|48.0              |25        |5.4098997 |TACOS EL GUERO        |\n",
            "|21.0              |25        |5.326073  |vips                  |\n",
            "|23.0              |25        |4.7800174 |Hamburguesas La perica|\n",
            "|50.0              |25        |4.647002  |tortas hawai          |\n",
            "|40.0              |25        |4.5214405 |tacos de la estacion  |\n",
            "+------------------+----------+----------+----------------------+\n",
            "\n"
          ],
          "name": "stdout"
        }
      ]
    },
    {
      "cell_type": "markdown",
      "metadata": {
        "id": "s2vrgWY65qzK",
        "colab_type": "text"
      },
      "source": [
        "# Mejores restaurantes para clientes mas frecuentes"
      ]
    },
    {
      "cell_type": "code",
      "metadata": {
        "id": "LSZ9IReFibmG",
        "colab_type": "code",
        "colab": {
          "base_uri": "https://localhost:8080/",
          "height": 153
        },
        "outputId": "e6065f3c-c4ad-48e5-ae89-2a29ee762483"
      },
      "source": [
        "#Revision del primer  cliente frecuente y las 3 restaurantes sugeridas para el cliente\n",
        "top_movies(25,3)"
      ],
      "execution_count": 195,
      "outputs": [
        {
          "output_type": "stream",
          "text": [
            "+------------------+----------+----------+-----------------+\n",
            "|Nombre_comerce_new|userID_cod|prediction|Nombre_comerce   |\n",
            "+------------------+----------+----------+-----------------+\n",
            "|1.0               |25        |8.330903  |Gordas de morales|\n",
            "|0.0               |25        |6.718669  |Rincon Huasteco  |\n",
            "|18.0              |25        |6.6202908 |dairy queen      |\n",
            "+------------------+----------+----------+-----------------+\n",
            "\n"
          ],
          "name": "stdout"
        }
      ]
    },
    {
      "cell_type": "code",
      "metadata": {
        "id": "y4O7d0Fp52Zr",
        "colab_type": "code",
        "colab": {
          "base_uri": "https://localhost:8080/",
          "height": 153
        },
        "outputId": "3cd53eed-b7a9-475b-b4f2-f29a347d9e99"
      },
      "source": [
        " #Revision del segundo  cliente frecuente y las 3 restaurantes sugeridas para el cliente\n",
        "top_movies(9,3)"
      ],
      "execution_count": 196,
      "outputs": [
        {
          "output_type": "stream",
          "text": [
            "+------------------+----------+----------+-------------------------------+\n",
            "|Nombre_comerce_new|userID_cod|prediction|Nombre_comerce                 |\n",
            "+------------------+----------+----------+-------------------------------+\n",
            "|52.0              |9         |3.0650146 |la perica hamburguesa          |\n",
            "|9.0               |9         |3.0352867 |Restaurante la Estrella de Dima|\n",
            "|8.0               |9         |2.4274547 |pizza clasica                  |\n",
            "+------------------+----------+----------+-------------------------------+\n",
            "\n"
          ],
          "name": "stdout"
        }
      ]
    },
    {
      "cell_type": "code",
      "metadata": {
        "id": "JFNi2x1a526u",
        "colab_type": "code",
        "colab": {
          "base_uri": "https://localhost:8080/",
          "height": 153
        },
        "outputId": "07d9b0e6-1853-4802-c068-ee6d16e8d96a"
      },
      "source": [
        "#Revision del tercer  cliente frecuente y las 3 restaurantes sugeridas para el cliente\n",
        "top_movies(19,3)"
      ],
      "execution_count": 197,
      "outputs": [
        {
          "output_type": "stream",
          "text": [
            "+------------------+----------+----------+-------------------------------------+\n",
            "|Nombre_comerce_new|userID_cod|prediction|Nombre_comerce                       |\n",
            "+------------------+----------+----------+-------------------------------------+\n",
            "|36.0              |19        |8.112806  |carnitas mata calle Emilio Portes Gil|\n",
            "|7.0               |19        |8.101804  |Little Cesarz                        |\n",
            "|49.0              |19        |7.5440187 |churchs                              |\n",
            "+------------------+----------+----------+-------------------------------------+\n",
            "\n"
          ],
          "name": "stdout"
        }
      ]
    },
    {
      "cell_type": "markdown",
      "metadata": {
        "id": "lNMzFOqy6iTx",
        "colab_type": "text"
      },
      "source": [
        "# Mejores restaurantes para clientes menos frecuentes"
      ]
    },
    {
      "cell_type": "code",
      "metadata": {
        "id": "bGEfEgro5zcN",
        "colab_type": "code",
        "colab": {
          "base_uri": "https://localhost:8080/",
          "height": 153
        },
        "outputId": "21520c48-3798-475f-c610-848d81293eb8"
      },
      "source": [
        "#Revision del primer  cliente menos frecuente y las 3 restaurantes sugeridas para el cliente\n",
        "top_movies(128,3)"
      ],
      "execution_count": 198,
      "outputs": [
        {
          "output_type": "stream",
          "text": [
            "+------------------+----------+----------+-------------------------------------+\n",
            "|Nombre_comerce_new|userID_cod|prediction|Nombre_comerce                       |\n",
            "+------------------+----------+----------+-------------------------------------+\n",
            "|28.0              |128       |8.154572  |cafe punta del cielo                 |\n",
            "|1.0               |128       |7.245825  |Gordas de morales                    |\n",
            "|36.0              |128       |6.4824853 |carnitas mata calle Emilio Portes Gil|\n",
            "+------------------+----------+----------+-------------------------------------+\n",
            "\n"
          ],
          "name": "stdout"
        }
      ]
    },
    {
      "cell_type": "code",
      "metadata": {
        "id": "OOC3pefF6mI2",
        "colab_type": "code",
        "colab": {
          "base_uri": "https://localhost:8080/",
          "height": 153
        },
        "outputId": "cf3a5b41-1e20-47c0-b2bd-9480fda075e5"
      },
      "source": [
        "#Revision del primer  cliente menos frecuente y las 3 restaurantes sugeridas para el cliente\n",
        "top_movies(70,3)"
      ],
      "execution_count": 199,
      "outputs": [
        {
          "output_type": "stream",
          "text": [
            "+------------------+----------+----------+----------------+\n",
            "|Nombre_comerce_new|userID_cod|prediction|Nombre_comerce  |\n",
            "+------------------+----------+----------+----------------+\n",
            "|31.0              |70        |0.0       |El Oceano Dorado|\n",
            "|53.0              |70        |0.0       |cafe ambar      |\n",
            "|34.0              |70        |0.0       |palomo tec      |\n",
            "+------------------+----------+----------+----------------+\n",
            "\n"
          ],
          "name": "stdout"
        }
      ]
    },
    {
      "cell_type": "code",
      "metadata": {
        "id": "2ZZHbRl96m7i",
        "colab_type": "code",
        "colab": {
          "base_uri": "https://localhost:8080/",
          "height": 153
        },
        "outputId": "290ea9c8-c25a-4b2f-e16e-a061d0aa7b57"
      },
      "source": [
        "#Revision del primer  cliente menos frecuente y las 3 restaurantes sugeridas para el cliente\n",
        "top_movies(118,3)"
      ],
      "execution_count": 200,
      "outputs": [
        {
          "output_type": "stream",
          "text": [
            "+------------------+----------+----------+-------------------------------------+\n",
            "|Nombre_comerce_new|userID_cod|prediction|Nombre_comerce                       |\n",
            "+------------------+----------+----------+-------------------------------------+\n",
            "|28.0              |118       |1.3590955 |cafe punta del cielo                 |\n",
            "|1.0               |118       |1.2076374 |Gordas de morales                    |\n",
            "|36.0              |118       |1.0804143 |carnitas mata calle Emilio Portes Gil|\n",
            "+------------------+----------+----------+-------------------------------------+\n",
            "\n"
          ],
          "name": "stdout"
        }
      ]
    }
  ]
}