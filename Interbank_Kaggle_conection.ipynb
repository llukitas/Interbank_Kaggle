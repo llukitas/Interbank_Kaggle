{
  "nbformat": 4,
  "nbformat_minor": 0,
  "metadata": {
    "colab": {
      "name": "Interbank_Kaggle_conection.ipynb",
      "provenance": [],
      "toc_visible": true,
      "include_colab_link": true
    },
    "kernelspec": {
      "name": "python3",
      "display_name": "Python 3"
    }
  },
  "cells": [
    {
      "cell_type": "markdown",
      "metadata": {
        "id": "view-in-github",
        "colab_type": "text"
      },
      "source": [
        "<a href=\"https://colab.research.google.com/github/llukitas/Interbank_Kaggle/blob/master/Interbank_Kaggle_conection.ipynb\" target=\"_parent\"><img src=\"https://colab.research.google.com/assets/colab-badge.svg\" alt=\"Open In Colab\"/></a>"
      ]
    },
    {
      "cell_type": "markdown",
      "metadata": {
        "id": "oZYjeFl20oa5",
        "colab_type": "text"
      },
      "source": [
        "# 0. Instalacion de utilitarios Pyspark"
      ]
    },
    {
      "cell_type": "code",
      "metadata": {
        "id": "y6zaa4yk0uIV",
        "colab_type": "code",
        "colab": {}
      },
      "source": [
        "!apt-get install openjdk-8-jdk-headless -qq > /dev/null\n",
        "!wget -q https://www-us.apache.org/dist/spark/spark-2.3.4/spark-2.3.4-bin-hadoop2.7.tgz\n",
        "!tar xf spark-2.3.4-bin-hadoop2.7.tgz"
      ],
      "execution_count": 0,
      "outputs": []
    },
    {
      "cell_type": "code",
      "metadata": {
        "id": "c0SmG6708QQ6",
        "colab_type": "code",
        "colab": {}
      },
      "source": [
        "!apt-get install openjdk-8-jdk-headless -qq > /dev/null\n",
        "!wget -q https://www-us.apache.org/dist/spark/spark-2.4.4/spark-2.4.4-bin-hadoop2.7.tgz\n",
        "!tar xf spark-2.4.4-bin-hadoop2.7.tgz\n"
      ],
      "execution_count": 0,
      "outputs": []
    },
    {
      "cell_type": "code",
      "metadata": {
        "id": "tyor71X98igS",
        "colab_type": "code",
        "colab": {}
      },
      "source": [
        "!pip install -q findspark"
      ],
      "execution_count": 0,
      "outputs": []
    },
    {
      "cell_type": "code",
      "metadata": {
        "id": "mRsVKjDvsmoC",
        "colab_type": "code",
        "colab": {}
      },
      "source": [
        "import os\n",
        "os.environ[\"JAVA_HOME\"] = \"/usr/lib/jvm/java-8-openjdk-amd64\"\n",
        "os.environ[\"SPARK_HOME\"] = \"/content/spark-2.4.4-bin-hadoop2.7\"\n"
      ],
      "execution_count": 0,
      "outputs": []
    },
    {
      "cell_type": "code",
      "metadata": {
        "id": "OsNTQa-qsr7j",
        "colab_type": "code",
        "outputId": "7b32d05b-d570-464d-c5c1-b4548150c9e1",
        "colab": {
          "base_uri": "https://localhost:8080/",
          "height": 51
        }
      },
      "source": [
        "!pip install pyspark"
      ],
      "execution_count": 42,
      "outputs": [
        {
          "output_type": "stream",
          "text": [
            "Requirement already satisfied: pyspark in /usr/local/lib/python3.6/dist-packages (2.4.4)\n",
            "Requirement already satisfied: py4j==0.10.7 in /usr/local/lib/python3.6/dist-packages (from pyspark) (0.10.7)\n"
          ],
          "name": "stdout"
        }
      ]
    },
    {
      "cell_type": "code",
      "metadata": {
        "id": "zCKm2w9rswTv",
        "colab_type": "code",
        "colab": {}
      },
      "source": [
        "from pyspark.sql import SparkSession\n",
        "from pyspark import SparkContext\n",
        "spark = SparkSession.builder.master(\"local\").getOrCreate()\n",
        "sc = SparkContext.getOrCreate()"
      ],
      "execution_count": 0,
      "outputs": []
    },
    {
      "cell_type": "markdown",
      "metadata": {
        "id": "NXie2Umg1DZk",
        "colab_type": "text"
      },
      "source": [
        "# 1. Lectura del origen datos"
      ]
    },
    {
      "cell_type": "code",
      "metadata": {
        "id": "fz_202bh06pG",
        "colab_type": "code",
        "colab": {}
      },
      "source": [
        "# Required libraries\n",
        "import json \n",
        "import zipfile\n",
        "import os\n",
        "import pandas as pd\n",
        "from PIL import Image\n",
        "import random"
      ],
      "execution_count": 0,
      "outputs": []
    },
    {
      "cell_type": "code",
      "metadata": {
        "id": "AJxA3_UV1THD",
        "colab_type": "code",
        "outputId": "7f3a8b5a-f483-4efe-b32b-229d871f9a4b",
        "colab": {
          "base_uri": "https://localhost:8080/",
          "height": 241
        }
      },
      "source": [
        "!pip install kaggle\n",
        "!mkdir ~/.kaggle\n",
        "!touch '/root/.kaggle/kaggle.json'\n",
        "###############################################\n",
        "# IMPORTANTE \n",
        "# Copia en la siguiente línea el contenido de tu archivo kaggle.json \n",
        "api_token = {\"username\":\"gerardolucas\",\"key\":\"444461feeef02a392fb2fd368d5fa8b2\"}\n",
        "###############################################\n",
        "with open('/root/.kaggle/kaggle.json', 'w') as file:\n",
        " json.dump(api_token, file)\n",
        "!chmod 600 /root/.kaggle/kaggle.json"
      ],
      "execution_count": 45,
      "outputs": [
        {
          "output_type": "stream",
          "text": [
            "Requirement already satisfied: kaggle in /usr/local/lib/python3.6/dist-packages (1.5.6)\n",
            "Requirement already satisfied: urllib3<1.25,>=1.21.1 in /usr/local/lib/python3.6/dist-packages (from kaggle) (1.24.3)\n",
            "Requirement already satisfied: six>=1.10 in /usr/local/lib/python3.6/dist-packages (from kaggle) (1.12.0)\n",
            "Requirement already satisfied: certifi in /usr/local/lib/python3.6/dist-packages (from kaggle) (2019.9.11)\n",
            "Requirement already satisfied: python-slugify in /usr/local/lib/python3.6/dist-packages (from kaggle) (4.0.0)\n",
            "Requirement already satisfied: tqdm in /usr/local/lib/python3.6/dist-packages (from kaggle) (4.28.1)\n",
            "Requirement already satisfied: requests in /usr/local/lib/python3.6/dist-packages (from kaggle) (2.21.0)\n",
            "Requirement already satisfied: python-dateutil in /usr/local/lib/python3.6/dist-packages (from kaggle) (2.6.1)\n",
            "Requirement already satisfied: text-unidecode>=1.3 in /usr/local/lib/python3.6/dist-packages (from python-slugify->kaggle) (1.3)\n",
            "Requirement already satisfied: idna<2.9,>=2.5 in /usr/local/lib/python3.6/dist-packages (from requests->kaggle) (2.8)\n",
            "Requirement already satisfied: chardet<3.1.0,>=3.0.2 in /usr/local/lib/python3.6/dist-packages (from requests->kaggle) (3.0.4)\n",
            "mkdir: cannot create directory ‘/root/.kaggle’: File exists\n"
          ],
          "name": "stdout"
        }
      ]
    },
    {
      "cell_type": "code",
      "metadata": {
        "id": "9xCSgJKP1ubg",
        "colab_type": "code",
        "outputId": "923d52b6-03f8-4c8c-a5cd-6e137bb87c37",
        "colab": {
          "base_uri": "https://localhost:8080/",
          "height": 170
        }
      },
      "source": [
        "!kaggle competitions download -c interbank-internacional-2019"
      ],
      "execution_count": 46,
      "outputs": [
        {
          "output_type": "stream",
          "text": [
            "Warning: Looks like you're using an outdated API Version, please consider updating (server 1.5.6 / client 1.5.4)\n",
            "ib_base_sunat.csv.zip: Skipping, found more recently modified local copy (use --force to force download)\n",
            "ib_base_campanias.csv.zip: Skipping, found more recently modified local copy (use --force to force download)\n",
            "ib_base_digital.csv.zip: Skipping, found more recently modified local copy (use --force to force download)\n",
            "ib_base_vehicular.csv.zip: Skipping, found more recently modified local copy (use --force to force download)\n",
            "ib_base_reniec.csv.zip: Skipping, found more recently modified local copy (use --force to force download)\n",
            "ib_base_rcc.csv.zip: Skipping, found more recently modified local copy (use --force to force download)\n",
            "ib_base_inicial_train.csv.zip: Skipping, found more recently modified local copy (use --force to force download)\n",
            "ib_base_inicial_test.csv.zip: Skipping, found more recently modified local copy (use --force to force download)\n"
          ],
          "name": "stdout"
        }
      ]
    },
    {
      "cell_type": "code",
      "metadata": {
        "id": "BZQDnxtq2G2L",
        "colab_type": "code",
        "outputId": "176ed472-983d-41eb-80fa-f840d5d9c635",
        "colab": {
          "base_uri": "https://localhost:8080/",
          "height": 221
        }
      },
      "source": [
        "ls"
      ],
      "execution_count": 55,
      "outputs": [
        {
          "output_type": "stream",
          "text": [
            "ib_base_campanias.csv          ib_base_sunat.csv\n",
            "ib_base_campanias.csv.zip      ib_base_sunat.csv.zip\n",
            "ib_base_digital.csv            ib_base_vehicular.csv\n",
            "ib_base_digital.csv.zip        ib_base_vehicular.csv.zip\n",
            "ib_base_inicial_test.csv       \u001b[0m\u001b[01;34msample_data\u001b[0m/\n",
            "ib_base_inicial_test.csv.zip   \u001b[01;34mspark-2.3.4-bin-hadoop2.7\u001b[0m/\n",
            "ib_base_inicial_train.csv      spark-2.3.4-bin-hadoop2.7.tgz\n",
            "ib_base_inicial_train.csv.zip  spark-2.3.4-bin-hadoop2.7.tgz.1\n",
            "ib_base_rcc.csv                \u001b[01;34mspark-2.4.4-bin-hadoop2.7\u001b[0m/\n",
            "ib_base_rcc.csv.zip            spark-2.4.4-bin-hadoop2.7.tgz\n",
            "ib_base_reniec.csv             spark-2.4.4-bin-hadoop2.7.tgz.1\n",
            "ib_base_reniec.csv.zip\n"
          ],
          "name": "stdout"
        }
      ]
    },
    {
      "cell_type": "code",
      "metadata": {
        "id": "dNshU6H33ACc",
        "colab_type": "code",
        "colab": {}
      },
      "source": [
        "for file in os.listdir():\n",
        " if file.endswith('.zip'):\n",
        "  zip_ref = zipfile.ZipFile(file, 'r')\n",
        "  zip_ref.extractall()\n",
        "  zip_ref.close()"
      ],
      "execution_count": 0,
      "outputs": []
    },
    {
      "cell_type": "code",
      "metadata": {
        "id": "LieiTCNb3IK9",
        "colab_type": "code",
        "colab": {}
      },
      "source": [
        "train=spark.read.csv('/content/ib_base_inicial_train.csv',sep=',', header=True, inferSchema=True)\n",
        "sunat= spark.read.csv('/content/ib_base_sunat.csv',sep=',', header=True, inferSchema=True)\n",
        "p_test=spark.read.csv('/content/ib_base_inicial_test.csv',sep=',',header=True,inferSchema=True)\n",
        "reniec=spark.read.csv('/content/ib_base_reniec.csv',sep=',', header=True, inferSchema=True)\n",
        "vehicular= spark.read.csv('/content/ib_base_vehicular.csv',sep=',', header=True, inferSchema=True)\n",
        "campanhas=spark.read.csv('/content/ib_base_campanias.csv',sep=',',header=True,inferSchema=True)\n",
        "digital=spark.read.csv('/content/ib_base_digital.csv',sep=',',header=True,inferSchema=True)\n",
        "rcc=spark.read.csv('/content/ib_base_rcc.csv',sep=',',header=True,inferSchema=True)\n"
      ],
      "execution_count": 0,
      "outputs": []
    },
    {
      "cell_type": "code",
      "metadata": {
        "id": "7qQ2JeQw3zTG",
        "colab_type": "code",
        "outputId": "73396e7b-2afb-4b31-d1fd-ca1c96584936",
        "colab": {
          "base_uri": "https://localhost:8080/",
          "height": 1000
        }
      },
      "source": [
        "train.show(5)\n",
        "sunat.show(5)\n",
        "p_test.show(5)\n",
        "reniec.show(5)\n",
        "vehicular.show(5)\n",
        "campanhas.show(5)\n",
        "digital.show(5)\n",
        "rcc.show(5)"
      ],
      "execution_count": 49,
      "outputs": [
        {
          "output_type": "stream",
          "text": [
            "+------+----------+---------+------+-----+------------+--------------+\n",
            "|codmes|id_persona|codtarget|margen|  cem|ingreso_neto|linea_ofrecida|\n",
            "+------+----------+---------+------+-----+------------+--------------+\n",
            "|201901|    165747|        0|  -5.0|  1.0|      1781.0|          1700|\n",
            "|201903|    100117|        0|  -5.0|478.0|      2106.0|          2100|\n",
            "|201901|     65751|        1|342.99|687.0|      3083.0|          4600|\n",
            "|201901|     58047|        0|  -5.0|182.0|      1814.0|          3600|\n",
            "|201901|    113221|        0|  -5.0|582.0|      2153.0|          4300|\n",
            "+------+----------+---------+------+-----+------------+--------------+\n",
            "only showing top 5 rows\n",
            "\n",
            "+----------+-----------+----------+\n",
            "|id_persona|activ_econo|meses_alta|\n",
            "+----------+-----------+----------+\n",
            "|    174454|   Grupo_11|        70|\n",
            "|    245154|   Grupo_15|        27|\n",
            "|      1211|   Grupo_07|        20|\n",
            "|    146154|   Grupo_15|       135|\n",
            "|     87697|   Grupo_07|        55|\n",
            "+----------+-----------+----------+\n",
            "only showing top 5 rows\n",
            "\n",
            "+------+----------+------+------------+--------------+-------------+\n",
            "|codmes|id_persona|   cem|ingreso_neto|linea_ofrecida|prediction_id|\n",
            "+------+----------+------+------------+--------------+-------------+\n",
            "|201907|    123381|   1.0|      1340.0|          2600|123381_201907|\n",
            "|201906|    125277|1412.0|      3166.0|          4700|125277_201906|\n",
            "|201906|      9564| 389.0|      2575.0|          5100|  9564_201906|\n",
            "|201906|    249494| 302.0|      1355.0|          1300|249494_201906|\n",
            "|201907|    131234|2130.0|     10486.0|         52400|131234_201907|\n",
            "+------+----------+------+------------+--------------+-------------+\n",
            "only showing top 5 rows\n",
            "\n",
            "+----------+------------------+--------+--------+--------+--------+--------+\n",
            "|id_persona|          soc_var1|soc_var2|soc_var3|soc_var4|soc_var5|soc_var6|\n",
            "+----------+------------------+--------+--------+--------+--------+--------+\n",
            "|    219861|0.8867924528301887|       4|       2|       6|       5|    10.0|\n",
            "|    105627|0.6415094339622642|       4|       2|       1|       2|     8.0|\n",
            "|     94514|0.4905660377358491|       4|       2|       6|       5|    10.0|\n",
            "|     55357|0.5849056603773584|       4|       2|       6|       5|     1.0|\n",
            "|     79861|0.6037735849056604|       4|       1|       6|       5|     9.0|\n",
            "+----------+------------------+--------+--------+--------+--------+--------+\n",
            "only showing top 5 rows\n",
            "\n",
            "+----------+-------+------------------+--------+\n",
            "|id_persona|  marca|          veh_var1|veh_var2|\n",
            "+----------+-------+------------------+--------+\n",
            "|     14908|  ACURA|0.9428571428571428|  3376.0|\n",
            "|    227555|ADVANCE|0.9857142857142857|  3426.0|\n",
            "|    211938|    AKT|               1.0|  3426.0|\n",
            "|     20772| ALESIN|0.9857142857142857|  3424.0|\n",
            "|     75985| ALESIN|0.9857142857142857|  3424.0|\n",
            "+----------+-------+------------------+--------+\n",
            "only showing top 5 rows\n",
            "\n",
            "+------+----------+--------------------+--------------+\n",
            "|codmes|id_persona|            producto|canal_asignado|\n",
            "+------+----------+--------------------+--------------+\n",
            "|201801|    213598|  Adelanto de Sueldo|RED DE TIENDAS|\n",
            "|201801|    237325|  Adelanto de Sueldo|RED DE TIENDAS|\n",
            "|201801|     82808|Adquisición Conve...|          FFVV|\n",
            "|201801|     90555|Adquisición Conve...|          FFVV|\n",
            "|201801|     93408|Adquisición Conve...|          FFVV|\n",
            "+------+----------+--------------------+--------------+\n",
            "only showing top 5 rows\n",
            "\n",
            "+--------+----------+-------------+-------+-----+--------+----+-----+-----+-----+-------+-------+--------+--------+-------------+--------------+--------------+---------+----------+-----------+-------+--------+------+--------+--------+------+---------+--------+--------+----+-----+-------+------+\n",
            "|  codday|id_persona|simu_prestamo|benefit|email|facebook|goog|youtb|compb|movil|desktop|n_rep30|recencia|lima_dig|provincia_dig|extranjero_dig|time_ctasimple|time_mllp|time_mllst|time_ctasld|time_tc|n_sesion|busqtc|busqvisa|busqamex|busqmc|busqcsimp|busqmill|busqcsld|busq|n_pag|android|iphone|\n",
            "+--------+----------+-------------+-------+-----+--------+----+-----+-----+-----+-------+-------+--------+--------+-------------+--------------+--------------+---------+----------+-----------+-------+--------+------+--------+--------+------+---------+--------+--------+----+-----+-------+------+\n",
            "|20181204|     99258|          0.0|      0|    0|       1|   0|    0|    0|    1|      0|      1|     1.0|       0|            1|             0|           0.0|      0.0|       0.0|        0.0|    0.0|       1|     0|       0|       0|     0|        0|       0|       0|   0|    2|    8.0|  null|\n",
            "|20181102|     99258|          0.0|      0|    0|       1|   0|    0|    0|    1|      0|      0|   100.0|       1|            0|             0|           0.0|      0.0|       0.0|        0.0|    0.0|       1|     0|       0|       0|     0|        0|       0|       0|   0|    2|    8.0|  null|\n",
            "|20181203|     99258|          0.0|      0|    0|       2|   0|    0|    0|    2|      0|      1|     8.0|       0|            1|             0|           0.0|      0.0|       0.0|        0.0|    0.0|       2|     0|       0|       0|     0|        0|       0|       0|   0|    4|    8.0|  null|\n",
            "|20181118|     99258|          0.0|      0|    0|       1|   0|    0|    0|    1|      0|      1|     8.0|       1|            0|             0|           0.0|      0.0|       0.0|        0.0|    0.0|       1|     0|       0|       0|     0|        0|       0|       0|   0|    1|    8.0|  null|\n",
            "|20190402|    147297|          0.0|      0|    0|       1|   0|    0|    0|    1|      0|      0|   100.0|       0|            1|             0|           0.0|      0.0|       0.0|        0.0|    0.0|       1|     0|       0|       0|     0|        0|       0|       0|   0|    5|    8.0|  null|\n",
            "+--------+----------+-------------+-------+-----+--------+----+-----+-----+-----+-------+-------+--------+--------+-------------+--------------+--------------+---------+----------+-----------+-------+--------+------+--------+--------+------+---------+--------+--------+----+-----+-------+------+\n",
            "only showing top 5 rows\n",
            "\n",
            "+------+----------+---------+--------------------+------+----------+----------+\n",
            "|codmes|id_persona|cod_banco|            producto|clasif| mto_saldo|rango_mora|\n",
            "+------+----------+---------+--------------------+------+----------+----------+\n",
            "|201811|     10155|       29|PRESTAMOS COMERCI...|   0.0| 36698.487|       1.0|\n",
            "|201804|     75442|       29|   PRESTAMO PERSONAL|   0.0| 7971.1182|       1.0|\n",
            "|201902|    172772|       29|PRESTAMOS COMERCI...|   0.0|  821.6077|       1.0|\n",
            "|201810|    187572|       29|PRESTAMOS COMERCI...|   0.0|  9271.803|       1.0|\n",
            "|201903|    255598|       29|PRESTAMOS COMERCI...|   0.0|10548.7263|       1.0|\n",
            "+------+----------+---------+--------------------+------+----------+----------+\n",
            "only showing top 5 rows\n",
            "\n"
          ],
          "name": "stdout"
        }
      ]
    },
    {
      "cell_type": "code",
      "metadata": {
        "id": "4mCx8bEw2FDq",
        "colab_type": "code",
        "outputId": "0f239db9-993f-43ac-c63a-5811faf434ed",
        "colab": {
          "base_uri": "https://localhost:8080/",
          "height": 34
        }
      },
      "source": [
        "print(campanhas.count())\n",
        "\n",
        "#print(DS_Renovacion_prest.count())"
      ],
      "execution_count": 50,
      "outputs": [
        {
          "output_type": "stream",
          "text": [
            "4890317\n"
          ],
          "name": "stdout"
        }
      ]
    },
    {
      "cell_type": "code",
      "metadata": {
        "id": "HJVN5y8u88AT",
        "colab_type": "code",
        "outputId": "f749a663-0d24-4f72-8437-eadfae573129",
        "colab": {
          "base_uri": "https://localhost:8080/",
          "height": 476
        }
      },
      "source": [
        "#4.2 Variable objetivo\n",
        "print(campanhas.count())\n",
        "campanhas.groupBy('id_persona').count().show()"
      ],
      "execution_count": 51,
      "outputs": [
        {
          "output_type": "stream",
          "text": [
            "4890317\n",
            "+----------+-----+\n",
            "|id_persona|count|\n",
            "+----------+-----+\n",
            "|    109608|   43|\n",
            "|    118185|   51|\n",
            "|    191355|   48|\n",
            "|      1238|   27|\n",
            "|     76885|    9|\n",
            "|    151871|   20|\n",
            "|      6397|    9|\n",
            "|     27484|   32|\n",
            "|     45011|   32|\n",
            "|    146411|   37|\n",
            "|    143737|   20|\n",
            "|     12940|   60|\n",
            "|     80006|   20|\n",
            "|    100274|   46|\n",
            "|     26087|   63|\n",
            "|    101627|   29|\n",
            "|    117987|   10|\n",
            "|    150087|   80|\n",
            "|    156527|    8|\n",
            "|    173691|   37|\n",
            "+----------+-----+\n",
            "only showing top 20 rows\n",
            "\n"
          ],
          "name": "stdout"
        }
      ]
    },
    {
      "cell_type": "code",
      "metadata": {
        "id": "cl8re_M2CdfM",
        "colab_type": "code",
        "outputId": "88a744a0-17bb-431e-cf49-d924e2aefea8",
        "colab": {
          "base_uri": "https://localhost:8080/",
          "height": 459
        }
      },
      "source": [
        "from pyspark.sql.functions import desc\n",
        "train.groupBy('id_persona').count().show()\n",
        "#train.groupBy('id_persona').count().withColumnRenamed(\"count\",\"distinct_name\").sort(desc(\"count\")).show()"
      ],
      "execution_count": 52,
      "outputs": [
        {
          "output_type": "stream",
          "text": [
            "+----------+-----+\n",
            "|id_persona|count|\n",
            "+----------+-----+\n",
            "|     67294|    1|\n",
            "|    220404|    1|\n",
            "|    203894|    2|\n",
            "|    137377|    1|\n",
            "|     74281|    1|\n",
            "|     41751|    1|\n",
            "|    150051|    1|\n",
            "|    114851|    2|\n",
            "|    119517|    1|\n",
            "|    171094|    1|\n",
            "|     23364|    2|\n",
            "|     92834|    1|\n",
            "|    103747|    2|\n",
            "|    181209|    2|\n",
            "|    229254|    1|\n",
            "|    135267|    2|\n",
            "|    198430|    1|\n",
            "|    240209|    1|\n",
            "|     38311|    1|\n",
            "|     47711|    2|\n",
            "+----------+-----+\n",
            "only showing top 20 rows\n",
            "\n"
          ],
          "name": "stdout"
        }
      ]
    },
    {
      "cell_type": "code",
      "metadata": {
        "id": "W-l6Pu6f1HO9",
        "colab_type": "code",
        "outputId": "2426e28b-c5ea-487e-ab71-b4b15b2faa46",
        "colab": {
          "base_uri": "https://localhost:8080/",
          "height": 153
        }
      },
      "source": [
        "# Lectura desde un archivo fisico\n",
        "train.filter(train.id_persona=='238177').show()"
      ],
      "execution_count": 53,
      "outputs": [
        {
          "output_type": "stream",
          "text": [
            "+------+----------+---------+------+-----+------------+--------------+\n",
            "|codmes|id_persona|codtarget|margen|  cem|ingreso_neto|linea_ofrecida|\n",
            "+------+----------+---------+------+-----+------------+--------------+\n",
            "|201903|    238177|        0|  -5.0|192.0|       771.0|           700|\n",
            "|201904|    238177|        0|  -5.0|192.0|       771.0|           700|\n",
            "|201901|    238177|        0|  -5.0|192.0|       771.0|           700|\n",
            "+------+----------+---------+------+-----+------------+--------------+\n",
            "\n"
          ],
          "name": "stdout"
        }
      ]
    },
    {
      "cell_type": "code",
      "metadata": {
        "id": "iJg4F0rIFAYL",
        "colab_type": "code",
        "outputId": "7a2ab801-f4a0-4658-efa5-f28be1205872",
        "colab": {
          "base_uri": "https://localhost:8080/",
          "height": 119
        }
      },
      "source": [
        "# Lectura desde un archivo fisico\n",
        "train.filter(train.id_persona=='38311').show()"
      ],
      "execution_count": 54,
      "outputs": [
        {
          "output_type": "stream",
          "text": [
            "+------+----------+---------+------+-----+------------+--------------+\n",
            "|codmes|id_persona|codtarget|margen|  cem|ingreso_neto|linea_ofrecida|\n",
            "+------+----------+---------+------+-----+------------+--------------+\n",
            "|201902|     38311|        0|  -5.0|545.0|      2575.0|          9000|\n",
            "+------+----------+---------+------+-----+------------+--------------+\n",
            "\n"
          ],
          "name": "stdout"
        }
      ]
    },
    {
      "cell_type": "markdown",
      "metadata": {
        "id": "ltZocWSm2l9G",
        "colab_type": "text"
      },
      "source": [
        "#2.  Cargando los datos en formato Spark"
      ]
    },
    {
      "cell_type": "markdown",
      "metadata": {
        "id": "xgUobOLemd25",
        "colab_type": "text"
      },
      "source": [
        "# 4. Exploracion de datos"
      ]
    },
    {
      "cell_type": "markdown",
      "metadata": {
        "id": "KG2wbeNe4hDU",
        "colab_type": "text"
      },
      "source": [
        "# 6. Entrenamiento del Algoritmo (Regresion Logistica)"
      ]
    },
    {
      "cell_type": "code",
      "metadata": {
        "id": "06wR5qaF4pLL",
        "colab_type": "code",
        "outputId": "6b6a7f43-e7ad-408c-f0f7-cc20759b30d2",
        "colab": {
          "base_uri": "https://localhost:8080/",
          "height": 34
        }
      },
      "source": [
        "# Definicion de muestra de entrenamiento y Validacion\n",
        "\n",
        "training_df,test_df=model_df_Renovacion_prest.randomSplit([0.5,0.5])\n",
        "\n",
        "# Tamaño de muestra\n",
        "print(training_df.count(),test_df.count())\n"
      ],
      "execution_count": 0,
      "outputs": [
        {
          "output_type": "stream",
          "text": [
            "43667 43834\n"
          ],
          "name": "stdout"
        }
      ]
    },
    {
      "cell_type": "code",
      "metadata": {
        "id": "taX8DiH85XBQ",
        "colab_type": "code",
        "colab": {}
      },
      "source": [
        "# Modelamiento de Regresion Logistica\n",
        "\n",
        "from pyspark.ml.classification import LogisticRegression\n",
        "\n",
        "log_reg=LogisticRegression(labelCol='FLAG_VENTA').fit(training_df)"
      ],
      "execution_count": 0,
      "outputs": []
    },
    {
      "cell_type": "code",
      "metadata": {
        "id": "XBoqyCAU51sv",
        "colab_type": "code",
        "outputId": "c9a78b67-2f9a-424c-e62f-47ebcaf67a0c",
        "colab": {
          "base_uri": "https://localhost:8080/",
          "height": 34
        }
      },
      "source": [
        "# Revision\n",
        "log_reg.coefficients"
      ],
      "execution_count": 0,
      "outputs": [
        {
          "output_type": "execute_result",
          "data": {
            "text/plain": [
              "DenseVector([0.0, -0.0001, -0.1279, 0.2708, -0.0134, 0.0588, 0.2258, -0.0534, -0.015, 0.0764, 0.5859, -0.0888, 0.3622, 0.2397, 0.2569])"
            ]
          },
          "metadata": {
            "tags": []
          },
          "execution_count": 31
        }
      ]
    },
    {
      "cell_type": "code",
      "metadata": {
        "id": "oyv-yms65v5v",
        "colab_type": "code",
        "outputId": "e0934ca6-aa98-486d-dba7-05a43f4dc0ab",
        "colab": {
          "base_uri": "https://localhost:8080/",
          "height": 286
        }
      },
      "source": [
        "# Aplicando sobre la data Train el modelo identificado\n",
        "\n",
        "train_results=log_reg.evaluate(training_df).predictions\n",
        "\n",
        "\n",
        "# Verificando las probabilidad en los clientes con compra\n",
        "\n",
        "train_results.filter(train_results['FLAG_VENTA']==1).select(['FLAG_VENTA','prediction','probability']).show(10,False)"
      ],
      "execution_count": 0,
      "outputs": [
        {
          "output_type": "stream",
          "text": [
            "+----------+----------+-----------------------------------------+\n",
            "|FLAG_VENTA|prediction|probability                              |\n",
            "+----------+----------+-----------------------------------------+\n",
            "|1         |0.0       |[0.960811047991409,0.039188952008590995] |\n",
            "|1         |0.0       |[0.9627564916224501,0.037243508377549736]|\n",
            "|1         |0.0       |[0.9289229829719605,0.0710770170280394]  |\n",
            "|1         |0.0       |[0.9706507886279174,0.02934921137208263] |\n",
            "|1         |0.0       |[0.9729403575925696,0.027059642407430414]|\n",
            "|1         |0.0       |[0.9717446610843462,0.02825533891565373] |\n",
            "|1         |0.0       |[0.973680090813619,0.026319909186380965] |\n",
            "|1         |0.0       |[0.9680224083601019,0.031977591639898155]|\n",
            "|1         |0.0       |[0.9709365941166367,0.029063405883363293]|\n",
            "|1         |0.0       |[0.9715414676116869,0.028458532388313154]|\n",
            "+----------+----------+-----------------------------------------+\n",
            "only showing top 10 rows\n",
            "\n"
          ],
          "name": "stdout"
        }
      ]
    },
    {
      "cell_type": "markdown",
      "metadata": {
        "id": "qg-eHdVRDZHq",
        "colab_type": "text"
      },
      "source": [
        "# 7. Evaluacion de poder predictivo"
      ]
    },
    {
      "cell_type": "code",
      "metadata": {
        "id": "u4LLYAgXDpnL",
        "colab_type": "code",
        "colab": {}
      },
      "source": [
        "# Aplicando el modelo predictivo\n",
        "\n",
        "transformed = log_reg.transform(test_df)"
      ],
      "execution_count": 0,
      "outputs": []
    },
    {
      "cell_type": "code",
      "metadata": {
        "id": "l-LimWf_b_5N",
        "colab_type": "code",
        "outputId": "57e13ef2-e5c5-4e36-9674-60583520d456",
        "colab": {
          "base_uri": "https://localhost:8080/",
          "height": 202
        }
      },
      "source": [
        "test_df.show(5)"
      ],
      "execution_count": 0,
      "outputs": [
        {
          "output_type": "stream",
          "text": [
            "+----------+--------------------+\n",
            "|FLAG_VENTA|            features|\n",
            "+----------+--------------------+\n",
            "|         0|(15,[0,1],[1936.0...|\n",
            "|         0|(15,[0,1],[1940.0...|\n",
            "|         0|(15,[0,1],[1950.0...|\n",
            "|         0|(15,[0,1],[2200.0...|\n",
            "|         0|(15,[0,1],[6071.0...|\n",
            "+----------+--------------------+\n",
            "only showing top 5 rows\n",
            "\n"
          ],
          "name": "stdout"
        }
      ]
    },
    {
      "cell_type": "code",
      "metadata": {
        "id": "UTDBLCvsFV-q",
        "colab_type": "code",
        "outputId": "e6f88f3d-0145-435d-dadf-6490563d2990",
        "colab": {
          "base_uri": "https://localhost:8080/",
          "height": 168
        }
      },
      "source": [
        "# Revision\n",
        "transformed.show(3,False)"
      ],
      "execution_count": 0,
      "outputs": [
        {
          "output_type": "stream",
          "text": [
            "+----------+--------------------------+----------------------------------------+-----------------------------------------+----------+\n",
            "|FLAG_VENTA|features                  |rawPrediction                           |probability                              |prediction|\n",
            "+----------+--------------------------+----------------------------------------+-----------------------------------------+----------+\n",
            "|0         |(15,[0,1],[1936.0,2296.0])|[3.3739812480196534,-3.3739812480196534]|[0.9668814149075142,0.033118585092485824]|0.0       |\n",
            "|0         |(15,[0,1],[1940.0,2296.0])|[3.3739336397500175,-3.3739336397500175]|[0.9668798903737859,0.033120109626214256]|0.0       |\n",
            "|0         |(15,[0,1],[1950.0,2296.0])|[3.3738146190759286,-3.3738146190759286]|[0.9668760787429466,0.03312392125705343] |0.0       |\n",
            "+----------+--------------------------+----------------------------------------+-----------------------------------------+----------+\n",
            "only showing top 3 rows\n",
            "\n"
          ],
          "name": "stdout"
        }
      ]
    },
    {
      "cell_type": "code",
      "metadata": {
        "id": "MIknI1ZuDdCO",
        "colab_type": "code",
        "outputId": "90d3ebec-b31b-4876-cdd4-12575b883c90",
        "colab": {
          "base_uri": "https://localhost:8080/",
          "height": 34
        }
      },
      "source": [
        "# LLamando a las librerias de evaluacion de modelamiento\n",
        "\n",
        "from pyspark.mllib.evaluation import BinaryClassificationMetrics as metric\n",
        "results = transformed.select(['probability', 'FLAG_VENTA'])\n",
        " \n",
        "## prepare score-label set\n",
        "results_collect = results.collect()\n",
        "results_list = [(float(i[0][0]), 1.0-float(i[1])) for i in results_collect]\n",
        "scoreAndLabels = sc.parallelize(results_list)\n",
        " \n",
        "metrics = metric(scoreAndLabels)\n",
        "print(\"The ROC score is (@numTrees=200): \", metrics.areaUnderROC)"
      ],
      "execution_count": 0,
      "outputs": [
        {
          "output_type": "stream",
          "text": [
            "The ROC score is (@numTrees=200):  0.5963761284376882\n"
          ],
          "name": "stdout"
        }
      ]
    },
    {
      "cell_type": "code",
      "metadata": {
        "id": "6i9DyFdtE_6B",
        "colab_type": "code",
        "outputId": "d6d816d8-180a-463f-dc7b-626aa0767333",
        "colab": {
          "base_uri": "https://localhost:8080/",
          "height": 295
        }
      },
      "source": [
        "from matplotlib import pyplot as plt\n",
        "from sklearn.metrics import roc_curve, auc\n",
        " \n",
        "fpr = dict()\n",
        "tpr = dict()\n",
        "roc_auc = dict()\n",
        " \n",
        "y_test = [i[1] for i in results_list]\n",
        "y_score = [i[0] for i in results_list]\n",
        " \n",
        "fpr, tpr, _ = roc_curve(y_test, y_score)\n",
        "roc_auc = auc(fpr, tpr)\n",
        " \n",
        "%matplotlib inline\n",
        "plt.figure()\n",
        "plt.plot(fpr, tpr, label='ROC curve (area = %0.2f)' % roc_auc)\n",
        "plt.plot([0, 1], [0, 1], 'k--')\n",
        "plt.xlim([0.0, 1.0])\n",
        "plt.ylim([0.0, 1.05])\n",
        "plt.xlabel('False Positive Rate')\n",
        "plt.ylabel('True Positive Rate')\n",
        "plt.title('Receiver operating characteristic example')\n",
        "plt.legend(loc=\"lower right\")\n",
        "plt.show()"
      ],
      "execution_count": 0,
      "outputs": [
        {
          "output_type": "display_data",
          "data": {
            "image/png": "[encoded data removed]",
            "text/plain": [
              "<Figure size 432x288 with 1 Axes>"
            ]
          },
          "metadata": {
            "tags": []
          }
        }
      ]
    },
    {
      "cell_type": "markdown",
      "metadata": {
        "id": "tDgJ78112IQU",
        "colab_type": "text"
      },
      "source": [
        ""
      ]
    },
    {
      "cell_type": "markdown",
      "metadata": {
        "id": "sp5hC3OZ1psQ",
        "colab_type": "text"
      },
      "source": [
        "#8. Aplicacion de modelos adicionales"
      ]
    },
    {
      "cell_type": "markdown",
      "metadata": {
        "id": "oF06_b273tgy",
        "colab_type": "text"
      },
      "source": [
        "##8.1 Algoritmo de Arbol de Clasficacion"
      ]
    },
    {
      "cell_type": "code",
      "metadata": {
        "id": "7pKd2dFm1o6G",
        "colab_type": "code",
        "outputId": "d8f8a5c6-ceb6-4572-f65a-27286dce9031",
        "colab": {
          "base_uri": "https://localhost:8080/",
          "height": 454
        }
      },
      "source": [
        "# Arbol de clasificacion\n",
        "\n",
        "from pyspark.ml.classification import DecisionTreeClassifier\n",
        "\n",
        "dt = DecisionTreeClassifier(labelCol=\"FLAG_VENTA\")\n",
        "dt_model = dt.fit(training_df)\n",
        "\n",
        "dt_prediction = dt_model.transform(test_df)\n",
        "\n",
        "dt_prediction.select(\"prediction\", \"FLAG_VENTA\", \"features\").show()"
      ],
      "execution_count": 0,
      "outputs": [
        {
          "output_type": "stream",
          "text": [
            "+----------+----------+--------------------+\n",
            "|prediction|FLAG_VENTA|            features|\n",
            "+----------+----------+--------------------+\n",
            "|       0.0|         0|(15,[0,1],[1936.0...|\n",
            "|       0.0|         0|(15,[0,1],[1940.0...|\n",
            "|       0.0|         0|(15,[0,1],[1950.0...|\n",
            "|       0.0|         0|(15,[0,1],[2200.0...|\n",
            "|       0.0|         0|(15,[0,1],[6071.0...|\n",
            "|       0.0|         0|(15,[0,1],[6317.0...|\n",
            "|       0.0|         0|(15,[0,1],[6500.0...|\n",
            "|       0.0|         0|(15,[0,1],[6510.0...|\n",
            "|       0.0|         0|(15,[0,1],[7392.0...|\n",
            "|       0.0|         0|(15,[0,1],[7802.0...|\n",
            "|       0.0|         0|(15,[0,1],[11405....|\n",
            "|       0.0|         0|(15,[0,1],[11532....|\n",
            "|       0.0|         0|(15,[0,1],[11818....|\n",
            "|       0.0|         0|(15,[0,1],[12439....|\n",
            "|       0.0|         0|(15,[0,1],[12828....|\n",
            "|       0.0|         0|(15,[0,1],[12898....|\n",
            "|       0.0|         0|(15,[0,1],[12921....|\n",
            "|       0.0|         0|(15,[0,1],[13000....|\n",
            "|       0.0|         0|(15,[0,1],[13000....|\n",
            "|       0.0|         0|(15,[0,1],[13000....|\n",
            "+----------+----------+--------------------+\n",
            "only showing top 20 rows\n",
            "\n"
          ],
          "name": "stdout"
        }
      ]
    },
    {
      "cell_type": "code",
      "metadata": {
        "id": "SxiDrzowDN2S",
        "colab_type": "code",
        "outputId": "920a9b06-6d6a-43ab-b86c-b1f0c795a43b",
        "colab": {
          "base_uri": "https://localhost:8080/",
          "height": 67
        }
      },
      "source": [
        "# Reglas del arbol\n",
        "#print(dt_model.toDebugString)"
      ],
      "execution_count": 0,
      "outputs": [
        {
          "output_type": "stream",
          "text": [
            "DecisionTreeClassificationModel (uid=DecisionTreeClassifier_e6268186c0e0) of depth 0 with 1 nodes\n",
            "  Predict: 0.0\n",
            "\n"
          ],
          "name": "stdout"
        }
      ]
    },
    {
      "cell_type": "code",
      "metadata": {
        "id": "72byJzai2qV9",
        "colab_type": "code",
        "outputId": "b4b52282-f6a5-4912-ea1f-630356973bf0",
        "colab": {
          "base_uri": "https://localhost:8080/",
          "height": 50
        }
      },
      "source": [
        "# Evaluacion del poder predictivo del arbol\n",
        "from pyspark.ml.evaluation import MulticlassClassificationEvaluator\n",
        "\n",
        "evaluator = MulticlassClassificationEvaluator(labelCol=\"FLAG_VENTA\", predictionCol=\"prediction\", metricName=\"accuracy\")\n",
        "\n",
        "dt_accuracy = evaluator.evaluate(dt_prediction)\n",
        "print(\"Accuracy of DecisionTreeClassifier is = %g\"% (dt_accuracy))\n",
        "print(\"Test Error of DecisionTreeClassifier = %g \" % (1.0 - dt_accuracy))\n"
      ],
      "execution_count": 0,
      "outputs": [
        {
          "output_type": "stream",
          "text": [
            "Accuracy of DecisionTreeClassifier is = 0.961126\n",
            "Test Error of DecisionTreeClassifier = 0.0388739 \n"
          ],
          "name": "stdout"
        }
      ]
    },
    {
      "cell_type": "code",
      "metadata": {
        "id": "yeb6DXZL3aeZ",
        "colab_type": "code",
        "outputId": "dbde0bc0-efa2-4436-b31f-c1e0c8983a19",
        "colab": {
          "base_uri": "https://localhost:8080/",
          "height": 34
        }
      },
      "source": [
        "# LLamando a las librerias de evaluacion de modelamiento\n",
        "\n",
        "from pyspark.mllib.evaluation import BinaryClassificationMetrics as metric\n",
        "results = dt_prediction.select(['probability', 'FLAG_VENTA'])\n",
        " \n",
        "## prepare score-label set\n",
        "results_collect = results.collect()\n",
        "results_list = [(float(i[0][0]), 1.0-float(i[1])) for i in results_collect]\n",
        "scoreAndLabels = sc.parallelize(results_list)\n",
        " \n",
        "metrics = metric(scoreAndLabels)\n",
        "print(\"The ROC score is (@numTrees=200): \", metrics.areaUnderROC)"
      ],
      "execution_count": 0,
      "outputs": [
        {
          "output_type": "stream",
          "text": [
            "The ROC score is (@numTrees=200):  0.5\n"
          ],
          "name": "stdout"
        }
      ]
    },
    {
      "cell_type": "code",
      "metadata": {
        "id": "85-S8yNF3otm",
        "colab_type": "code",
        "outputId": "3faa7820-b01e-49f0-af88-192aaf7655a3",
        "colab": {
          "base_uri": "https://localhost:8080/",
          "height": 295
        }
      },
      "source": [
        "from matplotlib import pyplot as plt\n",
        "from sklearn.metrics import roc_curve, auc\n",
        " \n",
        "fpr = dict()\n",
        "tpr = dict()\n",
        "roc_auc = dict()\n",
        " \n",
        "y_test = [i[1] for i in results_list]\n",
        "y_score = [i[0] for i in results_list]\n",
        " \n",
        "fpr, tpr, _ = roc_curve(y_test, y_score)\n",
        "roc_auc = auc(fpr, tpr)\n",
        " \n",
        "%matplotlib inline\n",
        "plt.figure()\n",
        "plt.plot(fpr, tpr, label='ROC curve (area = %0.2f)' % roc_auc)\n",
        "plt.plot([0, 1], [0, 1], 'k--')\n",
        "plt.xlim([0.0, 1.0])\n",
        "plt.ylim([0.0, 1.05])\n",
        "plt.xlabel('False Positive Rate')\n",
        "plt.ylabel('True Positive Rate')\n",
        "plt.title('Receiver operating characteristic example')\n",
        "plt.legend(loc=\"lower right\")\n",
        "plt.show()"
      ],
      "execution_count": 0,
      "outputs": [
        {
          "output_type": "display_data",
          "data": {
            "image/png": "[encoded data removed]",
            "text/plain": [
              "<Figure size 432x288 with 1 Axes>"
            ]
          },
          "metadata": {
            "tags": []
          }
        }
      ]
    },
    {
      "cell_type": "markdown",
      "metadata": {
        "id": "8jKnZ4Fr4Nko",
        "colab_type": "text"
      },
      "source": [
        "##8.2 Algoritmo Random Forest"
      ]
    },
    {
      "cell_type": "code",
      "metadata": {
        "id": "bKq8UwUy4Z4M",
        "colab_type": "code",
        "outputId": "faa57fcf-629b-44c9-b1b2-c32033dc63ad",
        "colab": {
          "base_uri": "https://localhost:8080/",
          "height": 454
        }
      },
      "source": [
        "# Aplicacion de Algoritmo Random Fores para modelamiento de clasificacion\n",
        "\n",
        "from pyspark.ml.classification import RandomForestClassifier\n",
        "\n",
        "rf = RandomForestClassifier(labelCol=\"FLAG_VENTA\", numTrees=150)\n",
        "rf_model = rf.fit(training_df)\n",
        "\n",
        "rf_prediction = rf_model.transform(test_df)\n",
        "\n",
        "rf_prediction.select(\"prediction\", \"FLAG_VENTA\", \"features\").show()"
      ],
      "execution_count": 0,
      "outputs": [
        {
          "output_type": "stream",
          "text": [
            "+----------+----------+--------------------+\n",
            "|prediction|FLAG_VENTA|            features|\n",
            "+----------+----------+--------------------+\n",
            "|       0.0|         0|(15,[0,1],[1936.0...|\n",
            "|       0.0|         0|(15,[0,1],[1940.0...|\n",
            "|       0.0|         0|(15,[0,1],[1950.0...|\n",
            "|       0.0|         0|(15,[0,1],[2200.0...|\n",
            "|       0.0|         0|(15,[0,1],[6071.0...|\n",
            "|       0.0|         0|(15,[0,1],[6317.0...|\n",
            "|       0.0|         0|(15,[0,1],[6500.0...|\n",
            "|       0.0|         0|(15,[0,1],[6510.0...|\n",
            "|       0.0|         0|(15,[0,1],[7392.0...|\n",
            "|       0.0|         0|(15,[0,1],[7802.0...|\n",
            "|       0.0|         0|(15,[0,1],[11405....|\n",
            "|       0.0|         0|(15,[0,1],[11532....|\n",
            "|       0.0|         0|(15,[0,1],[11818....|\n",
            "|       0.0|         0|(15,[0,1],[12439....|\n",
            "|       0.0|         0|(15,[0,1],[12828....|\n",
            "|       0.0|         0|(15,[0,1],[12898....|\n",
            "|       0.0|         0|(15,[0,1],[12921....|\n",
            "|       0.0|         0|(15,[0,1],[13000....|\n",
            "|       0.0|         0|(15,[0,1],[13000....|\n",
            "|       0.0|         0|(15,[0,1],[13000....|\n",
            "+----------+----------+--------------------+\n",
            "only showing top 20 rows\n",
            "\n"
          ],
          "name": "stdout"
        }
      ]
    },
    {
      "cell_type": "code",
      "metadata": {
        "id": "PDx8FXlA4-u8",
        "colab_type": "code",
        "outputId": "71d9088a-651e-400c-fcc9-4f875c45d8d7",
        "colab": {
          "base_uri": "https://localhost:8080/",
          "height": 34
        }
      },
      "source": [
        "# LLamando a las librerias de evaluacion de modelamiento\n",
        "\n",
        "from pyspark.mllib.evaluation import BinaryClassificationMetrics as metric\n",
        "results = rf_prediction.select(['probability', 'FLAG_VENTA'])\n",
        " \n",
        "## prepare score-label set\n",
        "results_collect = results.collect()\n",
        "results_list = [(float(i[0][0]), 1.0-float(i[1])) for i in results_collect]\n",
        "scoreAndLabels = sc.parallelize(results_list)\n",
        " \n",
        "metrics = metric(scoreAndLabels)\n",
        "print(\"The ROC score is (@numTrees=200): \", metrics.areaUnderROC)"
      ],
      "execution_count": 0,
      "outputs": [
        {
          "output_type": "stream",
          "text": [
            "The ROC score is (@numTrees=200):  0.5908150103246268\n"
          ],
          "name": "stdout"
        }
      ]
    },
    {
      "cell_type": "code",
      "metadata": {
        "id": "UVWc-CMC5Ihj",
        "colab_type": "code",
        "outputId": "2ee16c35-09d9-4365-fc8f-191232969b81",
        "colab": {
          "base_uri": "https://localhost:8080/",
          "height": 295
        }
      },
      "source": [
        "from matplotlib import pyplot as plt\n",
        "from sklearn.metrics import roc_curve, auc\n",
        " \n",
        "fpr = dict()\n",
        "tpr = dict()\n",
        "roc_auc = dict()\n",
        " \n",
        "y_test = [i[1] for i in results_list]\n",
        "y_score = [i[0] for i in results_list]\n",
        " \n",
        "fpr, tpr, _ = roc_curve(y_test, y_score)\n",
        "roc_auc = auc(fpr, tpr)\n",
        " \n",
        "%matplotlib inline\n",
        "plt.figure()\n",
        "plt.plot(fpr, tpr, label='ROC curve (area = %0.2f)' % roc_auc)\n",
        "plt.plot([0, 1], [0, 1], 'k--')\n",
        "plt.xlim([0.0, 1.0])\n",
        "plt.ylim([0.0, 1.05])\n",
        "plt.xlabel('False Positive Rate')\n",
        "plt.ylabel('True Positive Rate')\n",
        "plt.title('Receiver operating characteristic example')\n",
        "plt.legend(loc=\"lower right\")\n",
        "plt.show()"
      ],
      "execution_count": 0,
      "outputs": [
        {
          "output_type": "display_data",
          "data": {
            "image/png": "[encoded data removed]",
            "text/plain": [
              "<Figure size 432x288 with 1 Axes>"
            ]
          },
          "metadata": {
            "tags": []
          }
        }
      ]
    },
    {
      "cell_type": "code",
      "metadata": {
        "id": "cA6pqrXyBgq-",
        "colab_type": "code",
        "outputId": "bc46128e-fecf-46ba-a371-352e570201f8",
        "colab": {
          "base_uri": "https://localhost:8080/",
          "height": 54
        }
      },
      "source": [
        "# Extra identificador de variables importantes\n",
        "rf_model.featureImportances"
      ],
      "execution_count": 0,
      "outputs": [
        {
          "output_type": "execute_result",
          "data": {
            "text/plain": [
              "SparseVector(15, {0: 0.3675, 1: 0.4138, 2: 0.0206, 3: 0.044, 4: 0.0048, 5: 0.0014, 6: 0.0015, 7: 0.0099, 8: 0.0049, 10: 0.099, 12: 0.0002, 13: 0.0284, 14: 0.004})"
            ]
          },
          "metadata": {
            "tags": []
          },
          "execution_count": 84
        }
      ]
    },
    {
      "cell_type": "code",
      "metadata": {
        "id": "Q-UupcAHB030",
        "colab_type": "code",
        "outputId": "d9a74c4e-8432-4e4e-fbb4-07fb0ef08736",
        "colab": {
          "base_uri": "https://localhost:8080/",
          "height": 269
        }
      },
      "source": [
        "# Diccionario de caracteristicas\n",
        "training_df.schema[\"features\"].metadata[\"ml_attr\"][\"attrs\"]"
      ],
      "execution_count": 0,
      "outputs": [
        {
          "output_type": "execute_result",
          "data": {
            "text/plain": [
              "{'binary': [{'idx': 2, 'name': 'REGION_Vector_LIMA MODERNA'},\n",
              "  {'idx': 3, 'name': 'REGION_Vector_CENTRO'},\n",
              "  {'idx': 4, 'name': 'REGION_Vector_NORTE'},\n",
              "  {'idx': 5, 'name': 'REGION_Vector_LIMA NORTE'},\n",
              "  {'idx': 6, 'name': 'REGION_Vector_SUR'},\n",
              "  {'idx': 7, 'name': 'REGION_Vector_LIMA ESTE'},\n",
              "  {'idx': 8, 'name': 'REGION_Vector_LIMA SUR'},\n",
              "  {'idx': 9, 'name': 'REGION_Vector_LIMA CENTRO'},\n",
              "  {'idx': 10, 'name': 'REGION_Vector_ORIENTE'},\n",
              "  {'idx': 11, 'name': 'REGION_Vector_CALLAO'},\n",
              "  {'idx': 12, 'name': 'REGION_Vector_SIERRA CENTRAL'},\n",
              "  {'idx': 13, 'name': 'REGION_Vector_LIMA PROVINCIA'},\n",
              "  {'idx': 14, 'name': 'REGION_Vector_OESTE'}],\n",
              " 'numeric': [{'idx': 0, 'name': 'LINEA_RENOVADO'},\n",
              "  {'idx': 1, 'name': 'SUELDO_ESTIMADO'}]}"
            ]
          },
          "metadata": {
            "tags": []
          },
          "execution_count": 81
        }
      ]
    },
    {
      "cell_type": "markdown",
      "metadata": {
        "id": "LjtC6NOI5OZX",
        "colab_type": "text"
      },
      "source": [
        "## 8.3  Algoritmo de Naive Bayes"
      ]
    },
    {
      "cell_type": "code",
      "metadata": {
        "id": "Lg8tsJdX5bqA",
        "colab_type": "code",
        "outputId": "e7dcc4d3-80e3-4681-d36a-210a6d89941f",
        "colab": {
          "base_uri": "https://localhost:8080/",
          "height": 454
        }
      },
      "source": [
        "# Aplicacion de Algoritmo Random Fores para modelamiento de clasificacion\n",
        "\n",
        "from pyspark.ml.classification import NaiveBayes\n",
        "\n",
        "nb = NaiveBayes(labelCol=\"FLAG_VENTA\")\n",
        "nb_model = nb.fit(training_df)\n",
        "\n",
        "nb_prediction = nb_model.transform(test_df)\n",
        "\n",
        "nb_prediction.select(\"prediction\", \"FLAG_VENTA\", \"features\").show()"
      ],
      "execution_count": 0,
      "outputs": [
        {
          "output_type": "stream",
          "text": [
            "+----------+----------+--------------------+\n",
            "|prediction|FLAG_VENTA|            features|\n",
            "+----------+----------+--------------------+\n",
            "|       0.0|         0|(15,[0,1],[1950.0...|\n",
            "|       0.0|         0|(15,[0,1],[2200.0...|\n",
            "|       0.0|         0|(15,[0,1],[2200.0...|\n",
            "|       0.0|         0|(15,[0,1],[2200.0...|\n",
            "|       0.0|         0|(15,[0,1],[6071.0...|\n",
            "|       0.0|         0|(15,[0,1],[6317.0...|\n",
            "|       0.0|         0|(15,[0,1],[6500.0...|\n",
            "|       0.0|         0|(15,[0,1],[6786.0...|\n",
            "|       1.0|         0|(15,[0,1],[6903.0...|\n",
            "|       0.0|         0|(15,[0,1],[7392.0...|\n",
            "|       0.0|         0|(15,[0,1],[7802.0...|\n",
            "|       1.0|         0|(15,[0,1],[10000....|\n",
            "|       1.0|         0|(15,[0,1],[11532....|\n",
            "|       0.0|         0|(15,[0,1],[12005....|\n",
            "|       1.0|         0|(15,[0,1],[12105....|\n",
            "|       1.0|         0|(15,[0,1],[12460....|\n",
            "|       1.0|         0|(15,[0,1],[12470....|\n",
            "|       1.0|         0|(15,[0,1],[12898....|\n",
            "|       1.0|         0|(15,[0,1],[13000....|\n",
            "|       1.0|         0|(15,[0,1],[13000....|\n",
            "+----------+----------+--------------------+\n",
            "only showing top 20 rows\n",
            "\n"
          ],
          "name": "stdout"
        }
      ]
    },
    {
      "cell_type": "code",
      "metadata": {
        "id": "sSENkdQh54B2",
        "colab_type": "code",
        "outputId": "4eb662a3-ed70-4ba7-bea3-4b4801fbed8c",
        "colab": {
          "base_uri": "https://localhost:8080/",
          "height": 34
        }
      },
      "source": [
        "# LLamando a las librerias de evaluacion de modelamiento\n",
        "\n",
        "from pyspark.mllib.evaluation import BinaryClassificationMetrics as metric\n",
        "results = nb_prediction.select(['probability', 'FLAG_VENTA'])\n",
        " \n",
        "## prepare score-label set\n",
        "results_collect = results.collect()\n",
        "results_list = [(float(i[0][0]), 1.0-float(i[1])) for i in results_collect]\n",
        "scoreAndLabels = sc.parallelize(results_list)\n",
        " \n",
        "metrics = metric(scoreAndLabels)\n",
        "print(\"The ROC score is (@numTrees=200): \", metrics.areaUnderROC)"
      ],
      "execution_count": 0,
      "outputs": [
        {
          "output_type": "stream",
          "text": [
            "The ROC score is (@numTrees=200):  0.5912854435526248\n"
          ],
          "name": "stdout"
        }
      ]
    },
    {
      "cell_type": "code",
      "metadata": {
        "id": "EN35cVfo6BAi",
        "colab_type": "code",
        "outputId": "5e8e6f39-fe6e-4b46-bbeb-00e4f9e20f6e",
        "colab": {
          "base_uri": "https://localhost:8080/",
          "height": 295
        }
      },
      "source": [
        "from matplotlib import pyplot as plt\n",
        "from sklearn.metrics import roc_curve, auc\n",
        " \n",
        "fpr = dict()\n",
        "tpr = dict()\n",
        "roc_auc = dict()\n",
        " \n",
        "y_test = [i[1] for i in results_list]\n",
        "y_score = [i[0] for i in results_list]\n",
        " \n",
        "fpr, tpr, _ = roc_curve(y_test, y_score)\n",
        "roc_auc = auc(fpr, tpr)\n",
        " \n",
        "%matplotlib inline\n",
        "plt.figure()\n",
        "plt.plot(fpr, tpr, label='ROC curve (area = %0.2f)' % roc_auc)\n",
        "plt.plot([0, 1], [0, 1], 'k--')\n",
        "plt.xlim([0.0, 1.0])\n",
        "plt.ylim([0.0, 1.05])\n",
        "plt.xlabel('False Positive Rate')\n",
        "plt.ylabel('True Positive Rate')\n",
        "plt.title('Receiver operating characteristic example')\n",
        "plt.legend(loc=\"lower right\")\n",
        "plt.show()"
      ],
      "execution_count": 0,
      "outputs": [
        {
          "output_type": "display_data",
          "data": {
            "image/png": "[encoded data removed]",
            "text/plain": [
              "<Figure size 432x288 with 1 Axes>"
            ]
          },
          "metadata": {
            "tags": []
          }
        }
      ]
    },
    {
      "cell_type": "markdown",
      "metadata": {
        "id": "DaDJmWvr6Yzk",
        "colab_type": "text"
      },
      "source": [
        "##8.4  * Algoritmo de clasificacion Support Vector Machine"
      ]
    },
    {
      "cell_type": "code",
      "metadata": {
        "id": "KBe2a9au6XlU",
        "colab_type": "code",
        "outputId": "8a79a355-9326-4be0-9752-ac2bfe2afcc4",
        "colab": {
          "base_uri": "https://localhost:8080/",
          "height": 454
        }
      },
      "source": [
        "\n",
        "from pyspark.ml.classification import LinearSVC\n",
        "\n",
        "svm = NaiveBayes(labelCol=\"FLAG_VENTA\")\n",
        "svm_model = svm.fit(training_df)\n",
        "\n",
        "svm_prediction = svm_model.transform(test_df)\n",
        "\n",
        "svm_prediction.select(\"prediction\", \"FLAG_VENTA\", \"features\").show()"
      ],
      "execution_count": 0,
      "outputs": [
        {
          "output_type": "stream",
          "text": [
            "+----------+----------+--------------------+\n",
            "|prediction|FLAG_VENTA|            features|\n",
            "+----------+----------+--------------------+\n",
            "|       0.0|         0|(15,[0,1],[1950.0...|\n",
            "|       0.0|         0|(15,[0,1],[2200.0...|\n",
            "|       0.0|         0|(15,[0,1],[2200.0...|\n",
            "|       0.0|         0|(15,[0,1],[2200.0...|\n",
            "|       0.0|         0|(15,[0,1],[6071.0...|\n",
            "|       0.0|         0|(15,[0,1],[6317.0...|\n",
            "|       0.0|         0|(15,[0,1],[6500.0...|\n",
            "|       0.0|         0|(15,[0,1],[6786.0...|\n",
            "|       1.0|         0|(15,[0,1],[6903.0...|\n",
            "|       0.0|         0|(15,[0,1],[7392.0...|\n",
            "|       0.0|         0|(15,[0,1],[7802.0...|\n",
            "|       1.0|         0|(15,[0,1],[10000....|\n",
            "|       1.0|         0|(15,[0,1],[11532....|\n",
            "|       0.0|         0|(15,[0,1],[12005....|\n",
            "|       1.0|         0|(15,[0,1],[12105....|\n",
            "|       1.0|         0|(15,[0,1],[12460....|\n",
            "|       1.0|         0|(15,[0,1],[12470....|\n",
            "|       1.0|         0|(15,[0,1],[12898....|\n",
            "|       1.0|         0|(15,[0,1],[13000....|\n",
            "|       1.0|         0|(15,[0,1],[13000....|\n",
            "+----------+----------+--------------------+\n",
            "only showing top 20 rows\n",
            "\n"
          ],
          "name": "stdout"
        }
      ]
    },
    {
      "cell_type": "code",
      "metadata": {
        "id": "cEkg6AC77B2V",
        "colab_type": "code",
        "outputId": "01d936cd-7016-4c6e-b897-ee93a259b6a8",
        "colab": {
          "base_uri": "https://localhost:8080/",
          "height": 34
        }
      },
      "source": [
        "# LLamando a las librerias de evaluacion de modelamiento\n",
        "\n",
        "from pyspark.mllib.evaluation import BinaryClassificationMetrics as metric\n",
        "results = svm_prediction.select(['probability', 'FLAG_VENTA'])\n",
        " \n",
        "## prepare score-label set\n",
        "results_collect = results.collect()\n",
        "results_list = [(float(i[0][0]), 1.0-float(i[1])) for i in results_collect]\n",
        "scoreAndLabels = sc.parallelize(results_list)\n",
        " \n",
        "metrics = metric(scoreAndLabels)\n",
        "print(\"The ROC score is (@numTrees=200): \", metrics.areaUnderROC)"
      ],
      "execution_count": 0,
      "outputs": [
        {
          "output_type": "stream",
          "text": [
            "The ROC score is (@numTrees=200):  0.5912854435526248\n"
          ],
          "name": "stdout"
        }
      ]
    },
    {
      "cell_type": "code",
      "metadata": {
        "id": "4MDTGC4I7RpU",
        "colab_type": "code",
        "outputId": "69e770f8-5adc-4274-cd58-174f505e7dd0",
        "colab": {
          "base_uri": "https://localhost:8080/",
          "height": 295
        }
      },
      "source": [
        "from matplotlib import pyplot as plt\n",
        "from sklearn.metrics import roc_curve, auc\n",
        " \n",
        "fpr = dict()\n",
        "tpr = dict()\n",
        "roc_auc = dict()\n",
        " \n",
        "y_test = [i[1] for i in results_list]\n",
        "y_score = [i[0] for i in results_list]\n",
        " \n",
        "fpr, tpr, _ = roc_curve(y_test, y_score)\n",
        "roc_auc = auc(fpr, tpr)\n",
        " \n",
        "%matplotlib inline\n",
        "plt.figure()\n",
        "plt.plot(fpr, tpr, label='ROC curve (area = %0.2f)' % roc_auc)\n",
        "plt.plot([0, 1], [0, 1], 'k--')\n",
        "plt.xlim([0.0, 1.0])\n",
        "plt.ylim([0.0, 1.05])\n",
        "plt.xlabel('False Positive Rate')\n",
        "plt.ylabel('True Positive Rate')\n",
        "plt.title('Receiver operating characteristic example')\n",
        "plt.legend(loc=\"lower right\")\n",
        "plt.show()"
      ],
      "execution_count": 0,
      "outputs": [
        {
          "output_type": "display_data",
          "data": {
            "image/png": "[encoded data removed]",
            "text/plain": [
              "<Figure size 432x288 with 1 Axes>"
            ]
          },
          "metadata": {
            "tags": []
          }
        }
      ]
    },
    {
      "cell_type": "markdown",
      "metadata": {
        "id": "JE7UVp58CjzO",
        "colab_type": "text"
      },
      "source": [
        "## 8.5 * Modelo de Red neuronal multicapa"
      ]
    },
    {
      "cell_type": "code",
      "metadata": {
        "id": "XWMl2ahzCqnO",
        "colab_type": "code",
        "colab": {}
      },
      "source": [
        "from pyspark.ml.classification import MultilayerPerceptronClassifier\n",
        "\n",
        "\n",
        "# Especificando las capas para la Red Neuronal:\n",
        "# Input de las capas es de tamanio 4 (features), dos capas intermedias de tmannio 5 and 4\n",
        "# y el output de salida es de tamanio 2 (classes)\n",
        "\n",
        "#Tener mucho cuidado al definir los valores ingresados en la red neuronal!!!!!\n",
        "layers = [15, 5, 4, 2]\n",
        "\n",
        "\n",
        "mlp = MultilayerPerceptronClassifier(maxIter=100, layers=layers, blockSize=128, seed=1234, labelCol=\"FLAG_VENTA\")\n",
        "mlp_model = mlp.fit(training_df)\n",
        "\n",
        "mlp_prediction = mlp_model.transform(test_df)\n"
      ],
      "execution_count": 0,
      "outputs": []
    },
    {
      "cell_type": "code",
      "metadata": {
        "id": "rwbFVsJqFIB0",
        "colab_type": "code",
        "outputId": "37510fdc-54a5-48dc-8428-306e8f443ad2",
        "colab": {
          "base_uri": "https://localhost:8080/",
          "height": 34
        }
      },
      "source": [
        "mlp_prediction.describe()"
      ],
      "execution_count": 0,
      "outputs": [
        {
          "output_type": "execute_result",
          "data": {
            "text/plain": [
              "DataFrame[summary: string, FLAG_VENTA: string, prediction: string]"
            ]
          },
          "metadata": {
            "tags": []
          },
          "execution_count": 102
        }
      ]
    },
    {
      "cell_type": "code",
      "metadata": {
        "id": "MxS7_InyFBiv",
        "colab_type": "code",
        "outputId": "7ea688fa-6876-467f-c294-e3d6228b8523",
        "colab": {
          "base_uri": "https://localhost:8080/",
          "height": 34
        }
      },
      "source": [
        "# LLamando a las librerias de evaluacion de modelamiento\n",
        "\n",
        "from pyspark.mllib.evaluation import BinaryClassificationMetrics as metric\n",
        "results = mlp_prediction.select(['probability', 'FLAG_VENTA'])\n",
        " \n",
        "## prepare score-label set\n",
        "results_collect = results.collect()\n",
        "results_list = [(float(i[0][0]), 1.0-float(i[1])) for i in results_collect]\n",
        "scoreAndLabels = sc.parallelize(results_list)\n",
        " \n",
        "metrics = metric(scoreAndLabels)\n",
        "print(\"The ROC score is (@numTrees=200): \", metrics.areaUnderROC)"
      ],
      "execution_count": 0,
      "outputs": [
        {
          "output_type": "stream",
          "text": [
            "The ROC score is (@numTrees=200):  0.5090459415732563\n"
          ],
          "name": "stdout"
        }
      ]
    },
    {
      "cell_type": "code",
      "metadata": {
        "id": "b9gHGVS0FvDS",
        "colab_type": "code",
        "outputId": "1ef46549-cd2b-4bb6-bf36-c3b43bdbca13",
        "colab": {
          "base_uri": "https://localhost:8080/",
          "height": 295
        }
      },
      "source": [
        "from matplotlib import pyplot as plt\n",
        "from sklearn.metrics import roc_curve, auc\n",
        " \n",
        "fpr = dict()\n",
        "tpr = dict()\n",
        "roc_auc = dict()\n",
        " \n",
        "y_test = [i[1] for i in results_list]\n",
        "y_score = [i[0] for i in results_list]\n",
        " \n",
        "fpr, tpr, _ = roc_curve(y_test, y_score)\n",
        "roc_auc = auc(fpr, tpr)\n",
        " \n",
        "%matplotlib inline\n",
        "plt.figure()\n",
        "plt.plot(fpr, tpr, label='ROC curve (area = %0.2f)' % roc_auc)\n",
        "plt.plot([0, 1], [0, 1], 'k--')\n",
        "plt.xlim([0.0, 1.0])\n",
        "plt.ylim([0.0, 1.05])\n",
        "plt.xlabel('False Positive Rate')\n",
        "plt.ylabel('True Positive Rate')\n",
        "plt.title('Receiver operating characteristic example')\n",
        "plt.legend(loc=\"lower right\")\n",
        "plt.show()"
      ],
      "execution_count": 0,
      "outputs": [
        {
          "output_type": "display_data",
          "data": {
            "image/png": "[encoded data removed]",
            "text/plain": [
              "<Figure size 432x288 with 1 Axes>"
            ]
          },
          "metadata": {
            "tags": []
          }
        }
      ]
    }
  ]
}