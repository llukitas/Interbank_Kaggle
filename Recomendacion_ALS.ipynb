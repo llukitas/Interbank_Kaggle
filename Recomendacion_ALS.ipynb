{
  "nbformat": 4,
  "nbformat_minor": 0,
  "metadata": {
    "colab": {
      "name": "Recomendacion_tiporapid.ipynb",
      "provenance": [],
      "toc_visible": true,
      "include_colab_link": true
    },
    "kernelspec": {
      "name": "python3",
      "display_name": "Python 3"
    }
  },
  "cells": [
    {
      "cell_type": "markdown",
      "metadata": {
        "id": "view-in-github",
        "colab_type": "text"
      },
      "source": [
        "<a href=\"https://colab.research.google.com/github/llukitas/Interbank_Kaggle/blob/master/Recomendacion_ALS.ipynb\" target=\"_parent\"><img src=\"https://colab.research.google.com/assets/colab-badge.svg\" alt=\"Open In Colab\"/></a>"
      ]
    },
    {
      "cell_type": "markdown",
      "metadata": {
        "id": "oZYjeFl20oa5",
        "colab_type": "text"
      },
      "source": [
        "# 0. Instalacion de utilitarios Pyspark"
      ]
    },
    {
      "cell_type": "markdown",
      "metadata": {
        "id": "HsoSAwbLrOBl",
        "colab_type": "text"
      },
      "source": [
        "#  **03/11/2019**"
      ]
    },
    {
      "cell_type": "code",
      "metadata": {
        "id": "y6zaa4yk0uIV",
        "colab_type": "code",
        "colab": {}
      },
      "source": [
        "!apt-get install openjdk-8-jdk-headless -qq > /dev/null\n",
        "!wget -q https://www-us.apache.org/dist/spark/spark-2.3.4/spark-2.3.4-bin-hadoop2.7.tgz\n",
        "!tar xf spark-2.3.4-bin-hadoop2.7.tgz"
      ],
      "execution_count": 0,
      "outputs": []
    },
    {
      "cell_type": "code",
      "metadata": {
        "id": "c0SmG6708QQ6",
        "colab_type": "code",
        "colab": {}
      },
      "source": [
        "!apt-get install openjdk-8-jdk-headless -qq > /dev/null\n",
        "!wget -q https://www-us.apache.org/dist/spark/spark-2.4.4/spark-2.4.4-bin-hadoop2.7.tgz\n",
        "!tar xf spark-2.4.4-bin-hadoop2.7.tgz\n"
      ],
      "execution_count": 0,
      "outputs": []
    },
    {
      "cell_type": "code",
      "metadata": {
        "id": "tyor71X98igS",
        "colab_type": "code",
        "colab": {}
      },
      "source": [
        "!pip install -q findspark"
      ],
      "execution_count": 0,
      "outputs": []
    },
    {
      "cell_type": "code",
      "metadata": {
        "id": "mRsVKjDvsmoC",
        "colab_type": "code",
        "colab": {}
      },
      "source": [
        "import os\n",
        "os.environ[\"JAVA_HOME\"] = \"/usr/lib/jvm/java-8-openjdk-amd64\"\n",
        "os.environ[\"SPARK_HOME\"] = \"/content/spark-2.4.4-bin-hadoop2.7\"\n"
      ],
      "execution_count": 0,
      "outputs": []
    },
    {
      "cell_type": "code",
      "metadata": {
        "id": "OsNTQa-qsr7j",
        "colab_type": "code",
        "outputId": "81342f1a-e9b8-4a26-987c-5358bc42a630",
        "colab": {
          "base_uri": "https://localhost:8080/",
          "height": 258
        }
      },
      "source": [
        "!pip install pyspark"
      ],
      "execution_count": 5,
      "outputs": [
        {
          "output_type": "stream",
          "text": [
            "Collecting pyspark\n",
            "\u001b[?25l  Downloading https://files.pythonhosted.org/packages/87/21/f05c186f4ddb01d15d0ddc36ef4b7e3cedbeb6412274a41f26b55a650ee5/pyspark-2.4.4.tar.gz (215.7MB)\n",
            "\u001b[K     |████████████████████████████████| 215.7MB 56kB/s \n",
            "\u001b[?25hCollecting py4j==0.10.7\n",
            "\u001b[?25l  Downloading https://files.pythonhosted.org/packages/e3/53/c737818eb9a7dc32a7cd4f1396e787bd94200c3997c72c1dbe028587bd76/py4j-0.10.7-py2.py3-none-any.whl (197kB)\n",
            "\u001b[K     |████████████████████████████████| 204kB 40.3MB/s \n",
            "\u001b[?25hBuilding wheels for collected packages: pyspark\n",
            "  Building wheel for pyspark (setup.py) ... \u001b[?25l\u001b[?25hdone\n",
            "  Created wheel for pyspark: filename=pyspark-2.4.4-py2.py3-none-any.whl size=216130387 sha256=016d0afb04558a953eec8c153bf43cac719e18d5d35531ed83bf8a8c84571f11\n",
            "  Stored in directory: /root/.cache/pip/wheels/ab/09/4d/0d184230058e654eb1b04467dbc1292f00eaa186544604b471\n",
            "Successfully built pyspark\n",
            "Installing collected packages: py4j, pyspark\n",
            "Successfully installed py4j-0.10.7 pyspark-2.4.4\n"
          ],
          "name": "stdout"
        }
      ]
    },
    {
      "cell_type": "code",
      "metadata": {
        "id": "zCKm2w9rswTv",
        "colab_type": "code",
        "colab": {}
      },
      "source": [
        "from pyspark.sql import SparkSession\n",
        "from pyspark import SparkContext\n",
        "spark = SparkSession.builder.master(\"local\").getOrCreate()\n",
        "sc = SparkContext.getOrCreate()"
      ],
      "execution_count": 0,
      "outputs": []
    },
    {
      "cell_type": "markdown",
      "metadata": {
        "id": "NXie2Umg1DZk",
        "colab_type": "text"
      },
      "source": [
        "# 1. Lectura del origen datos"
      ]
    },
    {
      "cell_type": "code",
      "metadata": {
        "id": "W-l6Pu6f1HO9",
        "colab_type": "code",
        "colab": {}
      },
      "source": [
        "# Lectura desde un archivo fisico\n",
        "from google.colab import files\n",
        "uploaded = files.upload()"
      ],
      "execution_count": 0,
      "outputs": []
    },
    {
      "cell_type": "code",
      "metadata": {
        "id": "zZL0PhM88Eys",
        "colab_type": "code",
        "outputId": "1449004d-737a-4a46-82fb-3a05d706d654",
        "colab": {
          "base_uri": "https://localhost:8080/",
          "height": 122
        }
      },
      "source": [
        "\n",
        "# Conexion al drive\n",
        "#---------------------------\n",
        "from google.colab import drive\n",
        "drive.mount('/content/drive')"
      ],
      "execution_count": 7,
      "outputs": [
        {
          "output_type": "stream",
          "text": [
            "Go to this URL in a browser: https://accounts.google.com/o/oauth2/auth?client_id=947318989803-6bn6qk8qdgf4n4g3pfee6491hc0brc4i.apps.googleusercontent.com&redirect_uri=urn%3Aietf%3Awg%3Aoauth%3A2.0%3Aoob&scope=email%20https%3A%2F%2Fwww.googleapis.com%2Fauth%2Fdocs.test%20https%3A%2F%2Fwww.googleapis.com%2Fauth%2Fdrive%20https%3A%2F%2Fwww.googleapis.com%2Fauth%2Fdrive.photos.readonly%20https%3A%2F%2Fwww.googleapis.com%2Fauth%2Fpeopleapi.readonly&response_type=code\n",
            "\n",
            "Enter your authorization code:\n",
            "··········\n",
            "Mounted at /content/drive\n"
          ],
          "name": "stdout"
        }
      ]
    },
    {
      "cell_type": "code",
      "metadata": {
        "id": "BZQDnxtq2G2L",
        "colab_type": "code",
        "outputId": "0dec110c-f8fa-4627-ae27-4e659ec96c32",
        "colab": {
          "base_uri": "https://localhost:8080/",
          "height": 51
        }
      },
      "source": [
        "ls"
      ],
      "execution_count": 8,
      "outputs": [
        {
          "output_type": "stream",
          "text": [
            "\u001b[0m\u001b[01;34mdrive\u001b[0m/        \u001b[01;34mspark-2.3.4-bin-hadoop2.7\u001b[0m/     \u001b[01;34mspark-2.4.4-bin-hadoop2.7\u001b[0m/\n",
            "\u001b[01;34msample_data\u001b[0m/  spark-2.3.4-bin-hadoop2.7.tgz  spark-2.4.4-bin-hadoop2.7.tgz\n"
          ],
          "name": "stdout"
        }
      ]
    },
    {
      "cell_type": "markdown",
      "metadata": {
        "id": "ltZocWSm2l9G",
        "colab_type": "text"
      },
      "source": [
        "#2.  Cargando los datos en formato Spark"
      ]
    },
    {
      "cell_type": "code",
      "metadata": {
        "id": "xg8zoYu62uhd",
        "colab_type": "code",
        "outputId": "1bae8044-a3a2-4ce3-afec-054773555440",
        "colab": {
          "base_uri": "https://localhost:8080/",
          "height": 204
        }
      },
      "source": [
        "DS_peliculas_rating = spark.read.csv('/content/drive/My Drive/AGRARIA_ML/Training R ML en Casos de Negocios/8_Recomendacion_comercio/Comercio_tipo_rappi.csv', sep=';', header=True, inferSchema=True)\n",
        "\n",
        "# 2.1 Revision de formatos \n",
        "DS_peliculas_rating.printSchema()"
      ],
      "execution_count": 9,
      "outputs": [
        {
          "output_type": "stream",
          "text": [
            "root\n",
            " |-- userID: string (nullable = true)\n",
            " |-- userID_cod: integer (nullable = true)\n",
            " |-- placeID: integer (nullable = true)\n",
            " |-- Nombre_comerce: string (nullable = true)\n",
            " |-- Distrito: string (nullable = true)\n",
            " |-- rating: integer (nullable = true)\n",
            " |-- food_rating: integer (nullable = true)\n",
            " |-- service_rating: integer (nullable = true)\n",
            " |-- rating_total: integer (nullable = true)\n",
            "\n"
          ],
          "name": "stdout"
        }
      ]
    },
    {
      "cell_type": "code",
      "metadata": {
        "id": "DevCxW045s4B",
        "colab_type": "code",
        "outputId": "75a82cc0-f059-467a-8fc4-64847a7e2b4a",
        "colab": {
          "base_uri": "https://localhost:8080/",
          "height": 34
        }
      },
      "source": [
        "# Dimensiona de base\n",
        "print((DS_peliculas_rating.count(),len(DS_peliculas_rating.columns)))"
      ],
      "execution_count": 10,
      "outputs": [
        {
          "output_type": "stream",
          "text": [
            "(50766, 9)\n"
          ],
          "name": "stdout"
        }
      ]
    },
    {
      "cell_type": "code",
      "metadata": {
        "id": "RBEt1wHV2Zy4",
        "colab_type": "code",
        "outputId": "d2fb8b7d-a2bc-4888-bd25-06f0cbf49c00",
        "colab": {
          "base_uri": "https://localhost:8080/",
          "height": 204
        }
      },
      "source": [
        "# 2.2 Revisiones  \n",
        "DS_peliculas_rating.show(5)"
      ],
      "execution_count": 11,
      "outputs": [
        {
          "output_type": "stream",
          "text": [
            "+------+----------+-------+--------------------+---------------+------+-----------+--------------+------------+\n",
            "|userID|userID_cod|placeID|      Nombre_comerce|       Distrito|rating|food_rating|service_rating|rating_total|\n",
            "+------+----------+-------+--------------------+---------------+------+-----------+--------------+------------+\n",
            "| U1077|         1| 135085|Tortas Locas Hipo...|San Luis Potosi|     2|          2|             2|           6|\n",
            "| U1077|         1| 135038|Restaurant la Cha...|San Luis Potosi|     2|          2|             1|           5|\n",
            "| U1077|         1| 132825|     puesto de tacos|         s.l.p.|     2|          2|             2|           6|\n",
            "| U1077|         1| 135060|Restaurante Maris...|San Luis Potosi|     1|          2|             2|           5|\n",
            "| U1068|         2| 135104|                vips|              0|     1|          1|             2|           4|\n",
            "+------+----------+-------+--------------------+---------------+------+-----------+--------------+------------+\n",
            "only showing top 5 rows\n",
            "\n"
          ],
          "name": "stdout"
        }
      ]
    },
    {
      "cell_type": "code",
      "metadata": {
        "id": "CpYnf-WM3iun",
        "colab_type": "code",
        "outputId": "c2427f9a-386d-48c2-ef0c-ae1ba3e93ed6",
        "colab": {
          "base_uri": "https://localhost:8080/",
          "height": 34
        }
      },
      "source": [
        "# 2.3 Validacion de carga del total de registros\n",
        "print(DS_peliculas_rating.count())"
      ],
      "execution_count": 12,
      "outputs": [
        {
          "output_type": "stream",
          "text": [
            "50766\n"
          ],
          "name": "stdout"
        }
      ]
    },
    {
      "cell_type": "code",
      "metadata": {
        "id": "7J1Stx2j9KdX",
        "colab_type": "code",
        "outputId": "196c7396-8783-47a0-b721-3f3f6275f342",
        "colab": {
          "base_uri": "https://localhost:8080/",
          "height": 207
        }
      },
      "source": [
        "# 2.4 Exploracion inicial\n",
        "DS_peliculas_rating.describe().show()"
      ],
      "execution_count": 13,
      "outputs": [
        {
          "output_type": "stream",
          "text": [
            "+-------+------+------------------+------------------+--------------------+---------+------------------+------------------+------------------+-----------------+\n",
            "|summary|userID|        userID_cod|           placeID|      Nombre_comerce| Distrito|            rating|       food_rating|    service_rating|     rating_total|\n",
            "+-------+------+------------------+------------------+--------------------+---------+------------------+------------------+------------------+-----------------+\n",
            "|  count| 50766|             50766|             50766|               50766|    50766|             50766|             50766|             50766|            50766|\n",
            "|   mean|  null| 67.34026710790687|  134254.559390143|                null|      0.0|1.2218216916834101| 1.244277666154513| 1.109856990899421|3.575956348737344|\n",
            "| stddev|  null|32.640689951647815|1079.9216692471784|                null|      0.0|0.7706200957794772|0.7863420037824467|0.7915679876580894|2.083855254035862|\n",
            "|    min| U1001|                 1|            132560|Abondance Restaur...|        0|                 0|                 0|                 0|                0|\n",
            "|    max| U1138|               138|            135109|                vips|victoria |                 2|                 2|                 2|                6|\n",
            "+-------+------+------------------+------------------+--------------------+---------+------------------+------------------+------------------+-----------------+\n",
            "\n"
          ],
          "name": "stdout"
        }
      ]
    },
    {
      "cell_type": "code",
      "metadata": {
        "id": "K0TIDmgJMwmI",
        "colab_type": "code",
        "outputId": "42b1f4c1-27c2-451b-c563-e39c2297f3b2",
        "colab": {
          "base_uri": "https://localhost:8080/",
          "height": 459
        }
      },
      "source": [
        "DS_peliculas_rating.filter(DS_peliculas_rating['userID']=='U1106').show()"
      ],
      "execution_count": 14,
      "outputs": [
        {
          "output_type": "stream",
          "text": [
            "+------+----------+-------+--------------------+---------------+------+-----------+--------------+------------+\n",
            "|userID|userID_cod|placeID|      Nombre_comerce|       Distrito|rating|food_rating|service_rating|rating_total|\n",
            "+------+----------+-------+--------------------+---------------+------+-----------+--------------+------------+\n",
            "| U1106|        44| 135041|           Luna Cafe|San Luis Potosi|     1|          1|             1|           3|\n",
            "| U1106|        44| 135032|Cafeteria y Resta...|San Luis Potosi|     0|          0|             0|           0|\n",
            "| U1106|        44| 135028|         La Virreina|San Luis Potosi|     2|          1|             0|           3|\n",
            "| U1106|        44| 135047|Restaurante Casa ...|San Luis Potosi|     0|          0|             0|           0|\n",
            "| U1106|        44| 135052|La Cantina Restau...|San Luis Potosi|     0|          0|             0|           0|\n",
            "| U1106|        44| 135106|El Rinc�n de San ...|San Luis Potosi|     0|          0|             0|           0|\n",
            "| U1106|        44| 132754|     Cabana Huasteca|San Luis Potosi|     2|          2|             1|           5|\n",
            "| U1106|        44| 132856|       Unicols Pizza|San Luis Potosi|     0|          1|             0|           1|\n",
            "| U1106|        44| 132834| Gorditas Doa Gloria|san luis potosi|     2|          1|             1|           4|\n",
            "| U1106|        44| 135042|Restaurant Orient...|San Luis Potosi|     2|          0|             0|           2|\n",
            "| U1106|        44| 135039|Restaurant de Mar...|San Luis Potosi|     2|          1|             1|           4|\n",
            "| U1106|        44| 135066|  Restaurante Guerra|San Luis Potosi|     2|          1|             2|           5|\n",
            "| U1106|        44| 135085|Tortas Locas Hipo...|San Luis Potosi|     2|          2|             2|           6|\n",
            "| U1106|        44| 135062|Restaurante El Ci...|San Luis Potosi|     2|          2|             1|           5|\n",
            "| U1106|        44| 132862|La Posada del Virrey|San Luis Potosi|     2|          2|             2|           6|\n",
            "| U1106|        44| 135030|Preambulo Wifi Zo...|San Luis Potosi|     2|          2|             1|           5|\n",
            "| U1106|        44| 135079|          Koye Sushi|San Luis Potosi|     2|          2|             2|           6|\n",
            "| U1106|        44| 135064|Restaurante El Ch...|San Luis Potosi|     2|          2|             2|           6|\n",
            "| U1106|        44| 135041|           Luna Cafe|San Luis Potosi|     1|          1|             1|           3|\n",
            "| U1106|        44| 135032|Cafeteria y Resta...|San Luis Potosi|     0|          0|             0|           0|\n",
            "+------+----------+-------+--------------------+---------------+------+-----------+--------------+------------+\n",
            "only showing top 20 rows\n",
            "\n"
          ],
          "name": "stdout"
        }
      ]
    },
    {
      "cell_type": "code",
      "metadata": {
        "id": "5UavJB8AASDE",
        "colab_type": "code",
        "outputId": "0bf5c104-c0b2-478d-c61b-cbbf38b73148",
        "colab": {
          "base_uri": "https://localhost:8080/",
          "height": 289
        }
      },
      "source": [
        "# 2.5 Los clientes que más vistaron la plataforma de videos\n",
        "DS_peliculas_rating.groupBy('userId').count().orderBy('count',ascending=False).show(10,False)"
      ],
      "execution_count": 15,
      "outputs": [
        {
          "output_type": "stream",
          "text": [
            "+------+-----+\n",
            "|userId|count|\n",
            "+------+-----+\n",
            "|U1106 |1198 |\n",
            "|U1071 |949  |\n",
            "|U1024 |933  |\n",
            "|U1016 |897  |\n",
            "|U1036 |876  |\n",
            "|U1104 |868  |\n",
            "|U1009 |759  |\n",
            "|U1037 |755  |\n",
            "|U1084 |730  |\n",
            "|U1132 |730  |\n",
            "+------+-----+\n",
            "only showing top 10 rows\n",
            "\n"
          ],
          "name": "stdout"
        }
      ]
    },
    {
      "cell_type": "code",
      "metadata": {
        "id": "ZUivRJvPAjI3",
        "colab_type": "code",
        "outputId": "aa02cddc-f941-4215-feda-f65e12a96b9b",
        "colab": {
          "base_uri": "https://localhost:8080/",
          "height": 289
        }
      },
      "source": [
        "# 2.6  Las clientes que menos vieron las peliculas\n",
        "DS_peliculas_rating.groupBy('Nombre_comerce').count().orderBy('count',ascending=True).show(10,False)"
      ],
      "execution_count": 16,
      "outputs": [
        {
          "output_type": "stream",
          "text": [
            "+-------------------------------------+-----+\n",
            "|Nombre_comerce                       |count|\n",
            "+-------------------------------------+-----+\n",
            "|emilianos                            |99   |\n",
            "|Carnitas Mata  Calle 16 de Septiembre|100  |\n",
            "|cafe ambar                           |100  |\n",
            "|la perica hamburguesa                |102  |\n",
            "|tortas hawai                         |109  |\n",
            "|puesto de gorditas                   |109  |\n",
            "|tacos los volcanes                   |118  |\n",
            "|churchs                              |126  |\n",
            "|TACOS EL GUERO                       |133  |\n",
            "|Arrachela Grill                      |135  |\n",
            "+-------------------------------------+-----+\n",
            "only showing top 10 rows\n",
            "\n"
          ],
          "name": "stdout"
        }
      ]
    },
    {
      "cell_type": "code",
      "metadata": {
        "id": "G8FFxr65JNn5",
        "colab_type": "code",
        "outputId": "ce1b26e9-171a-46c5-adeb-86977a475f68",
        "colab": {
          "base_uri": "https://localhost:8080/",
          "height": 289
        }
      },
      "source": [
        "DS_peliculas_rating.groupBy('Distrito').count().orderBy('count',ascending=False).show(10,False)"
      ],
      "execution_count": 17,
      "outputs": [
        {
          "output_type": "stream",
          "text": [
            "+---------------+-----+\n",
            "|Distrito       |count|\n",
            "+---------------+-----+\n",
            "|San Luis Potosi|33108|\n",
            "|0              |4283 |\n",
            "|Cuernavaca     |3824 |\n",
            "|san luis potosi|1969 |\n",
            "|victoria       |1642 |\n",
            "|s.l.p.         |1387 |\n",
            "|Jiutepec       |1001 |\n",
            "|Soledad        |705  |\n",
            "|Ciudad Victoria|629  |\n",
            "|s.l.p          |497  |\n",
            "+---------------+-----+\n",
            "only showing top 10 rows\n",
            "\n"
          ],
          "name": "stdout"
        }
      ]
    },
    {
      "cell_type": "code",
      "metadata": {
        "id": "4APjWXzmIyK7",
        "colab_type": "code",
        "outputId": "0777557e-80e5-4acd-c07d-e8a99933d07e",
        "colab": {
          "base_uri": "https://localhost:8080/",
          "height": 221
        }
      },
      "source": [
        "DS_peliculas_rating.groupBy('rating_total').count().orderBy('count',ascending=False).show(10,False)"
      ],
      "execution_count": 18,
      "outputs": [
        {
          "output_type": "stream",
          "text": [
            "+------------+-----+\n",
            "|rating_total|count|\n",
            "+------------+-----+\n",
            "|6           |13423|\n",
            "|3           |9707 |\n",
            "|0           |8115 |\n",
            "|4           |7757 |\n",
            "|5           |6324 |\n",
            "|2           |3790 |\n",
            "|1           |1650 |\n",
            "+------------+-----+\n",
            "\n"
          ],
          "name": "stdout"
        }
      ]
    },
    {
      "cell_type": "code",
      "metadata": {
        "id": "AKsdAXlaG0ug",
        "colab_type": "code",
        "outputId": "87e4d163-425c-4154-d2ad-5f9f45617e93",
        "colab": {
          "base_uri": "https://localhost:8080/",
          "height": 391
        }
      },
      "source": [
        "#Cliente que mas consume en determinado comercio\n",
        "DS_peliculas_rating.filter(DS_peliculas_rating['Nombre_comerce']=='Luna Cafe').groupBy('userID').count().orderBy('count',ascending=False).show()"
      ],
      "execution_count": 19,
      "outputs": [
        {
          "output_type": "stream",
          "text": [
            "+------+-----+\n",
            "|userID|count|\n",
            "+------+-----+\n",
            "| U1024|   73|\n",
            "| U1049|   73|\n",
            "| U1005|   73|\n",
            "| U1104|   69|\n",
            "| U1045|   69|\n",
            "| U1054|   61|\n",
            "| U1075|   49|\n",
            "| U1126|   41|\n",
            "| U1106|   41|\n",
            "| U1086|   40|\n",
            "| U1061|   40|\n",
            "| U1101|   38|\n",
            "| U1135|   38|\n",
            "| U1003|   38|\n",
            "| U1078|   38|\n",
            "| U1088|   35|\n",
            "| U1002|   20|\n",
            "+------+-----+\n",
            "\n"
          ],
          "name": "stdout"
        }
      ]
    },
    {
      "cell_type": "code",
      "metadata": {
        "colab_type": "code",
        "outputId": "353a222c-0c72-40e3-b2ae-6c93b552e812",
        "id": "EypxDfmvGwYF",
        "colab": {
          "base_uri": "https://localhost:8080/",
          "height": 289
        }
      },
      "source": [
        "# 2.6  Las clientes que menos vieron las peliculas\n",
        "DS_peliculas_rating.groupBy('Distrito').count().orderBy('count',ascending=True).show(10,False)"
      ],
      "execution_count": 20,
      "outputs": [
        {
          "output_type": "stream",
          "text": [
            "+----------------+-----+\n",
            "|Distrito        |count|\n",
            "+----------------+-----+\n",
            "|san luis potos  |99   |\n",
            "|Cd. Victoria    |100  |\n",
            "|Cd Victoria     |216  |\n",
            "|victoria        |252  |\n",
            "|san luis potosi |268  |\n",
            "|slp             |319  |\n",
            "|cuernavaca      |467  |\n",
            "|s.l.p           |497  |\n",
            "|Ciudad Victoria |629  |\n",
            "|Soledad         |705  |\n",
            "+----------------+-----+\n",
            "only showing top 10 rows\n",
            "\n"
          ],
          "name": "stdout"
        }
      ]
    },
    {
      "cell_type": "code",
      "metadata": {
        "id": "hO-eIVs4A0Is",
        "colab_type": "code",
        "outputId": "aab9f108-864e-4764-9b11-7f107defd77a",
        "colab": {
          "base_uri": "https://localhost:8080/",
          "height": 289
        }
      },
      "source": [
        "# 2.7  Las peliculas con mayor numero de visualizaciones\n",
        "DS_peliculas_rating.groupBy('Nombre_comerce').count().orderBy('count',ascending=False).show(10,False)"
      ],
      "execution_count": 21,
      "outputs": [
        {
          "output_type": "stream",
          "text": [
            "+----------------------------------+-----+\n",
            "|Nombre_comerce                    |count|\n",
            "+----------------------------------+-----+\n",
            "|Tortas Locas Hipocampo            |1641 |\n",
            "|Cafeteria y Restaurant El Pacifico|1466 |\n",
            "|puesto de tacos                   |1387 |\n",
            "|La Cantina Restaurante            |1202 |\n",
            "|Restaurant la Chalita             |1200 |\n",
            "|Gorditas Doa Gloria               |1176 |\n",
            "|Restaurante Marisco Sam           |1017 |\n",
            "|Restaurant Oriental Express       |955  |\n",
            "|Restaurante El Cielo Potosino     |945  |\n",
            "|Luna Cafe                         |836  |\n",
            "+----------------------------------+-----+\n",
            "only showing top 10 rows\n",
            "\n"
          ],
          "name": "stdout"
        }
      ]
    },
    {
      "cell_type": "code",
      "metadata": {
        "id": "72-1CAMzXvSt",
        "colab_type": "code",
        "outputId": "94f67b7b-30c2-4a25-b2ae-3d4736b10e53",
        "colab": {
          "base_uri": "https://localhost:8080/",
          "height": 281
        }
      },
      "source": [
        "#Graficas\n",
        "res= DS_peliculas_rating.groupBy('Nombre_comerce').count().orderBy('count',ascending=False)\n",
        "red=res.toPandas()\n",
        "\n",
        "import pandas as pd\n",
        "import matplotlib.pyplot as plt\n",
        "import seaborn as sns\n",
        "\n",
        "ax=sns.barplot(x=\"Nombre_comerce\", y=\"count\", data=red)\n",
        "\n"
      ],
      "execution_count": 22,
      "outputs": [
        {
          "output_type": "display_data",
          "data": {
            "image/png": "[encoded data removed]",
            "text/plain": [
              "<Figure size 432x288 with 1 Axes>"
            ]
          },
          "metadata": {
            "tags": []
          }
        }
      ]
    },
    {
      "cell_type": "code",
      "metadata": {
        "id": "6rRu9-sxBI0_",
        "colab_type": "code",
        "colab": {
          "base_uri": "https://localhost:8080/",
          "height": 289
        },
        "outputId": "455acb82-917b-4db4-edc4-73cba2e5dd71"
      },
      "source": [
        "# Peliculas con menos numero de visualizaciones \n",
        "DS_peliculas_rating.groupBy('Nombre_comerce').count().orderBy('count',ascending=True).show(10,False)"
      ],
      "execution_count": 24,
      "outputs": [
        {
          "output_type": "stream",
          "text": [
            "+-------------------------------------+-----+\n",
            "|Nombre_comerce                       |count|\n",
            "+-------------------------------------+-----+\n",
            "|emilianos                            |99   |\n",
            "|Carnitas Mata  Calle 16 de Septiembre|100  |\n",
            "|cafe ambar                           |100  |\n",
            "|la perica hamburguesa                |102  |\n",
            "|tortas hawai                         |109  |\n",
            "|puesto de gorditas                   |109  |\n",
            "|tacos los volcanes                   |118  |\n",
            "|churchs                              |126  |\n",
            "|TACOS EL GUERO                       |133  |\n",
            "|Arrachela Grill                      |135  |\n",
            "+-------------------------------------+-----+\n",
            "only showing top 10 rows\n",
            "\n"
          ],
          "name": "stdout"
        }
      ]
    },
    {
      "cell_type": "code",
      "metadata": {
        "id": "zw4K8CdeeVvt",
        "colab_type": "code",
        "colab": {}
      },
      "source": [
        "# El cliente 100 y el 450 cold celd\n",
        "DS_peliculas_rating.filter((DS_peliculas_rating['Nombre_comerce']=='Star Wars (1977)')&(DS_peliculas_rating['userId']=='450')).show()\n",
        "#DS_peliculas_rating.filter((DS_peliculas_rating['title']=='Star Wars (1977)')&(DS_peliculas_rating['userId']=='100')).show()"
      ],
      "execution_count": 0,
      "outputs": []
    },
    {
      "cell_type": "markdown",
      "metadata": {
        "id": "nhC6tpUw39tn",
        "colab_type": "text"
      },
      "source": [
        "# 3. FEature Engineering: Tansforma pelicula a numero\n",
        "\n"
      ]
    },
    {
      "cell_type": "code",
      "metadata": {
        "id": "h05_VfzA4C1k",
        "colab_type": "code",
        "colab": {}
      },
      "source": [
        "# Importando el codifocador\n",
        "from pyspark.ml.feature import StringIndexer,IndexToString"
      ],
      "execution_count": 0,
      "outputs": []
    },
    {
      "cell_type": "code",
      "metadata": {
        "id": "LBiAQR4tB8ul",
        "colab_type": "code",
        "colab": {}
      },
      "source": [
        "# Configurando la Numerzación los titulos de las peliculas\n",
        "# title_new = La codificación de las peliculas\n",
        "stringIndexer = StringIndexer(inputCol=\"Nombre_comerce\", outputCol=\"Nombre_comerce_new\")"
      ],
      "execution_count": 0,
      "outputs": []
    },
    {
      "cell_type": "code",
      "metadata": {
        "id": "1Lik8aKaCw_O",
        "colab_type": "code",
        "colab": {}
      },
      "source": [
        "#Aplicando la numerización de peliculas\n",
        "model = stringIndexer.fit(DS_peliculas_rating)"
      ],
      "execution_count": 0,
      "outputs": []
    },
    {
      "cell_type": "code",
      "metadata": {
        "id": "ANbGXtZHDBxt",
        "colab_type": "code",
        "colab": {}
      },
      "source": [
        "#Creando un nuevo Dataframe con el indexado creado\n",
        "indexed = model.transform(DS_peliculas_rating)"
      ],
      "execution_count": 0,
      "outputs": []
    },
    {
      "cell_type": "code",
      "metadata": {
        "id": "mLkAhgfoCg4X",
        "colab_type": "code",
        "outputId": "81c5b775-fa68-4372-b3e6-55b311c1778f",
        "colab": {
          "base_uri": "https://localhost:8080/",
          "height": 289
        }
      },
      "source": [
        "#Revision de los indices\n",
        "indexed.show(10)"
      ],
      "execution_count": 29,
      "outputs": [
        {
          "output_type": "stream",
          "text": [
            "+------+----------+-------+--------------------+---------------+------+-----------+--------------+------------+------------------+\n",
            "|userID|userID_cod|placeID|      Nombre_comerce|       Distrito|rating|food_rating|service_rating|rating_total|Nombre_comerce_new|\n",
            "+------+----------+-------+--------------------+---------------+------+-----------+--------------+------------+------------------+\n",
            "| U1077|         1| 135085|Tortas Locas Hipo...|San Luis Potosi|     2|          2|             2|           6|               0.0|\n",
            "| U1077|         1| 135038|Restaurant la Cha...|San Luis Potosi|     2|          2|             1|           5|               4.0|\n",
            "| U1077|         1| 132825|     puesto de tacos|         s.l.p.|     2|          2|             2|           6|               2.0|\n",
            "| U1077|         1| 135060|Restaurante Maris...|San Luis Potosi|     1|          2|             2|           5|               6.0|\n",
            "| U1068|         2| 135104|                vips|              0|     1|          1|             2|           4|              80.0|\n",
            "| U1068|         2| 132740|Carreton de Flaut...|Ciudad Victoria|     0|          0|             0|           0|              72.0|\n",
            "| U1068|         2| 132663|           tacos abi|       victoria|     1|          1|             1|           3|              91.0|\n",
            "| U1068|         2| 132732|  Taqueria EL amigo |    Cd Victoria|     0|          0|             0|           0|              81.0|\n",
            "| U1068|         2| 132630|          palomo tec|       victoria|     1|          1|             1|           3|             101.0|\n",
            "| U1067|         3| 132584|  Gorditas Dona Tota|              0|     2|          2|             2|           6|              61.0|\n",
            "+------+----------+-------+--------------------+---------------+------+-----------+--------------+------------+------------------+\n",
            "only showing top 10 rows\n",
            "\n"
          ],
          "name": "stdout"
        }
      ]
    },
    {
      "cell_type": "code",
      "metadata": {
        "id": "0uDCzdTqDg5D",
        "colab_type": "code",
        "outputId": "31b77dc4-24b4-4267-9422-3f48f8f03262",
        "colab": {
          "base_uri": "https://localhost:8080/",
          "height": 289
        }
      },
      "source": [
        "#Numero de veces que cada titulo ha aparecido\n",
        "indexed.groupBy('Nombre_comerce_new').count().orderBy('count',ascending=False).show(10,False)"
      ],
      "execution_count": 30,
      "outputs": [
        {
          "output_type": "stream",
          "text": [
            "+------------------+-----+\n",
            "|Nombre_comerce_new|count|\n",
            "+------------------+-----+\n",
            "|0.0               |1641 |\n",
            "|1.0               |1466 |\n",
            "|2.0               |1387 |\n",
            "|3.0               |1202 |\n",
            "|4.0               |1200 |\n",
            "|5.0               |1176 |\n",
            "|6.0               |1017 |\n",
            "|7.0               |955  |\n",
            "|8.0               |945  |\n",
            "|9.0               |836  |\n",
            "+------------------+-----+\n",
            "only showing top 10 rows\n",
            "\n"
          ],
          "name": "stdout"
        }
      ]
    },
    {
      "cell_type": "markdown",
      "metadata": {
        "id": "xgUobOLemd25",
        "colab_type": "text"
      },
      "source": [
        "# 4. Dividiendo la data en muestra de entrenamiento y validacion\n"
      ]
    },
    {
      "cell_type": "code",
      "metadata": {
        "id": "8ws92PIxmkGs",
        "colab_type": "code",
        "colab": {}
      },
      "source": [
        "#4.1  Data de entrenamiento y validacion\n",
        "train,test=indexed.randomSplit([0.75,0.25],seed=1234)"
      ],
      "execution_count": 0,
      "outputs": []
    },
    {
      "cell_type": "code",
      "metadata": {
        "id": "AVzr9MGdD_Mi",
        "colab_type": "code",
        "outputId": "44089c62-ac6e-481f-f8e3-bc3e9c034928",
        "colab": {
          "base_uri": "https://localhost:8080/",
          "height": 34
        }
      },
      "source": [
        "# Nro de entrenamiento\n",
        "train.count()"
      ],
      "execution_count": 32,
      "outputs": [
        {
          "output_type": "execute_result",
          "data": {
            "text/plain": [
              "38060"
            ]
          },
          "metadata": {
            "tags": []
          },
          "execution_count": 32
        }
      ]
    },
    {
      "cell_type": "code",
      "metadata": {
        "id": "WYpYCZWtEFCo",
        "colab_type": "code",
        "outputId": "15031e13-d767-4b9e-befa-9f67798fa3af",
        "colab": {
          "base_uri": "https://localhost:8080/",
          "height": 34
        }
      },
      "source": [
        "# Nro de Validacion\n",
        "test.count()"
      ],
      "execution_count": 33,
      "outputs": [
        {
          "output_type": "execute_result",
          "data": {
            "text/plain": [
              "12706"
            ]
          },
          "metadata": {
            "tags": []
          },
          "execution_count": 33
        }
      ]
    },
    {
      "cell_type": "markdown",
      "metadata": {
        "id": "DzS3l96FELtG",
        "colab_type": "text"
      },
      "source": [
        "# 5. Entrenando el Modelo\n"
      ]
    },
    {
      "cell_type": "code",
      "metadata": {
        "id": "bBgycnsdm9_3",
        "colab_type": "code",
        "colab": {}
      },
      "source": [
        "#Importando el modelo Recomendador ALS\n",
        "from pyspark.sql.functions import *\n",
        "from pyspark.ml.recommendation import ALS\n"
      ],
      "execution_count": 0,
      "outputs": []
    },
    {
      "cell_type": "code",
      "metadata": {
        "id": "spViP-t4EY-7",
        "colab_type": "code",
        "colab": {}
      },
      "source": [
        "#Configuracion del Entrenamiento del modelo Recomendador usando la muetsra de entrenamiento\n",
        "rec=ALS(maxIter=10,regParam=0.01,userCol='userID_cod',itemCol='Nombre_comerce_new',ratingCol='rating_total',nonnegative=True,coldStartStrategy=\"drop\",implicitPrefs=False,seed=1234)\n",
        "\n",
        "# maxIter: El maximo de iteraciones\n",
        "# regParam: Parametro de REgularización\n",
        "# nonnegative: Especificar si se utiliza una restriccion negativa en los Minimos cuadrados\n",
        "# coldStartStrategy: Parametro que elimina cualquier cliente que no tenga informacion\n",
        "# implicitPrefs: Si es implicito hace referencia a feedback no registrado voluntariamente por el cliente"
      ],
      "execution_count": 0,
      "outputs": []
    },
    {
      "cell_type": "code",
      "metadata": {
        "id": "coVXq71IEkIS",
        "colab_type": "code",
        "colab": {}
      },
      "source": [
        "#Entrenando el modelo\n",
        "rec_model=rec.fit(train)"
      ],
      "execution_count": 0,
      "outputs": []
    },
    {
      "cell_type": "code",
      "metadata": {
        "id": "fJxeEWJ5E0c0",
        "colab_type": "code",
        "colab": {}
      },
      "source": [
        "#Haciendo las predicciones en la data de test \n",
        "predicted_ratings=rec_model.transform(test)"
      ],
      "execution_count": 0,
      "outputs": []
    },
    {
      "cell_type": "code",
      "metadata": {
        "id": "m55jvm2gEyCY",
        "colab_type": "code",
        "outputId": "62deca0e-9141-434b-e73f-40af5940cc85",
        "colab": {
          "base_uri": "https://localhost:8080/",
          "height": 238
        }
      },
      "source": [
        "#Revisando los pronostico\n",
        "predicted_ratings.printSchema()"
      ],
      "execution_count": 38,
      "outputs": [
        {
          "output_type": "stream",
          "text": [
            "root\n",
            " |-- userID: string (nullable = true)\n",
            " |-- userID_cod: integer (nullable = true)\n",
            " |-- placeID: integer (nullable = true)\n",
            " |-- Nombre_comerce: string (nullable = true)\n",
            " |-- Distrito: string (nullable = true)\n",
            " |-- rating: integer (nullable = true)\n",
            " |-- food_rating: integer (nullable = true)\n",
            " |-- service_rating: integer (nullable = true)\n",
            " |-- rating_total: integer (nullable = true)\n",
            " |-- Nombre_comerce_new: double (nullable = false)\n",
            " |-- prediction: float (nullable = false)\n",
            "\n"
          ],
          "name": "stdout"
        }
      ]
    },
    {
      "cell_type": "code",
      "metadata": {
        "id": "h8cfiAWkFHxi",
        "colab_type": "code",
        "outputId": "5c2e6b87-aa8a-4cee-833f-0762e355749e",
        "colab": {
          "base_uri": "https://localhost:8080/",
          "height": 309
        }
      },
      "source": [
        "# Revision rapida de los pronosticos\n",
        "predicted_ratings.orderBy(rand()).show(10)"
      ],
      "execution_count": 39,
      "outputs": [
        {
          "output_type": "stream",
          "text": [
            "+------+----------+-------+--------------------+---------------+------+-----------+--------------+------------+------------------+----------+\n",
            "|userID|userID_cod|placeID|      Nombre_comerce|       Distrito|rating|food_rating|service_rating|rating_total|Nombre_comerce_new|prediction|\n",
            "+------+----------+-------+--------------------+---------------+------+-----------+--------------+------------+------------------+----------+\n",
            "| U1028|       130| 132733|       Little Cesarz|Ciudad Victoria|     1|          1|             1|           3|              51.0|  3.051311|\n",
            "| U1015|        12| 132869|       Dominos Pizza|San Luis Potosi|     2|          2|             2|           6|              59.0| 5.9421577|\n",
            "| U1042|        88| 135021|              Subway|     Cuernavaca|     1|          2|             0|           3|              38.0| 3.0008461|\n",
            "| U1005|        60| 135057|El Herradero Rest...|San Luis Potosi|     1|          2|             1|           4|              13.0| 4.1161346|\n",
            "| U1045|        76| 135041|           Luna Cafe|San Luis Potosi|     1|          2|             1|           4|               9.0| 4.2369595|\n",
            "| U1120|        61| 135038|Restaurant la Cha...|San Luis Potosi|     0|          0|             0|           0|               4.0|0.18850753|\n",
            "| U1085|        99| 135076|Restaurante Puebl...|San Luis Potosi|     2|          2|             2|           6|              21.0|  5.823946|\n",
            "| U1037|        63| 135071|Restaurante la Ca...|San Luis Potosi|     1|          0|             0|           1|              46.0| 1.2042584|\n",
            "| U1003|       108| 135079|          Koye Sushi|San Luis Potosi|     2|          2|             2|           6|              16.0| 5.9430113|\n",
            "| U1093|        19| 135019|Restaurant Bar Co...|       Jiutepec|     2|          2|             2|           6|              65.0| 5.9949584|\n",
            "+------+----------+-------+--------------------+---------------+------+-----------+--------------+------------+------------------+----------+\n",
            "only showing top 10 rows\n",
            "\n"
          ],
          "name": "stdout"
        }
      ]
    },
    {
      "cell_type": "code",
      "metadata": {
        "id": "H5sy0MCST3xP",
        "colab_type": "code",
        "colab": {}
      },
      "source": [
        "# Generando los top 10 peliculas sugeridas por cada cliente\n",
        "userRecs = rec_model.recommendForAllUsers(10)"
      ],
      "execution_count": 0,
      "outputs": []
    },
    {
      "cell_type": "code",
      "metadata": {
        "id": "iXB9FWCpUCEm",
        "colab_type": "code",
        "outputId": "cb67b6cc-9a99-4ee6-df86-e344784bf0fa",
        "colab": {
          "base_uri": "https://localhost:8080/",
          "height": 224
        }
      },
      "source": [
        "userRecs.show(5,False)"
      ],
      "execution_count": 41,
      "outputs": [
        {
          "output_type": "stream",
          "text": [
            "+----------+--------------------------------------------------------------------------------------------------------------------------------------------------------------------------+\n",
            "|userID_cod|recommendations                                                                                                                                                           |\n",
            "+----------+--------------------------------------------------------------------------------------------------------------------------------------------------------------------------+\n",
            "|31        |[[54, 6.0120754], [101, 5.4295473], [94, 5.0036316], [119, 4.995816], [40, 4.9185524], [58, 4.719034], [34, 4.550688], [65, 4.4456825], [62, 4.40077], [26, 4.2081914]]   |\n",
            "|85        |[[77, 5.998091], [86, 4.4816856], [65, 3.9762225], [116, 3.9088037], [74, 3.8237128], [79, 3.7655823], [34, 3.5224311], [19, 3.4967995], [99, 3.4836204], [121, 3.398422]]|\n",
            "|137       |[[6, 6.655279], [51, 6.305241], [61, 5.772696], [59, 5.768441], [11, 5.7627974], [116, 5.423319], [112, 5.404523], [13, 5.3817863], [38, 5.080883], [35, 4.9995413]]      |\n",
            "|65        |[[77, 13.144027], [105, 12.182462], [4, 10.795672], [79, 10.6157], [94, 10.599716], [92, 10.429557], [117, 10.236614], [76, 10.235126], [39, 9.659624], [82, 9.642007]]   |\n",
            "|53        |[[92, 8.064035], [123, 7.954647], [105, 7.4419074], [121, 7.0252223], [120, 6.8716516], [51, 6.7147346], [32, 6.640337], [0, 6.349822], [122, 6.2927256], [86, 6.289057]] |\n",
            "+----------+--------------------------------------------------------------------------------------------------------------------------------------------------------------------------+\n",
            "only showing top 5 rows\n",
            "\n"
          ],
          "name": "stdout"
        }
      ]
    },
    {
      "cell_type": "markdown",
      "metadata": {
        "id": "hSEgqY-EpCYi",
        "colab_type": "text"
      },
      "source": [
        "# 5. Evaluación del poder predictivo del modelo\n"
      ]
    },
    {
      "cell_type": "code",
      "metadata": {
        "id": "DmVUSxsmpJ4M",
        "colab_type": "code",
        "outputId": "1d253ba3-04a1-434b-dff6-4f714013849b",
        "colab": {
          "base_uri": "https://localhost:8080/",
          "height": 479
        }
      },
      "source": [
        "# Creando la columna diferencia del pronostico\n",
        "predicted_ratings_witherr=predicted_ratings.withColumn('err',abs(predicted_ratings.prediction - predicted_ratings.rating))\n",
        "\n",
        "predicted_ratings_witherr.show()"
      ],
      "execution_count": 42,
      "outputs": [
        {
          "output_type": "stream",
          "text": [
            "+------+----------+-------+---------------+--------+------+-----------+--------------+------------+------------------+----------+---------+\n",
            "|userID|userID_cod|placeID| Nombre_comerce|Distrito|rating|food_rating|service_rating|rating_total|Nombre_comerce_new|prediction|      err|\n",
            "+------+----------+-------+---------------+--------+------+-----------+--------------+------------+------------------+----------+---------+\n",
            "| U1062|        93| 132872|Pizzeria Julios|   s.l.p|     0|          0|             0|           0|              31.0|       0.0|      0.0|\n",
            "| U1062|        93| 132872|Pizzeria Julios|   s.l.p|     0|          0|             0|           0|              31.0|       0.0|      0.0|\n",
            "| U1062|        93| 132872|Pizzeria Julios|   s.l.p|     0|          0|             0|           0|              31.0|       0.0|      0.0|\n",
            "| U1062|        93| 132872|Pizzeria Julios|   s.l.p|     0|          0|             0|           0|              31.0|       0.0|      0.0|\n",
            "| U1062|        93| 132872|Pizzeria Julios|   s.l.p|     0|          0|             0|           0|              31.0|       0.0|      0.0|\n",
            "| U1062|        93| 132872|Pizzeria Julios|   s.l.p|     0|          0|             0|           0|              31.0|       0.0|      0.0|\n",
            "| U1062|        93| 132872|Pizzeria Julios|   s.l.p|     0|          0|             0|           0|              31.0|       0.0|      0.0|\n",
            "| U1062|        93| 132872|Pizzeria Julios|   s.l.p|     0|          0|             0|           0|              31.0|       0.0|      0.0|\n",
            "| U1062|        93| 132872|Pizzeria Julios|   s.l.p|     0|          0|             0|           0|              31.0|       0.0|      0.0|\n",
            "| U1062|        93| 132872|Pizzeria Julios|   s.l.p|     0|          0|             0|           0|              31.0|       0.0|      0.0|\n",
            "| U1062|        93| 132872|Pizzeria Julios|   s.l.p|     0|          0|             0|           0|              31.0|       0.0|      0.0|\n",
            "| U1062|        93| 132872|Pizzeria Julios|   s.l.p|     0|          0|             0|           0|              31.0|       0.0|      0.0|\n",
            "| U1032|        96| 132872|Pizzeria Julios|   s.l.p|     1|          1|             1|           3|              31.0| 2.8162417|1.8162417|\n",
            "| U1032|        96| 132872|Pizzeria Julios|   s.l.p|     1|          1|             1|           3|              31.0| 2.8162417|1.8162417|\n",
            "| U1032|        96| 132872|Pizzeria Julios|   s.l.p|     1|          1|             1|           3|              31.0| 2.8162417|1.8162417|\n",
            "| U1032|        96| 132872|Pizzeria Julios|   s.l.p|     1|          1|             1|           3|              31.0| 2.8162417|1.8162417|\n",
            "| U1032|        96| 132872|Pizzeria Julios|   s.l.p|     1|          1|             1|           3|              31.0| 2.8162417|1.8162417|\n",
            "| U1032|        96| 132872|Pizzeria Julios|   s.l.p|     1|          1|             1|           3|              31.0| 2.8162417|1.8162417|\n",
            "| U1032|        96| 132872|Pizzeria Julios|   s.l.p|     1|          1|             1|           3|              31.0| 2.8162417|1.8162417|\n",
            "| U1032|        96| 132872|Pizzeria Julios|   s.l.p|     1|          1|             1|           3|              31.0| 2.8162417|1.8162417|\n",
            "+------+----------+-------+---------------+--------+------+-----------+--------------+------------+------------------+----------+---------+\n",
            "only showing top 20 rows\n",
            "\n"
          ],
          "name": "stdout"
        }
      ]
    },
    {
      "cell_type": "code",
      "metadata": {
        "id": "5c9vbl7Q2b1x",
        "colab_type": "code",
        "outputId": "8d393fdf-c459-4c38-8979-e35dc3247f5d",
        "colab": {
          "base_uri": "https://localhost:8080/",
          "height": 221
        }
      },
      "source": [
        "# Distribución de las valoraciones\n",
        "predicted_ratings.groupBy('rating_total').count().orderBy('rating_total',ascending=True).show()"
      ],
      "execution_count": 43,
      "outputs": [
        {
          "output_type": "stream",
          "text": [
            "+------------+-----+\n",
            "|rating_total|count|\n",
            "+------------+-----+\n",
            "|           0| 2055|\n",
            "|           1|  404|\n",
            "|           2|  925|\n",
            "|           3| 2485|\n",
            "|           4| 1883|\n",
            "|           5| 1567|\n",
            "|           6| 3387|\n",
            "+------------+-----+\n",
            "\n"
          ],
          "name": "stdout"
        }
      ]
    },
    {
      "cell_type": "code",
      "metadata": {
        "id": "GgQi748YvWu7",
        "colab_type": "code",
        "outputId": "304ba7f0-6609-4e29-e58c-e348b1ee543d",
        "colab": {
          "base_uri": "https://localhost:8080/",
          "height": 221
        }
      },
      "source": [
        "# Error promedio por rating de valoracion\n",
        "predicted_ratings_witherr.groupBy('rating_total').agg({'err':'mean'}).orderBy('rating_total',ascending=True).show()"
      ],
      "execution_count": 44,
      "outputs": [
        {
          "output_type": "stream",
          "text": [
            "+------------+-------------------+\n",
            "|rating_total|           avg(err)|\n",
            "+------------+-------------------+\n",
            "|           0|0.13259095880180288|\n",
            "|           1| 0.7532827600394145|\n",
            "|           2|  1.327604872987077|\n",
            "|           3| 1.9705980539801615|\n",
            "|           4|  2.636680823466402|\n",
            "|           5| 3.2443232347650293|\n",
            "|           6| 3.9561610273953063|\n",
            "+------------+-------------------+\n",
            "\n"
          ],
          "name": "stdout"
        }
      ]
    },
    {
      "cell_type": "code",
      "metadata": {
        "id": "JO5oYYa_dnZT",
        "colab_type": "code",
        "outputId": "fb423d99-b3d3-4b80-b87e-e059daf1c22b",
        "colab": {
          "base_uri": "https://localhost:8080/",
          "height": 221
        }
      },
      "source": [
        "# Error promedio por rating de valoracion\n",
        "predicted_ratings_witherr.groupBy('rating_total').agg({'err':'std'}).orderBy('rating_total',ascending=True).show()"
      ],
      "execution_count": 45,
      "outputs": [
        {
          "output_type": "stream",
          "text": [
            "+------------+-------------------+\n",
            "|rating_total|        stddev(err)|\n",
            "+------------+-------------------+\n",
            "|           0|0.20719662257838592|\n",
            "|           1| 0.4560509912437527|\n",
            "|           2| 0.5126864701762673|\n",
            "|           3|0.33457197978731307|\n",
            "|           4| 0.5583086609947838|\n",
            "|           5|0.46281714498219173|\n",
            "|           6|0.12290088069475512|\n",
            "+------------+-------------------+\n",
            "\n"
          ],
          "name": "stdout"
        }
      ]
    },
    {
      "cell_type": "code",
      "metadata": {
        "id": "e0uziR670BFM",
        "colab_type": "code",
        "colab": {}
      },
      "source": [
        "#Importando el evaluador de Regresion RMSE \n",
        "from pyspark.ml.evaluation import RegressionEvaluator"
      ],
      "execution_count": 0,
      "outputs": []
    },
    {
      "cell_type": "code",
      "metadata": {
        "id": "XFO3FDV_ysT2",
        "colab_type": "code",
        "colab": {}
      },
      "source": [
        "#Evluando la presición del pronostico\n",
        "evaluator=RegressionEvaluator(metricName='rmse',predictionCol='prediction',labelCol='rating_total')"
      ],
      "execution_count": 0,
      "outputs": []
    },
    {
      "cell_type": "code",
      "metadata": {
        "id": "kP7KuqQbz7UD",
        "colab_type": "code",
        "colab": {}
      },
      "source": [
        "#Evluando el error de pronostico global\n",
        "rmse=evaluator.evaluate(predicted_ratings)"
      ],
      "execution_count": 0,
      "outputs": []
    },
    {
      "cell_type": "code",
      "metadata": {
        "id": "z4fUBfZ03t4Z",
        "colab_type": "code",
        "outputId": "d8068d84-a6a0-4e11-e565-e49f011214dd",
        "colab": {
          "base_uri": "https://localhost:8080/",
          "height": 34
        }
      },
      "source": [
        "#Imprimiento el error\n",
        "print(rmse)"
      ],
      "execution_count": 49,
      "outputs": [
        {
          "output_type": "stream",
          "text": [
            "0.15906528216358914\n"
          ],
          "name": "stdout"
        }
      ]
    },
    {
      "cell_type": "markdown",
      "metadata": {
        "id": "KG2wbeNe4hDU",
        "colab_type": "text"
      },
      "source": [
        "# 6. Recomendandor de peliculas, ya listo!"
      ]
    },
    {
      "cell_type": "code",
      "metadata": {
        "id": "06wR5qaF4pLL",
        "colab_type": "code",
        "colab": {}
      },
      "source": [
        "#Listado de comercios unicas\n",
        "unique_movies=indexed.select('Nombre_comerce_new').distinct()"
      ],
      "execution_count": 0,
      "outputs": []
    },
    {
      "cell_type": "code",
      "metadata": {
        "id": "WIRmCdZNHNfX",
        "colab_type": "code",
        "outputId": "bb10af19-172b-48d4-f3e8-6442e99615b4",
        "colab": {
          "base_uri": "https://localhost:8080/",
          "height": 34
        }
      },
      "source": [
        "#Total de peliculas\n",
        "unique_movies.count()"
      ],
      "execution_count": 51,
      "outputs": [
        {
          "output_type": "execute_result",
          "data": {
            "text/plain": [
              "129"
            ]
          },
          "metadata": {
            "tags": []
          },
          "execution_count": 51
        }
      ]
    },
    {
      "cell_type": "code",
      "metadata": {
        "id": "txVjDgJKOThq",
        "colab_type": "code",
        "outputId": "6c9b4a07-244a-4f89-cc54-808514e3b717",
        "colab": {
          "base_uri": "https://localhost:8080/",
          "height": 289
        }
      },
      "source": [
        "unique_movies.show(10,False)"
      ],
      "execution_count": 52,
      "outputs": [
        {
          "output_type": "stream",
          "text": [
            "+------------------+\n",
            "|Nombre_comerce_new|\n",
            "+------------------+\n",
            "|67.0              |\n",
            "|8.0               |\n",
            "|70.0              |\n",
            "|0.0               |\n",
            "|69.0              |\n",
            "|7.0               |\n",
            "|112.0             |\n",
            "|124.0             |\n",
            "|128.0             |\n",
            "|108.0             |\n",
            "+------------------+\n",
            "only showing top 10 rows\n",
            "\n"
          ],
          "name": "stdout"
        }
      ]
    },
    {
      "cell_type": "code",
      "metadata": {
        "id": "taX8DiH85XBQ",
        "colab_type": "code",
        "colab": {}
      },
      "source": [
        "#Asignando un alias {a} la lista unica de peliculas\n",
        "a = unique_movies.alias('a')"
      ],
      "execution_count": 0,
      "outputs": []
    },
    {
      "cell_type": "code",
      "metadata": {
        "id": "s9V_iwTDN7ad",
        "colab_type": "code",
        "outputId": "97c2a1d8-9b5d-4159-d405-1bfb3cc9c39b",
        "colab": {
          "base_uri": "https://localhost:8080/",
          "height": 204
        }
      },
      "source": [
        "a.show(5)"
      ],
      "execution_count": 55,
      "outputs": [
        {
          "output_type": "stream",
          "text": [
            "+------------------+\n",
            "|Nombre_comerce_new|\n",
            "+------------------+\n",
            "|              67.0|\n",
            "|               8.0|\n",
            "|              70.0|\n",
            "|               0.0|\n",
            "|              69.0|\n",
            "+------------------+\n",
            "only showing top 5 rows\n",
            "\n"
          ],
          "name": "stdout"
        }
      ]
    },
    {
      "cell_type": "code",
      "metadata": {
        "id": "XBoqyCAU51sv",
        "colab_type": "code",
        "outputId": "d327e529-9d5b-4f27-cf2e-63fdd609fe23",
        "colab": {
          "base_uri": "https://localhost:8080/",
          "height": 34
        }
      },
      "source": [
        "# Eligiendo un cliente\n",
        "user_id=44\n",
        "\n",
        "# Creando una tabla que contiene una pelicula por usuario\n",
        "watched_movies=indexed.filter(indexed['userID_cod'] == user_id).select('Nombre_comerce_new').distinct()\n",
        "\n",
        "#Numero de peliculas ya evaluadas \n",
        "watched_movies.count()"
      ],
      "execution_count": 73,
      "outputs": [
        {
          "output_type": "execute_result",
          "data": {
            "text/plain": [
              "18"
            ]
          },
          "metadata": {
            "tags": []
          },
          "execution_count": 73
        }
      ]
    },
    {
      "cell_type": "code",
      "metadata": {
        "id": "oyv-yms65v5v",
        "colab_type": "code",
        "colab": {}
      },
      "source": [
        "# Asignando un alias  {b} ha peliculas que el usuario ya vio de la tabla\n",
        "b=watched_movies.alias('b')"
      ],
      "execution_count": 0,
      "outputs": []
    },
    {
      "cell_type": "code",
      "metadata": {
        "id": "YVVaJzxhOKUS",
        "colab_type": "code",
        "outputId": "65fd41e3-1040-4529-a1f9-3c363633f2fd",
        "colab": {
          "base_uri": "https://localhost:8080/",
          "height": 408
        }
      },
      "source": [
        "b.show()"
      ],
      "execution_count": 75,
      "outputs": [
        {
          "output_type": "stream",
          "text": [
            "+------------------+\n",
            "|Nombre_comerce_new|\n",
            "+------------------+\n",
            "|               8.0|\n",
            "|               0.0|\n",
            "|               7.0|\n",
            "|              18.0|\n",
            "|               1.0|\n",
            "|              45.0|\n",
            "|              14.0|\n",
            "|              22.0|\n",
            "|               3.0|\n",
            "|              19.0|\n",
            "|              27.0|\n",
            "|              10.0|\n",
            "|              20.0|\n",
            "|              32.0|\n",
            "|               5.0|\n",
            "|              24.0|\n",
            "|               9.0|\n",
            "|              16.0|\n",
            "+------------------+\n",
            "\n"
          ],
          "name": "stdout"
        }
      ]
    },
    {
      "cell_type": "code",
      "metadata": {
        "id": "2g1l6cNKIg3N",
        "colab_type": "code",
        "colab": {}
      },
      "source": [
        "#Cruzando ambas tablas\n",
        "total_movies = a.join(b, a.Nombre_comerce_new == b.Nombre_comerce_new,how='left')"
      ],
      "execution_count": 0,
      "outputs": []
    },
    {
      "cell_type": "code",
      "metadata": {
        "id": "oQSPG1WPIyHc",
        "colab_type": "code",
        "outputId": "f0970462-3637-473f-9426-13f5f5275ef3",
        "colab": {
          "base_uri": "https://localhost:8080/",
          "height": 289
        }
      },
      "source": [
        "total_movies.show(10,False)"
      ],
      "execution_count": 77,
      "outputs": [
        {
          "output_type": "stream",
          "text": [
            "+------------------+------------------+\n",
            "|Nombre_comerce_new|Nombre_comerce_new|\n",
            "+------------------+------------------+\n",
            "|67.0              |null              |\n",
            "|8.0               |8.0               |\n",
            "|70.0              |null              |\n",
            "|0.0               |0.0               |\n",
            "|69.0              |null              |\n",
            "|7.0               |7.0               |\n",
            "|112.0             |null              |\n",
            "|124.0             |null              |\n",
            "|128.0             |null              |\n",
            "|108.0             |null              |\n",
            "+------------------+------------------+\n",
            "only showing top 10 rows\n",
            "\n"
          ],
          "name": "stdout"
        }
      ]
    },
    {
      "cell_type": "code",
      "metadata": {
        "id": "jTTbDE_oI4Rv",
        "colab_type": "code",
        "colab": {}
      },
      "source": [
        "# Seleccionando peliculas que el cliente aun no ha mirado\n",
        "remaining_movies=total_movies.where(col(\"b.Nombre_comerce_new\").isNull()).select(a.Nombre_comerce_new).distinct()"
      ],
      "execution_count": 0,
      "outputs": []
    },
    {
      "cell_type": "code",
      "metadata": {
        "id": "oNshK4j_JBIG",
        "colab_type": "code",
        "outputId": "15076c17-7e55-4ced-bd86-8cd9e1d11149",
        "colab": {
          "base_uri": "https://localhost:8080/",
          "height": 187
        }
      },
      "source": [
        "remaining_movies.show(4)"
      ],
      "execution_count": 79,
      "outputs": [
        {
          "output_type": "stream",
          "text": [
            "+------------------+\n",
            "|Nombre_comerce_new|\n",
            "+------------------+\n",
            "|              67.0|\n",
            "|              70.0|\n",
            "|              69.0|\n",
            "|             112.0|\n",
            "+------------------+\n",
            "only showing top 4 rows\n",
            "\n"
          ],
          "name": "stdout"
        }
      ]
    },
    {
      "cell_type": "code",
      "metadata": {
        "id": "0g1asm_eJMhe",
        "colab_type": "code",
        "outputId": "83f3ea78-4d70-4e18-98a5-49406d3caf76",
        "colab": {
          "base_uri": "https://localhost:8080/",
          "height": 34
        }
      },
      "source": [
        "# Numero de peliculas que los usuario aun no lo ven \n",
        "remaining_movies.count()"
      ],
      "execution_count": 80,
      "outputs": [
        {
          "output_type": "execute_result",
          "data": {
            "text/plain": [
              "111"
            ]
          },
          "metadata": {
            "tags": []
          },
          "execution_count": 80
        }
      ]
    },
    {
      "cell_type": "code",
      "metadata": {
        "id": "ZEualSXXJZfQ",
        "colab_type": "code",
        "colab": {}
      },
      "source": [
        "# Agregando una nueva columna del usuario \n",
        "remaining_movies=remaining_movies.withColumn(\"userID_cod\",lit(int(user_id)))"
      ],
      "execution_count": 0,
      "outputs": []
    },
    {
      "cell_type": "code",
      "metadata": {
        "id": "mYwMGFg2Jr5L",
        "colab_type": "code",
        "outputId": "00be419f-4634-4d38-b1fc-ec8af40c3d36",
        "colab": {
          "base_uri": "https://localhost:8080/",
          "height": 289
        }
      },
      "source": [
        "remaining_movies.show(10,False)"
      ],
      "execution_count": 82,
      "outputs": [
        {
          "output_type": "stream",
          "text": [
            "+------------------+----------+\n",
            "|Nombre_comerce_new|userID_cod|\n",
            "+------------------+----------+\n",
            "|67.0              |44        |\n",
            "|70.0              |44        |\n",
            "|69.0              |44        |\n",
            "|112.0             |44        |\n",
            "|124.0             |44        |\n",
            "|128.0             |44        |\n",
            "|108.0             |44        |\n",
            "|88.0              |44        |\n",
            "|49.0              |44        |\n",
            "|101.0             |44        |\n",
            "+------------------+----------+\n",
            "only showing top 10 rows\n",
            "\n"
          ],
          "name": "stdout"
        }
      ]
    },
    {
      "cell_type": "code",
      "metadata": {
        "id": "9L7S1kfJc8_-",
        "colab_type": "code",
        "colab": {}
      },
      "source": [
        "#Configuracion del Entrenamiento del modelo Recomendador usando la muetsra de entrenamiento\n",
        "rec=ALS(maxIter=10,regParam=0.01,userCol='userID_cod',itemCol='Nombre_comerce_new',ratingCol='rating_total',nonnegative=True,coldStartStrategy=\"drop\",implicitPrefs=False,seed=1234)\n"
      ],
      "execution_count": 0,
      "outputs": []
    },
    {
      "cell_type": "code",
      "metadata": {
        "id": "bDlMnujwdr9m",
        "colab_type": "code",
        "colab": {}
      },
      "source": [
        "rec_model=rec.fit(train)"
      ],
      "execution_count": 0,
      "outputs": []
    },
    {
      "cell_type": "code",
      "metadata": {
        "id": "6VI20fG2Jy-s",
        "colab_type": "code",
        "colab": {}
      },
      "source": [
        "# Haciendo la recomendacion de peliculas utilizando el modelo recomendador ALS y seleccionado solo las mejores top {n} peliculas\n",
        "recommendations=rec_model.transform(remaining_movies).orderBy('prediction',ascending=False)"
      ],
      "execution_count": 0,
      "outputs": []
    },
    {
      "cell_type": "code",
      "metadata": {
        "id": "Vho32qWRKBYz",
        "colab_type": "code",
        "colab": {
          "base_uri": "https://localhost:8080/",
          "height": 204
        },
        "outputId": "9821cb8b-f79e-4d06-8bdd-0c02da9a37d6"
      },
      "source": [
        "recommendations.show(5,False)"
      ],
      "execution_count": 84,
      "outputs": [
        {
          "output_type": "stream",
          "text": [
            "+------------------+----------+----------+\n",
            "|Nombre_comerce_new|userID_cod|prediction|\n",
            "+------------------+----------+----------+\n",
            "|40.0              |44        |9.987749  |\n",
            "|96.0              |44        |9.136231  |\n",
            "|82.0              |44        |8.960599  |\n",
            "|105.0             |44        |8.761664  |\n",
            "|43.0              |44        |7.6725235 |\n",
            "+------------------+----------+----------+\n",
            "only showing top 5 rows\n",
            "\n"
          ],
          "name": "stdout"
        }
      ]
    },
    {
      "cell_type": "code",
      "metadata": {
        "id": "WvNsq2skKF4t",
        "colab_type": "code",
        "colab": {}
      },
      "source": [
        "# Consiguiendo los de las peliculas sugeridas\n",
        "movie_title = IndexToString(inputCol=\"Nombre_comerce_new\", outputCol=\"title\",labels=model.labels)\n",
        "\n",
        "final_recommendations=movie_title.transform(recommendations)"
      ],
      "execution_count": 0,
      "outputs": []
    },
    {
      "cell_type": "code",
      "metadata": {
        "id": "cKjoYW7NKNkO",
        "colab_type": "code",
        "colab": {
          "base_uri": "https://localhost:8080/",
          "height": 289
        },
        "outputId": "cd111c9d-01f9-427e-eee3-203a098b91a5"
      },
      "source": [
        "final_recommendations.show(10,False)"
      ],
      "execution_count": 86,
      "outputs": [
        {
          "output_type": "stream",
          "text": [
            "+------------------+----------+----------+-------------------------------------+\n",
            "|Nombre_comerce_new|userID_cod|prediction|title                                |\n",
            "+------------------+----------+----------+-------------------------------------+\n",
            "|40.0              |44        |9.987749  |Restaurant Las Mananitas             |\n",
            "|96.0              |44        |9.136231  |El Oceano Dorado                     |\n",
            "|82.0              |44        |8.960599  |Hamburguesas La perica               |\n",
            "|105.0             |44        |8.761664  |carnitas mata calle Emilio Portes Gil|\n",
            "|43.0              |44        |7.6725235 |la Cantina                           |\n",
            "|29.0              |44        |6.9119864 |Gordas de morales                    |\n",
            "|92.0              |44        |6.7846313 |La Estrella de Dimas                 |\n",
            "|68.0              |44        |6.6497407 |shi ro ie                            |\n",
            "|61.0              |44        |6.5408883 |Gorditas Dona Tota                   |\n",
            "|83.0              |44        |6.2611694 |Restaurant los Pinos                 |\n",
            "+------------------+----------+----------+-------------------------------------+\n",
            "only showing top 10 rows\n",
            "\n"
          ],
          "name": "stdout"
        }
      ]
    },
    {
      "cell_type": "markdown",
      "metadata": {
        "id": "qg-eHdVRDZHq",
        "colab_type": "text"
      },
      "source": [
        "# 7. Construyendo las funcion que sugiera una pelicula recomendada segun el modelo recomendador"
      ]
    },
    {
      "cell_type": "code",
      "metadata": {
        "id": "u4LLYAgXDpnL",
        "colab_type": "code",
        "colab": {}
      },
      "source": [
        "# Funcion para recomendar las top n peliculas para cualquier usuario\n",
        "#Configuracion del Entrenamiento del modelo Recomendador usando la muetsra de entrenamiento\n",
        "#rec=ALS(maxIter=10,regParam=0.01,userCol='userID_cod',itemCol='Nombre_comerce_new',ratingCol='rating_total',nonnegative=True,coldStartStrategy=\"drop\",implicitPrefs=False,seed=1234)\n",
        "\n",
        "def top_movies(user_id,n):\n",
        "    \"\"\"\n",
        "    This function returns the top 'n' movies that user has not seen yet but might like \n",
        "    \n",
        "    \"\"\"\n",
        "    # Asignación de una lista de peliculas unicas a\n",
        "    a = unique_movies.alias('a')\n",
        "    \n",
        "    # Creando otra tabla que contiene las peliculas que ya vio el usuario\n",
        "    watched_movies=indexed.filter(indexed['userID_cod'] == user_id).select('Nombre_comerce_new')\n",
        "    \n",
        "    # Asignanción de tabla de peliculas b de peliculas ya vistas \n",
        "    b=watched_movies.alias('b')\n",
        "    \n",
        "    # Cruce de ambas tablas\n",
        "    total_movies = a.join(b, a.Nombre_comerce_new == b.Nombre_comerce_new,how='left')\n",
        "    \n",
        "    # Seleccionando peliculas que el usuario no ha visto aun \n",
        "    remaining_movies=total_movies.where(col(\"b.Nombre_comerce_new\").isNull()).select(a.Nombre_comerce_new).distinct()\n",
        "        \n",
        "    #Agregando una nueva columan del cliente  \n",
        "    remaining_movies=remaining_movies.withColumn(\"userID_cod\",lit(int(user_id)))\n",
        "    \n",
        "    # REalizando la recomendnado de peliculas mas adecuada utilizando el Sistema de recomendador del modelo ALS y seleccionando las mejores peliculas\n",
        "    recommendations=rec_model.transform(remaining_movies).orderBy('prediction',ascending=False).limit(n)\n",
        "\n",
        "    # Agregando los titulos de las peliculas en texto   \n",
        "    movie_title = IndexToString(inputCol=\"Nombre_comerce_new\", outputCol=\"title\",labels=model.labels)\n",
        "    final_recommendations=movie_title.transform(recommendations)\n",
        "    \n",
        "    # Entregando los titutlos recomendado por usuario\n",
        "    return final_recommendations.show(n,False)\n"
      ],
      "execution_count": 0,
      "outputs": []
    },
    {
      "cell_type": "code",
      "metadata": {
        "id": "3o06Kl2nMt2a",
        "colab_type": "code",
        "colab": {
          "base_uri": "https://localhost:8080/",
          "height": 272
        },
        "outputId": "0f8a9902-2717-4301-f029-39e7dfe84a03"
      },
      "source": [
        "# REvision del clientes y las 10 peliculas sugeridas para el cliente\n",
        "top_movies(100,10)"
      ],
      "execution_count": 88,
      "outputs": [
        {
          "output_type": "stream",
          "text": [
            "+------------------+----------+----------+-------------------------------------+\n",
            "|Nombre_comerce_new|userID_cod|prediction|title                                |\n",
            "+------------------+----------+----------+-------------------------------------+\n",
            "|105.0             |100       |11.122177 |carnitas mata calle Emilio Portes Gil|\n",
            "|82.0              |100       |9.549035  |Hamburguesas La perica               |\n",
            "|61.0              |100       |8.776969  |Gorditas Dona Tota                   |\n",
            "|29.0              |100       |8.728466  |Gordas de morales                    |\n",
            "|77.0              |100       |8.685676  |Giovannis                            |\n",
            "|37.0              |100       |8.645403  |Mariscos El Pescador                 |\n",
            "|11.0              |100       |8.216457  |El Rincon de San Francisco           |\n",
            "|79.0              |100       |8.163841  |carnitas_mata                        |\n",
            "|120.0             |100       |7.8885307 |TACOS EL GUERO                       |\n",
            "|24.0              |100       |7.8859243 |Preambulo Wifi Zone Cafe             |\n",
            "+------------------+----------+----------+-------------------------------------+\n",
            "\n"
          ],
          "name": "stdout"
        }
      ]
    },
    {
      "cell_type": "code",
      "metadata": {
        "id": "v6CUg2sShtTP",
        "colab_type": "code",
        "colab": {}
      },
      "source": [
        "# El cliente 450 que revisa Star Wars\n",
        "DS_peliculas_rating.filter((DS_peliculas_rating['rating']>4)&(DS_peliculas_rating['userId']=='450')).show()"
      ],
      "execution_count": 0,
      "outputs": []
    },
    {
      "cell_type": "code",
      "metadata": {
        "id": "LSZ9IReFibmG",
        "colab_type": "code",
        "colab": {
          "base_uri": "https://localhost:8080/",
          "height": 357
        },
        "outputId": "48d41dea-e2af-402c-9b51-681a1401fcbe"
      },
      "source": [
        "# REvision del clientes y las 10 peliculas sugeridas para el cliente\n",
        "top_movies(44,15)"
      ],
      "execution_count": 89,
      "outputs": [
        {
          "output_type": "stream",
          "text": [
            "+------------------+----------+----------+-------------------------------------+\n",
            "|Nombre_comerce_new|userID_cod|prediction|title                                |\n",
            "+------------------+----------+----------+-------------------------------------+\n",
            "|40.0              |44        |9.987749  |Restaurant Las Mananitas             |\n",
            "|96.0              |44        |9.136231  |El Oceano Dorado                     |\n",
            "|82.0              |44        |8.960599  |Hamburguesas La perica               |\n",
            "|105.0             |44        |8.761664  |carnitas mata calle Emilio Portes Gil|\n",
            "|43.0              |44        |7.6725235 |la Cantina                           |\n",
            "|29.0              |44        |6.9119864 |Gordas de morales                    |\n",
            "|92.0              |44        |6.7846313 |La Estrella de Dimas                 |\n",
            "|68.0              |44        |6.6497407 |shi ro ie                            |\n",
            "|61.0              |44        |6.5408883 |Gorditas Dona Tota                   |\n",
            "|83.0              |44        |6.2611694 |Restaurant los Pinos                 |\n",
            "|76.0              |44        |5.8467503 |dairy queen                          |\n",
            "|93.0              |44        |5.740736  |cafe punta del cielo                 |\n",
            "|39.0              |44        |5.588956  |la Estrella de Dimas                 |\n",
            "|60.0              |44        |5.471605  |VIPS                                 |\n",
            "|85.0              |44        |5.0799656 |Michiko Restaurant Japones           |\n",
            "+------------------+----------+----------+-------------------------------------+\n",
            "\n"
          ],
          "name": "stdout"
        }
      ]
    }
  ]
}