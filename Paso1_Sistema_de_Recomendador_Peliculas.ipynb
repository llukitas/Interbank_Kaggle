{
  "nbformat": 4,
  "nbformat_minor": 0,
  "metadata": {
    "colab": {
      "name": "Paso1_Sistema_de_Recomendador_Peliculas.ipynb",
      "provenance": [],
      "toc_visible": true,
      "include_colab_link": true
    },
    "kernelspec": {
      "name": "python3",
      "display_name": "Python 3"
    }
  },
  "cells": [
    {
      "cell_type": "markdown",
      "metadata": {
        "id": "view-in-github",
        "colab_type": "text"
      },
      "source": [
        "<a href=\"https://colab.research.google.com/github/llukitas/Interbank_Kaggle/blob/master/Paso1_Sistema_de_Recomendador_Peliculas.ipynb\" target=\"_parent\"><img src=\"https://colab.research.google.com/assets/colab-badge.svg\" alt=\"Open In Colab\"/></a>"
      ]
    },
    {
      "cell_type": "markdown",
      "metadata": {
        "id": "oZYjeFl20oa5",
        "colab_type": "text"
      },
      "source": [
        "# 0. Instalacion de utilitarios Pyspark"
      ]
    },
    {
      "cell_type": "markdown",
      "metadata": {
        "id": "HsoSAwbLrOBl",
        "colab_type": "text"
      },
      "source": [
        "#  **03/11/2019**"
      ]
    },
    {
      "cell_type": "code",
      "metadata": {
        "id": "y6zaa4yk0uIV",
        "colab_type": "code",
        "colab": {}
      },
      "source": [
        "!apt-get install openjdk-8-jdk-headless -qq > /dev/null\n",
        "!wget -q https://www-us.apache.org/dist/spark/spark-2.3.4/spark-2.3.4-bin-hadoop2.7.tgz\n",
        "!tar xf spark-2.3.4-bin-hadoop2.7.tgz"
      ],
      "execution_count": 0,
      "outputs": []
    },
    {
      "cell_type": "code",
      "metadata": {
        "id": "c0SmG6708QQ6",
        "colab_type": "code",
        "colab": {}
      },
      "source": [
        "!apt-get install openjdk-8-jdk-headless -qq > /dev/null\n",
        "!wget -q https://www-us.apache.org/dist/spark/spark-2.4.4/spark-2.4.4-bin-hadoop2.7.tgz\n",
        "!tar xf spark-2.4.4-bin-hadoop2.7.tgz\n"
      ],
      "execution_count": 0,
      "outputs": []
    },
    {
      "cell_type": "code",
      "metadata": {
        "id": "tyor71X98igS",
        "colab_type": "code",
        "colab": {}
      },
      "source": [
        "!pip install -q findspark"
      ],
      "execution_count": 0,
      "outputs": []
    },
    {
      "cell_type": "code",
      "metadata": {
        "id": "mRsVKjDvsmoC",
        "colab_type": "code",
        "colab": {}
      },
      "source": [
        "import os\n",
        "os.environ[\"JAVA_HOME\"] = \"/usr/lib/jvm/java-8-openjdk-amd64\"\n",
        "os.environ[\"SPARK_HOME\"] = \"/content/spark-2.4.4-bin-hadoop2.7\"\n"
      ],
      "execution_count": 0,
      "outputs": []
    },
    {
      "cell_type": "code",
      "metadata": {
        "id": "OsNTQa-qsr7j",
        "colab_type": "code",
        "outputId": "7966eb62-01af-4187-a535-8335c336b78b",
        "colab": {
          "base_uri": "https://localhost:8080/",
          "height": 238
        }
      },
      "source": [
        "!pip install pyspark"
      ],
      "execution_count": 5,
      "outputs": [
        {
          "output_type": "stream",
          "text": [
            "Collecting pyspark\n",
            "\u001b[?25l  Downloading https://files.pythonhosted.org/packages/87/21/f05c186f4ddb01d15d0ddc36ef4b7e3cedbeb6412274a41f26b55a650ee5/pyspark-2.4.4.tar.gz (215.7MB)\n",
            "\u001b[K     |████████████████████████████████| 215.7MB 52kB/s \n",
            "\u001b[?25hCollecting py4j==0.10.7\n",
            "\u001b[?25l  Downloading https://files.pythonhosted.org/packages/e3/53/c737818eb9a7dc32a7cd4f1396e787bd94200c3997c72c1dbe028587bd76/py4j-0.10.7-py2.py3-none-any.whl (197kB)\n",
            "\u001b[K     |████████████████████████████████| 204kB 37.6MB/s \n",
            "\u001b[?25hBuilding wheels for collected packages: pyspark\n",
            "  Building wheel for pyspark (setup.py) ... \u001b[?25l\u001b[?25hdone\n",
            "  Created wheel for pyspark: filename=pyspark-2.4.4-py2.py3-none-any.whl size=216130387 sha256=f25206dff98a428266851db872048ab6710a91255826e073b69ed734ea4c2f90\n",
            "  Stored in directory: /root/.cache/pip/wheels/ab/09/4d/0d184230058e654eb1b04467dbc1292f00eaa186544604b471\n",
            "Successfully built pyspark\n",
            "Installing collected packages: py4j, pyspark\n",
            "Successfully installed py4j-0.10.7 pyspark-2.4.4\n"
          ],
          "name": "stdout"
        }
      ]
    },
    {
      "cell_type": "code",
      "metadata": {
        "id": "zCKm2w9rswTv",
        "colab_type": "code",
        "colab": {}
      },
      "source": [
        "from pyspark.sql import SparkSession\n",
        "from pyspark import SparkContext\n",
        "spark = SparkSession.builder.master(\"local\").getOrCreate()\n",
        "sc = SparkContext.getOrCreate()"
      ],
      "execution_count": 0,
      "outputs": []
    },
    {
      "cell_type": "markdown",
      "metadata": {
        "id": "NXie2Umg1DZk",
        "colab_type": "text"
      },
      "source": [
        "# 1. Lectura del origen datos"
      ]
    },
    {
      "cell_type": "code",
      "metadata": {
        "id": "W-l6Pu6f1HO9",
        "colab_type": "code",
        "outputId": "f6207573-e112-42a3-ba12-1e741ab1b70b",
        "colab": {
          "base_uri": "https://localhost:8080/",
          "height": 346
        }
      },
      "source": [
        "# Lectura desde un archivo fisico\n",
        "from google.colab import files\n",
        "uploaded = files.upload()"
      ],
      "execution_count": 7,
      "outputs": [
        {
          "output_type": "display_data",
          "data": {
            "text/html": [
              "\n",
              "     <input type=\"file\" id=\"files-994dcaeb-1ac4-4d55-b8ea-ef760004dc09\" name=\"files[]\" multiple disabled />\n",
              "     <output id=\"result-994dcaeb-1ac4-4d55-b8ea-ef760004dc09\">\n",
              "      Upload widget is only available when the cell has been executed in the\n",
              "      current browser session. Please rerun this cell to enable.\n",
              "      </output>\n",
              "      <script src=\"/nbextensions/google.colab/files.js\"></script> "
            ],
            "text/plain": [
              "<IPython.core.display.HTML object>"
            ]
          },
          "metadata": {
            "tags": []
          }
        },
        {
          "output_type": "error",
          "ename": "MessageError",
          "evalue": "ignored",
          "traceback": [
            "\u001b[0;31m---------------------------------------------------------------------------\u001b[0m",
            "\u001b[0;31mMessageError\u001b[0m                              Traceback (most recent call last)",
            "\u001b[0;32m<ipython-input-7-21dc3c638f66>\u001b[0m in \u001b[0;36m<module>\u001b[0;34m()\u001b[0m\n\u001b[1;32m      1\u001b[0m \u001b[0;32mfrom\u001b[0m \u001b[0mgoogle\u001b[0m\u001b[0;34m.\u001b[0m\u001b[0mcolab\u001b[0m \u001b[0;32mimport\u001b[0m \u001b[0mfiles\u001b[0m\u001b[0;34m\u001b[0m\u001b[0;34m\u001b[0m\u001b[0m\n\u001b[0;32m----> 2\u001b[0;31m \u001b[0muploaded\u001b[0m \u001b[0;34m=\u001b[0m \u001b[0mfiles\u001b[0m\u001b[0;34m.\u001b[0m\u001b[0mupload\u001b[0m\u001b[0;34m(\u001b[0m\u001b[0;34m)\u001b[0m\u001b[0;34m\u001b[0m\u001b[0;34m\u001b[0m\u001b[0m\n\u001b[0m",
            "\u001b[0;32m/usr/local/lib/python3.6/dist-packages/google/colab/files.py\u001b[0m in \u001b[0;36mupload\u001b[0;34m()\u001b[0m\n\u001b[1;32m     62\u001b[0m   result = _output.eval_js(\n\u001b[1;32m     63\u001b[0m       'google.colab._files._uploadFiles(\"{input_id}\", \"{output_id}\")'.format(\n\u001b[0;32m---> 64\u001b[0;31m           input_id=input_id, output_id=output_id))\n\u001b[0m\u001b[1;32m     65\u001b[0m   \u001b[0mfiles\u001b[0m \u001b[0;34m=\u001b[0m \u001b[0m_collections\u001b[0m\u001b[0;34m.\u001b[0m\u001b[0mdefaultdict\u001b[0m\u001b[0;34m(\u001b[0m\u001b[0m_six\u001b[0m\u001b[0;34m.\u001b[0m\u001b[0mbinary_type\u001b[0m\u001b[0;34m)\u001b[0m\u001b[0;34m\u001b[0m\u001b[0;34m\u001b[0m\u001b[0m\n\u001b[1;32m     66\u001b[0m   \u001b[0;31m# Mapping from original filename to filename as saved locally.\u001b[0m\u001b[0;34m\u001b[0m\u001b[0;34m\u001b[0m\u001b[0;34m\u001b[0m\u001b[0m\n",
            "\u001b[0;32m/usr/local/lib/python3.6/dist-packages/google/colab/output/_js.py\u001b[0m in \u001b[0;36meval_js\u001b[0;34m(script, ignore_result)\u001b[0m\n\u001b[1;32m     37\u001b[0m   \u001b[0;32mif\u001b[0m \u001b[0mignore_result\u001b[0m\u001b[0;34m:\u001b[0m\u001b[0;34m\u001b[0m\u001b[0;34m\u001b[0m\u001b[0m\n\u001b[1;32m     38\u001b[0m     \u001b[0;32mreturn\u001b[0m\u001b[0;34m\u001b[0m\u001b[0;34m\u001b[0m\u001b[0m\n\u001b[0;32m---> 39\u001b[0;31m   \u001b[0;32mreturn\u001b[0m \u001b[0m_message\u001b[0m\u001b[0;34m.\u001b[0m\u001b[0mread_reply_from_input\u001b[0m\u001b[0;34m(\u001b[0m\u001b[0mrequest_id\u001b[0m\u001b[0;34m)\u001b[0m\u001b[0;34m\u001b[0m\u001b[0;34m\u001b[0m\u001b[0m\n\u001b[0m\u001b[1;32m     40\u001b[0m \u001b[0;34m\u001b[0m\u001b[0m\n\u001b[1;32m     41\u001b[0m \u001b[0;34m\u001b[0m\u001b[0m\n",
            "\u001b[0;32m/usr/local/lib/python3.6/dist-packages/google/colab/_message.py\u001b[0m in \u001b[0;36mread_reply_from_input\u001b[0;34m(message_id, timeout_sec)\u001b[0m\n\u001b[1;32m    104\u001b[0m         reply.get('colab_msg_id') == message_id):\n\u001b[1;32m    105\u001b[0m       \u001b[0;32mif\u001b[0m \u001b[0;34m'error'\u001b[0m \u001b[0;32min\u001b[0m \u001b[0mreply\u001b[0m\u001b[0;34m:\u001b[0m\u001b[0;34m\u001b[0m\u001b[0;34m\u001b[0m\u001b[0m\n\u001b[0;32m--> 106\u001b[0;31m         \u001b[0;32mraise\u001b[0m \u001b[0mMessageError\u001b[0m\u001b[0;34m(\u001b[0m\u001b[0mreply\u001b[0m\u001b[0;34m[\u001b[0m\u001b[0;34m'error'\u001b[0m\u001b[0;34m]\u001b[0m\u001b[0;34m)\u001b[0m\u001b[0;34m\u001b[0m\u001b[0;34m\u001b[0m\u001b[0m\n\u001b[0m\u001b[1;32m    107\u001b[0m       \u001b[0;32mreturn\u001b[0m \u001b[0mreply\u001b[0m\u001b[0;34m.\u001b[0m\u001b[0mget\u001b[0m\u001b[0;34m(\u001b[0m\u001b[0;34m'data'\u001b[0m\u001b[0;34m,\u001b[0m \u001b[0;32mNone\u001b[0m\u001b[0;34m)\u001b[0m\u001b[0;34m\u001b[0m\u001b[0;34m\u001b[0m\u001b[0m\n\u001b[1;32m    108\u001b[0m \u001b[0;34m\u001b[0m\u001b[0m\n",
            "\u001b[0;31mMessageError\u001b[0m: TypeError: Cannot read property '_uploadFiles' of undefined"
          ]
        }
      ]
    },
    {
      "cell_type": "code",
      "metadata": {
        "id": "zZL0PhM88Eys",
        "colab_type": "code",
        "outputId": "1b00452c-6a69-4a5d-808a-bae5d43e4bf4",
        "colab": {
          "base_uri": "https://localhost:8080/",
          "height": 122
        }
      },
      "source": [
        "\n",
        "# Conexion al drive\n",
        "#---------------------------\n",
        "from google.colab import drive\n",
        "drive.mount('/content/drive')"
      ],
      "execution_count": 8,
      "outputs": [
        {
          "output_type": "stream",
          "text": [
            "Go to this URL in a browser: https://accounts.google.com/o/oauth2/auth?client_id=947318989803-6bn6qk8qdgf4n4g3pfee6491hc0brc4i.apps.googleusercontent.com&redirect_uri=urn%3Aietf%3Awg%3Aoauth%3A2.0%3Aoob&scope=email%20https%3A%2F%2Fwww.googleapis.com%2Fauth%2Fdocs.test%20https%3A%2F%2Fwww.googleapis.com%2Fauth%2Fdrive%20https%3A%2F%2Fwww.googleapis.com%2Fauth%2Fdrive.photos.readonly%20https%3A%2F%2Fwww.googleapis.com%2Fauth%2Fpeopleapi.readonly&response_type=code\n",
            "\n",
            "Enter your authorization code:\n",
            "··········\n",
            "Mounted at /content/drive\n"
          ],
          "name": "stdout"
        }
      ]
    },
    {
      "cell_type": "code",
      "metadata": {
        "id": "BZQDnxtq2G2L",
        "colab_type": "code",
        "colab": {
          "base_uri": "https://localhost:8080/",
          "height": 51
        },
        "outputId": "30acf592-59bf-429c-98a6-b611db2fc9ac"
      },
      "source": [
        "ls"
      ],
      "execution_count": 9,
      "outputs": [
        {
          "output_type": "stream",
          "text": [
            "\u001b[0m\u001b[01;34mdrive\u001b[0m/        \u001b[01;34mspark-2.3.4-bin-hadoop2.7\u001b[0m/     \u001b[01;34mspark-2.4.4-bin-hadoop2.7\u001b[0m/\n",
            "\u001b[01;34msample_data\u001b[0m/  spark-2.3.4-bin-hadoop2.7.tgz  spark-2.4.4-bin-hadoop2.7.tgz\n"
          ],
          "name": "stdout"
        }
      ]
    },
    {
      "cell_type": "markdown",
      "metadata": {
        "id": "ltZocWSm2l9G",
        "colab_type": "text"
      },
      "source": [
        "#2.  Cargando los datos en formato Spark"
      ]
    },
    {
      "cell_type": "code",
      "metadata": {
        "id": "xg8zoYu62uhd",
        "colab_type": "code",
        "outputId": "91e3a1f3-10d2-420c-843c-95e8885346c3",
        "colab": {
          "base_uri": "https://localhost:8080/",
          "height": 102
        }
      },
      "source": [
        "DS_peliculas_rating = spark.read.csv('/content/drive/My Drive/AGRARIA_ML/ML Sesion 3 Machine Lear2da y Sistema Recomendador/Puntaje_peliculas.csv', sep=',', header=True, inferSchema=True)\n",
        "\n",
        "# 2.1 Revision de formatos \n",
        "DS_peliculas_rating.printSchema()"
      ],
      "execution_count": 10,
      "outputs": [
        {
          "output_type": "stream",
          "text": [
            "root\n",
            " |-- userId: integer (nullable = true)\n",
            " |-- title: string (nullable = true)\n",
            " |-- rating: integer (nullable = true)\n",
            "\n"
          ],
          "name": "stdout"
        }
      ]
    },
    {
      "cell_type": "code",
      "metadata": {
        "id": "DevCxW045s4B",
        "colab_type": "code",
        "outputId": "1db9a53c-061a-465a-e412-a7d7e3057187",
        "colab": {
          "base_uri": "https://localhost:8080/",
          "height": 34
        }
      },
      "source": [
        "# Dimensiona de base\n",
        "print((DS_peliculas_rating.count(),len(DS_peliculas_rating.columns)))"
      ],
      "execution_count": 11,
      "outputs": [
        {
          "output_type": "stream",
          "text": [
            "(100000, 3)\n"
          ],
          "name": "stdout"
        }
      ]
    },
    {
      "cell_type": "code",
      "metadata": {
        "id": "RBEt1wHV2Zy4",
        "colab_type": "code",
        "outputId": "6c31744e-de44-41bb-b4b4-bb1eb6d8ea87",
        "colab": {
          "base_uri": "https://localhost:8080/",
          "height": 204
        }
      },
      "source": [
        "# 2.2 Revisiones  \n",
        "DS_peliculas_rating.show(5)"
      ],
      "execution_count": 12,
      "outputs": [
        {
          "output_type": "stream",
          "text": [
            "+------+------------+------+\n",
            "|userId|       title|rating|\n",
            "+------+------------+------+\n",
            "|   196|Kolya (1996)|     3|\n",
            "|    63|Kolya (1996)|     3|\n",
            "|   226|Kolya (1996)|     5|\n",
            "|   154|Kolya (1996)|     3|\n",
            "|   306|Kolya (1996)|     5|\n",
            "+------+------------+------+\n",
            "only showing top 5 rows\n",
            "\n"
          ],
          "name": "stdout"
        }
      ]
    },
    {
      "cell_type": "code",
      "metadata": {
        "id": "CpYnf-WM3iun",
        "colab_type": "code",
        "outputId": "c1e44ba5-86f8-455e-8f3b-0a4e2e40ca12",
        "colab": {
          "base_uri": "https://localhost:8080/",
          "height": 34
        }
      },
      "source": [
        "# 2.3 Validacion de carga del total de registros\n",
        "print(DS_peliculas_rating.count())"
      ],
      "execution_count": 13,
      "outputs": [
        {
          "output_type": "stream",
          "text": [
            "100000\n"
          ],
          "name": "stdout"
        }
      ]
    },
    {
      "cell_type": "code",
      "metadata": {
        "id": "7J1Stx2j9KdX",
        "colab_type": "code",
        "outputId": "8d436bdb-dfc3-49a3-8630-eaa3aeb86411",
        "colab": {
          "base_uri": "https://localhost:8080/",
          "height": 187
        }
      },
      "source": [
        "# 2.4 Exploracion inicial\n",
        "DS_peliculas_rating.describe().show()"
      ],
      "execution_count": 14,
      "outputs": [
        {
          "output_type": "stream",
          "text": [
            "+-------+------------------+--------------------+------------------+\n",
            "|summary|            userId|               title|            rating|\n",
            "+-------+------------------+--------------------+------------------+\n",
            "|  count|            100000|              100000|            100000|\n",
            "|   mean|         462.48475|                null|           3.52986|\n",
            "| stddev|266.61442012750865|                null|1.1256735991443156|\n",
            "|    min|                 1|'Til There Was Yo...|                 1|\n",
            "|    max|               943|             unknown|                 5|\n",
            "+-------+------------------+--------------------+------------------+\n",
            "\n"
          ],
          "name": "stdout"
        }
      ]
    },
    {
      "cell_type": "code",
      "metadata": {
        "id": "5UavJB8AASDE",
        "colab_type": "code",
        "outputId": "d6ecf771-f4ed-4472-d8e9-c26bdb2a5853",
        "colab": {
          "base_uri": "https://localhost:8080/",
          "height": 289
        }
      },
      "source": [
        "# 2.5 Los clientes que más vistaron la plataforma de videos\n",
        "DS_peliculas_rating.groupBy('userId').count().orderBy('count',ascending=False).show(10,False)"
      ],
      "execution_count": 16,
      "outputs": [
        {
          "output_type": "stream",
          "text": [
            "+------+-----+\n",
            "|userId|count|\n",
            "+------+-----+\n",
            "|405   |737  |\n",
            "|655   |685  |\n",
            "|13    |636  |\n",
            "|450   |540  |\n",
            "|276   |518  |\n",
            "|416   |493  |\n",
            "|537   |490  |\n",
            "|303   |484  |\n",
            "|234   |480  |\n",
            "|393   |448  |\n",
            "+------+-----+\n",
            "only showing top 10 rows\n",
            "\n"
          ],
          "name": "stdout"
        }
      ]
    },
    {
      "cell_type": "code",
      "metadata": {
        "id": "ZUivRJvPAjI3",
        "colab_type": "code",
        "outputId": "26fb759b-b7f6-4681-ba6d-d1f1239f605b",
        "colab": {
          "base_uri": "https://localhost:8080/",
          "height": 289
        }
      },
      "source": [
        "# 2.6  Las clientes que menos vieron las peliculas\n",
        "DS_peliculas_rating.groupBy('userId').count().orderBy('count',ascending=True).show(10,False)"
      ],
      "execution_count": 17,
      "outputs": [
        {
          "output_type": "stream",
          "text": [
            "+------+-----+\n",
            "|userId|count|\n",
            "+------+-----+\n",
            "|732   |20   |\n",
            "|631   |20   |\n",
            "|572   |20   |\n",
            "|926   |20   |\n",
            "|93    |20   |\n",
            "|596   |20   |\n",
            "|636   |20   |\n",
            "|34    |20   |\n",
            "|300   |20   |\n",
            "|685   |20   |\n",
            "+------+-----+\n",
            "only showing top 10 rows\n",
            "\n"
          ],
          "name": "stdout"
        }
      ]
    },
    {
      "cell_type": "code",
      "metadata": {
        "id": "hO-eIVs4A0Is",
        "colab_type": "code",
        "outputId": "afd43fba-58c5-4bee-cabb-b39f46338a99",
        "colab": {
          "base_uri": "https://localhost:8080/",
          "height": 289
        }
      },
      "source": [
        "# 2.7  Las peliculas con mayor numero de visualizaciones\n",
        "DS_peliculas_rating.groupBy('title').count().orderBy('count',ascending=False).show(10,False)"
      ],
      "execution_count": 18,
      "outputs": [
        {
          "output_type": "stream",
          "text": [
            "+-----------------------------+-----+\n",
            "|title                        |count|\n",
            "+-----------------------------+-----+\n",
            "|Star Wars (1977)             |583  |\n",
            "|Contact (1997)               |509  |\n",
            "|Fargo (1996)                 |508  |\n",
            "|Return of the Jedi (1983)    |507  |\n",
            "|Liar Liar (1997)             |485  |\n",
            "|English Patient, The (1996)  |481  |\n",
            "|Scream (1996)                |478  |\n",
            "|Toy Story (1995)             |452  |\n",
            "|Air Force One (1997)         |431  |\n",
            "|Independence Day (ID4) (1996)|429  |\n",
            "+-----------------------------+-----+\n",
            "only showing top 10 rows\n",
            "\n"
          ],
          "name": "stdout"
        }
      ]
    },
    {
      "cell_type": "code",
      "metadata": {
        "id": "72-1CAMzXvSt",
        "colab_type": "code",
        "outputId": "871db46f-8633-47b4-ea2c-bdef9eab39ce",
        "colab": {
          "base_uri": "https://localhost:8080/",
          "height": 279
        }
      },
      "source": [
        "#Graficas\n",
        "res= DS_peliculas_rating.groupBy('title').count().orderBy('count',ascending=False)\n",
        "red=res.toPandas()\n",
        "\n",
        "import pandas as pd\n",
        "import matplotlib.pyplot as plt\n",
        "import seaborn as sns\n",
        "\n",
        "ax=sns.barplot(x=\"title\", y=\"count\", data=red)\n",
        "\n"
      ],
      "execution_count": 19,
      "outputs": [
        {
          "output_type": "display_data",
          "data": {
            "image/png": "[encoded data removed]",
            "text/plain": [
              "<Figure size 432x288 with 1 Axes>"
            ]
          },
          "metadata": {
            "tags": []
          }
        }
      ]
    },
    {
      "cell_type": "code",
      "metadata": {
        "id": "6rRu9-sxBI0_",
        "colab_type": "code",
        "outputId": "239fd52e-2978-4aed-f4f4-381ca5e4ec5d",
        "colab": {
          "base_uri": "https://localhost:8080/",
          "height": 289
        }
      },
      "source": [
        "# Peliculas con menos numero de visualizaciones \n",
        "DS_peliculas_rating.groupBy('title').count().orderBy('count',ascending=True).show(10,False)"
      ],
      "execution_count": 20,
      "outputs": [
        {
          "output_type": "stream",
          "text": [
            "+------------------------------------------+-----+\n",
            "|title                                     |count|\n",
            "+------------------------------------------+-----+\n",
            "|Tigrero: A Film That Was Never Made (1994)|1    |\n",
            "|Leopard Son, The (1996)                   |1    |\n",
            "|Aiqing wansui (1994)                      |1    |\n",
            "|Fear, The (1995)                          |1    |\n",
            "|Mad Dog Time (1996)                       |1    |\n",
            "|Target (1995)                             |1    |\n",
            "|Lashou shentan (1992)                     |1    |\n",
            "|Vie est belle, La (Life is Rosey) (1987)  |1    |\n",
            "|Modern Affair, A (1995)                   |1    |\n",
            "|Next Step, The (1995)                     |1    |\n",
            "+------------------------------------------+-----+\n",
            "only showing top 10 rows\n",
            "\n"
          ],
          "name": "stdout"
        }
      ]
    },
    {
      "cell_type": "code",
      "metadata": {
        "id": "zw4K8CdeeVvt",
        "colab_type": "code",
        "outputId": "0e0cccae-50a4-4f44-fe2f-be9b721efd13",
        "colab": {
          "base_uri": "https://localhost:8080/",
          "height": 119
        }
      },
      "source": [
        "# El cliente 100 y el 450 cold celd\n",
        "DS_peliculas_rating.filter((DS_peliculas_rating['title']=='Star Wars (1977)')&(DS_peliculas_rating['userId']=='450')).show()\n",
        "#DS_peliculas_rating.filter((DS_peliculas_rating['title']=='Star Wars (1977)')&(DS_peliculas_rating['userId']=='100')).show()"
      ],
      "execution_count": 23,
      "outputs": [
        {
          "output_type": "stream",
          "text": [
            "+------+----------------+------+\n",
            "|userId|           title|rating|\n",
            "+------+----------------+------+\n",
            "|   450|Star Wars (1977)|     5|\n",
            "+------+----------------+------+\n",
            "\n"
          ],
          "name": "stdout"
        }
      ]
    },
    {
      "cell_type": "markdown",
      "metadata": {
        "id": "nhC6tpUw39tn",
        "colab_type": "text"
      },
      "source": [
        "# 3. FEature Engineering: Tansforma pelicula a numero\n",
        "\n"
      ]
    },
    {
      "cell_type": "code",
      "metadata": {
        "id": "h05_VfzA4C1k",
        "colab_type": "code",
        "colab": {}
      },
      "source": [
        "# Importando el codifocador\n",
        "from pyspark.ml.feature import StringIndexer,IndexToString"
      ],
      "execution_count": 0,
      "outputs": []
    },
    {
      "cell_type": "code",
      "metadata": {
        "id": "LBiAQR4tB8ul",
        "colab_type": "code",
        "colab": {}
      },
      "source": [
        "# Configurando la Numerzación los titulos de las peliculas\n",
        "# title_new = La codificación de las peliculas\n",
        "stringIndexer = StringIndexer(inputCol=\"title\", outputCol=\"title_new\")"
      ],
      "execution_count": 0,
      "outputs": []
    },
    {
      "cell_type": "code",
      "metadata": {
        "id": "1Lik8aKaCw_O",
        "colab_type": "code",
        "colab": {}
      },
      "source": [
        "#Aplicando la numerización de peliculas\n",
        "model = stringIndexer.fit(DS_peliculas_rating)"
      ],
      "execution_count": 0,
      "outputs": []
    },
    {
      "cell_type": "code",
      "metadata": {
        "id": "ANbGXtZHDBxt",
        "colab_type": "code",
        "colab": {}
      },
      "source": [
        "#Creando un nuevo Dataframe con el indexado creado\n",
        "indexed = model.transform(DS_peliculas_rating)"
      ],
      "execution_count": 0,
      "outputs": []
    },
    {
      "cell_type": "code",
      "metadata": {
        "id": "mLkAhgfoCg4X",
        "colab_type": "code",
        "outputId": "ca6c6d97-947c-4df4-c3b6-0426df7b69bd",
        "colab": {
          "base_uri": "https://localhost:8080/",
          "height": 289
        }
      },
      "source": [
        "#Revision de los indices\n",
        "indexed.show(10)"
      ],
      "execution_count": 28,
      "outputs": [
        {
          "output_type": "stream",
          "text": [
            "+------+------------+------+---------+\n",
            "|userId|       title|rating|title_new|\n",
            "+------+------------+------+---------+\n",
            "|   196|Kolya (1996)|     3|    287.0|\n",
            "|    63|Kolya (1996)|     3|    287.0|\n",
            "|   226|Kolya (1996)|     5|    287.0|\n",
            "|   154|Kolya (1996)|     3|    287.0|\n",
            "|   306|Kolya (1996)|     5|    287.0|\n",
            "|   296|Kolya (1996)|     4|    287.0|\n",
            "|    34|Kolya (1996)|     5|    287.0|\n",
            "|   271|Kolya (1996)|     4|    287.0|\n",
            "|   201|Kolya (1996)|     4|    287.0|\n",
            "|   209|Kolya (1996)|     4|    287.0|\n",
            "+------+------------+------+---------+\n",
            "only showing top 10 rows\n",
            "\n"
          ],
          "name": "stdout"
        }
      ]
    },
    {
      "cell_type": "code",
      "metadata": {
        "id": "0uDCzdTqDg5D",
        "colab_type": "code",
        "outputId": "f01c937b-e2e5-47e2-e5fb-28250114bd4c",
        "colab": {
          "base_uri": "https://localhost:8080/",
          "height": 289
        }
      },
      "source": [
        "#Numero de veces que cada titulo ha aparecido\n",
        "indexed.groupBy('title_new').count().orderBy('count',ascending=False).show(10,False)"
      ],
      "execution_count": 30,
      "outputs": [
        {
          "output_type": "stream",
          "text": [
            "+---------+-----+\n",
            "|title_new|count|\n",
            "+---------+-----+\n",
            "|0.0      |583  |\n",
            "|1.0      |509  |\n",
            "|2.0      |508  |\n",
            "|3.0      |507  |\n",
            "|4.0      |485  |\n",
            "|5.0      |481  |\n",
            "|6.0      |478  |\n",
            "|7.0      |452  |\n",
            "|8.0      |431  |\n",
            "|9.0      |429  |\n",
            "+---------+-----+\n",
            "only showing top 10 rows\n",
            "\n"
          ],
          "name": "stdout"
        }
      ]
    },
    {
      "cell_type": "markdown",
      "metadata": {
        "id": "xgUobOLemd25",
        "colab_type": "text"
      },
      "source": [
        "# 4. Dividiendo la data en muestra de entrenamiento y validacion\n"
      ]
    },
    {
      "cell_type": "code",
      "metadata": {
        "id": "8ws92PIxmkGs",
        "colab_type": "code",
        "colab": {}
      },
      "source": [
        "#4.1  Data de entrenamiento y validacion\n",
        "train,test=indexed.randomSplit([0.75,0.25],seed=3456)"
      ],
      "execution_count": 0,
      "outputs": []
    },
    {
      "cell_type": "code",
      "metadata": {
        "id": "AVzr9MGdD_Mi",
        "colab_type": "code",
        "outputId": "f26b74e7-be04-49d5-dc74-1b2401f38a97",
        "colab": {
          "base_uri": "https://localhost:8080/",
          "height": 34
        }
      },
      "source": [
        "# Nro de entrenamiento\n",
        "train.count()"
      ],
      "execution_count": 32,
      "outputs": [
        {
          "output_type": "execute_result",
          "data": {
            "text/plain": [
              "74870"
            ]
          },
          "metadata": {
            "tags": []
          },
          "execution_count": 32
        }
      ]
    },
    {
      "cell_type": "code",
      "metadata": {
        "id": "WYpYCZWtEFCo",
        "colab_type": "code",
        "outputId": "fec29a5e-fd5d-4fe9-aeb1-75d657601101",
        "colab": {
          "base_uri": "https://localhost:8080/",
          "height": 34
        }
      },
      "source": [
        "# Nro de Validacion\n",
        "test.count()"
      ],
      "execution_count": 33,
      "outputs": [
        {
          "output_type": "execute_result",
          "data": {
            "text/plain": [
              "25130"
            ]
          },
          "metadata": {
            "tags": []
          },
          "execution_count": 33
        }
      ]
    },
    {
      "cell_type": "markdown",
      "metadata": {
        "id": "DzS3l96FELtG",
        "colab_type": "text"
      },
      "source": [
        "# 5. Entrenando el Modelo\n"
      ]
    },
    {
      "cell_type": "code",
      "metadata": {
        "id": "bBgycnsdm9_3",
        "colab_type": "code",
        "colab": {}
      },
      "source": [
        "#Importando el modelo Recomendador ALS\n",
        "from pyspark.sql.functions import *\n",
        "from pyspark.ml.recommendation import ALS\n"
      ],
      "execution_count": 0,
      "outputs": []
    },
    {
      "cell_type": "code",
      "metadata": {
        "id": "spViP-t4EY-7",
        "colab_type": "code",
        "colab": {}
      },
      "source": [
        "#Configuracion del Entrenamiento del modelo Recomendador usando la muetsra de entrenamiento\n",
        "rec=ALS(maxIter=10,regParam=0.01,userCol='userId',itemCol='title_new',ratingCol='rating',nonnegative=True,coldStartStrategy=\"drop\",implicitPrefs=False)\n",
        "\n",
        "# maxIter: El maximo de iteraciones\n",
        "# regParam: Parametro de REgularización\n",
        "# nonnegative: Especificar si se utiliza una restriccion negativa en los Minimos cuadrados\n",
        "# coldStartStrategy: Parametro que elimina cualquier cliente que no tenga informacion\n",
        "# implicitPrefs: Si es implicito hace referencia a feedback no registrado voluntariamente por el cliente"
      ],
      "execution_count": 0,
      "outputs": []
    },
    {
      "cell_type": "code",
      "metadata": {
        "id": "coVXq71IEkIS",
        "colab_type": "code",
        "colab": {}
      },
      "source": [
        "#Entrenando el modelo\n",
        "rec_model=rec.fit(train)"
      ],
      "execution_count": 0,
      "outputs": []
    },
    {
      "cell_type": "code",
      "metadata": {
        "id": "fJxeEWJ5E0c0",
        "colab_type": "code",
        "colab": {}
      },
      "source": [
        "#Haciendo las predicciones en la data de test \n",
        "predicted_ratings=rec_model.transform(test)"
      ],
      "execution_count": 0,
      "outputs": []
    },
    {
      "cell_type": "code",
      "metadata": {
        "id": "m55jvm2gEyCY",
        "colab_type": "code",
        "outputId": "c2694718-96fa-439d-d1dd-0fedffb8c3c5",
        "colab": {
          "base_uri": "https://localhost:8080/",
          "height": 136
        }
      },
      "source": [
        "#Revisando los pronostico\n",
        "predicted_ratings.printSchema()"
      ],
      "execution_count": 38,
      "outputs": [
        {
          "output_type": "stream",
          "text": [
            "root\n",
            " |-- userId: integer (nullable = true)\n",
            " |-- title: string (nullable = true)\n",
            " |-- rating: integer (nullable = true)\n",
            " |-- title_new: double (nullable = false)\n",
            " |-- prediction: float (nullable = false)\n",
            "\n"
          ],
          "name": "stdout"
        }
      ]
    },
    {
      "cell_type": "code",
      "metadata": {
        "id": "h8cfiAWkFHxi",
        "colab_type": "code",
        "outputId": "b9d32e4f-0987-424c-a461-14b56b103ba8",
        "colab": {
          "base_uri": "https://localhost:8080/",
          "height": 289
        }
      },
      "source": [
        "# Revision rapida de los pronosticos\n",
        "predicted_ratings.orderBy(rand()).show(10)"
      ],
      "execution_count": 39,
      "outputs": [
        {
          "output_type": "stream",
          "text": [
            "+------+--------------------+------+---------+----------+\n",
            "|userId|               title|rating|title_new|prediction|\n",
            "+------+--------------------+------+---------+----------+\n",
            "|   767| Pulp Fiction (1994)|     4|     12.0| 4.8266177|\n",
            "|   805|    Pest, The (1997)|     1|   1197.0| 3.1972163|\n",
            "|    54|Good Will Hunting...|     5|    120.0| 4.5003376|\n",
            "|   462|Starship Troopers...|     1|    105.0|  3.613918|\n",
            "|   178|Beauty and the Be...|     4|    114.0| 4.0802574|\n",
            "|   293|       Batman (1989)|     3|    116.0| 2.9687803|\n",
            "|   293|   Just Cause (1995)|     3|    810.0| 1.8428452|\n",
            "|   435|    True Lies (1994)|     5|    109.0| 3.2942538|\n",
            "|   855|City of Lost Chil...|     3|    346.0| 4.4072495|\n",
            "|   373|Magnificent Seven...|     3|    277.0|  4.354458|\n",
            "+------+--------------------+------+---------+----------+\n",
            "only showing top 10 rows\n",
            "\n"
          ],
          "name": "stdout"
        }
      ]
    },
    {
      "cell_type": "code",
      "metadata": {
        "id": "H5sy0MCST3xP",
        "colab_type": "code",
        "colab": {}
      },
      "source": [
        "# Generando los top 10 peliculas sugeridas por cada cliente\n",
        "userRecs = rec_model.recommendForAllUsers(10)"
      ],
      "execution_count": 0,
      "outputs": []
    },
    {
      "cell_type": "code",
      "metadata": {
        "id": "iXB9FWCpUCEm",
        "colab_type": "code",
        "outputId": "424701e4-3978-4dcc-b4b9-0423d7911c8a",
        "colab": {
          "base_uri": "https://localhost:8080/",
          "height": 224
        }
      },
      "source": [
        "userRecs.show(5,False)"
      ],
      "execution_count": 41,
      "outputs": [
        {
          "output_type": "stream",
          "text": [
            "+------+---------------------------------------------------------------------------------------------------------------------------------------------------------------------------------------+\n",
            "|userId|recommendations                                                                                                                                                                        |\n",
            "+------+---------------------------------------------------------------------------------------------------------------------------------------------------------------------------------------+\n",
            "|471   |[[853, 15.30879], [1013, 13.638046], [986, 13.492773], [850, 12.889257], [892, 11.849178], [1308, 11.139972], [1149, 11.012086], [979, 10.592531], [1093, 10.469082], [517, 10.438666]]|\n",
            "|463   |[[1264, 7.5872555], [1308, 6.3489814], [853, 6.167529], [1007, 5.7179213], [961, 5.513595], [908, 5.494619], [1023, 5.3968697], [1188, 5.251069], [1110, 5.20813], [524, 4.972508]]    |\n",
            "|833   |[[924, 6.456631], [462, 5.483223], [849, 5.287889], [1059, 5.186262], [884, 5.1736836], [760, 5.164193], [804, 5.125777], [1100, 4.9735274], [950, 4.916575], [1051, 4.87075]]         |\n",
            "|496   |[[1369, 6.741157], [1028, 6.3654323], [788, 6.174953], [291, 5.391593], [1049, 5.339345], [209, 5.309059], [924, 5.2713842], [749, 5.2379], [1011, 5.192747], [1133, 5.12342]]         |\n",
            "|148   |[[1369, 12.684451], [1028, 10.814552], [1375, 9.5620575], [788, 9.49856], [1400, 8.878455], [1121, 8.725317], [738, 8.61735], [1300, 8.251085], [977, 8.081379], [869, 8.03532]]       |\n",
            "+------+---------------------------------------------------------------------------------------------------------------------------------------------------------------------------------------+\n",
            "only showing top 5 rows\n",
            "\n"
          ],
          "name": "stdout"
        }
      ]
    },
    {
      "cell_type": "markdown",
      "metadata": {
        "id": "hSEgqY-EpCYi",
        "colab_type": "text"
      },
      "source": [
        "# 5. Evaluación del poder predictivo del modelo\n"
      ]
    },
    {
      "cell_type": "code",
      "metadata": {
        "id": "DmVUSxsmpJ4M",
        "colab_type": "code",
        "outputId": "521c6b7a-6c2d-4571-81f8-2a5bab232b02",
        "colab": {
          "base_uri": "https://localhost:8080/",
          "height": 459
        }
      },
      "source": [
        "# Creando la columna diferencia del pronostico\n",
        "predicted_ratings_witherr=predicted_ratings.withColumn('err',abs(predicted_ratings.prediction - predicted_ratings.rating))\n",
        "\n",
        "predicted_ratings_witherr.show()"
      ],
      "execution_count": 42,
      "outputs": [
        {
          "output_type": "stream",
          "text": [
            "+------+--------------------+------+---------+----------+-----------+\n",
            "|userId|               title|rating|title_new|prediction|        err|\n",
            "+------+--------------------+------+---------+----------+-----------+\n",
            "|   251|That Thing You Do...|     4|    148.0| 3.3354273|  0.6645727|\n",
            "|   193|That Thing You Do...|     4|    148.0| 3.2146358| 0.78536415|\n",
            "|   731|That Thing You Do...|     2|    148.0|  4.502713|  2.5027132|\n",
            "|   501|That Thing You Do...|     3|    148.0| 3.1859837| 0.18598366|\n",
            "|   577|That Thing You Do...|     4|    148.0| 3.9442601| 0.05573988|\n",
            "|   271|That Thing You Do...|     1|    148.0| 3.4820166|  2.4820166|\n",
            "|   388|That Thing You Do...|     4|    148.0|  4.464457| 0.46445704|\n",
            "|   222|That Thing You Do...|     3|    148.0| 3.5011287|  0.5011287|\n",
            "|    93|That Thing You Do...|     4|    148.0| 3.7696986| 0.23030138|\n",
            "|   599|That Thing You Do...|     5|    148.0| 4.5787625| 0.42123747|\n",
            "|   305|That Thing You Do...|     3|    148.0| 3.0462883|0.046288252|\n",
            "|   435|That Thing You Do...|     3|    148.0| 3.0669994|0.066999435|\n",
            "|   429|That Thing You Do...|     4|    148.0| 3.0097828|  0.9902172|\n",
            "|   500|That Thing You Do...|     4|    148.0|  2.772291|   1.227709|\n",
            "|    57|That Thing You Do...|     4|    148.0| 3.3874984|  0.6125016|\n",
            "|   840|That Thing You Do...|     5|    148.0| 3.0612946|  1.9387054|\n",
            "|   279|That Thing You Do...|     1|    148.0| 2.4291277|  1.4291277|\n",
            "|   560|That Thing You Do...|     3|    148.0| 2.9664488|0.033551216|\n",
            "|   554|That Thing You Do...|     3|    148.0| 3.8721685| 0.87216854|\n",
            "|   936|That Thing You Do...|     4|    148.0| 3.5554585| 0.44454145|\n",
            "+------+--------------------+------+---------+----------+-----------+\n",
            "only showing top 20 rows\n",
            "\n"
          ],
          "name": "stdout"
        }
      ]
    },
    {
      "cell_type": "code",
      "metadata": {
        "id": "5c9vbl7Q2b1x",
        "colab_type": "code",
        "outputId": "248e7bd4-464e-4e2e-e7e1-546b137061cb",
        "colab": {
          "base_uri": "https://localhost:8080/",
          "height": 187
        }
      },
      "source": [
        "# Distribución de las valoraciones\n",
        "predicted_ratings.groupBy('rating').count().orderBy('rating',ascending=True).show()"
      ],
      "execution_count": 43,
      "outputs": [
        {
          "output_type": "stream",
          "text": [
            "+------+-----+\n",
            "|rating|count|\n",
            "+------+-----+\n",
            "|     1| 1439|\n",
            "|     2| 2871|\n",
            "|     3| 6861|\n",
            "|     4| 8652|\n",
            "|     5| 5257|\n",
            "+------+-----+\n",
            "\n"
          ],
          "name": "stdout"
        }
      ]
    },
    {
      "cell_type": "code",
      "metadata": {
        "id": "GgQi748YvWu7",
        "colab_type": "code",
        "outputId": "2b9c4d58-2208-41ac-a39e-3e8d3b540909",
        "colab": {
          "base_uri": "https://localhost:8080/",
          "height": 187
        }
      },
      "source": [
        "# Error promedio por rating de valoracion\n",
        "predicted_ratings_witherr.groupBy('rating').agg({'err':'mean'}).orderBy('rating',ascending=True).show()"
      ],
      "execution_count": 44,
      "outputs": [
        {
          "output_type": "stream",
          "text": [
            "+------+------------------+\n",
            "|rating|          avg(err)|\n",
            "+------+------------------+\n",
            "|     1|1.5510310886467886|\n",
            "|     2|1.0448862407233233|\n",
            "|     3|0.6286513952033684|\n",
            "|     4|0.5701062388294448|\n",
            "|     5|0.9535937997263966|\n",
            "+------+------------------+\n",
            "\n"
          ],
          "name": "stdout"
        }
      ]
    },
    {
      "cell_type": "code",
      "metadata": {
        "id": "JO5oYYa_dnZT",
        "colab_type": "code",
        "colab": {
          "base_uri": "https://localhost:8080/",
          "height": 187
        },
        "outputId": "bbe08f48-89c8-475e-d32c-b2f22fc62a1f"
      },
      "source": [
        "# Error promedio por rating de valoracion\n",
        "predicted_ratings_witherr.groupBy('rating').agg({'err':'std'}).orderBy('rating',ascending=True).show()"
      ],
      "execution_count": 45,
      "outputs": [
        {
          "output_type": "stream",
          "text": [
            "+------+-------------------+\n",
            "|rating|        stddev(err)|\n",
            "+------+-------------------+\n",
            "|     1| 0.9224341849979457|\n",
            "|     2| 0.7070969888922201|\n",
            "|     3|0.48689751102256335|\n",
            "|     4|0.48706738704918373|\n",
            "|     5|  0.629706873582781|\n",
            "+------+-------------------+\n",
            "\n"
          ],
          "name": "stdout"
        }
      ]
    },
    {
      "cell_type": "code",
      "metadata": {
        "id": "e0uziR670BFM",
        "colab_type": "code",
        "colab": {}
      },
      "source": [
        "#Importando el evaluador de Regresion RMSE \n",
        "from pyspark.ml.evaluation import RegressionEvaluator"
      ],
      "execution_count": 0,
      "outputs": []
    },
    {
      "cell_type": "code",
      "metadata": {
        "id": "XFO3FDV_ysT2",
        "colab_type": "code",
        "colab": {}
      },
      "source": [
        "#Evluando la presición del pronostico\n",
        "evaluator=RegressionEvaluator(metricName='rmse',predictionCol='prediction',labelCol='rating')"
      ],
      "execution_count": 0,
      "outputs": []
    },
    {
      "cell_type": "code",
      "metadata": {
        "id": "kP7KuqQbz7UD",
        "colab_type": "code",
        "colab": {}
      },
      "source": [
        "#Evluando el error de pronostico global\n",
        "rmse=evaluator.evaluate(predicted_ratings)"
      ],
      "execution_count": 0,
      "outputs": []
    },
    {
      "cell_type": "code",
      "metadata": {
        "id": "z4fUBfZ03t4Z",
        "colab_type": "code",
        "outputId": "f17ef6fe-a0d3-4e6d-8965-ba134aa3674c",
        "colab": {
          "base_uri": "https://localhost:8080/",
          "height": 34
        }
      },
      "source": [
        "#Imprimiento el error\n",
        "print(rmse)"
      ],
      "execution_count": 49,
      "outputs": [
        {
          "output_type": "stream",
          "text": [
            "1.0048051127541002\n"
          ],
          "name": "stdout"
        }
      ]
    },
    {
      "cell_type": "markdown",
      "metadata": {
        "id": "KG2wbeNe4hDU",
        "colab_type": "text"
      },
      "source": [
        "# 6. Recomendandor de peliculas, ya listo!"
      ]
    },
    {
      "cell_type": "code",
      "metadata": {
        "id": "06wR5qaF4pLL",
        "colab_type": "code",
        "colab": {}
      },
      "source": [
        "#Listado de peliculas unicas\n",
        "unique_movies=indexed.select('title_new').distinct()"
      ],
      "execution_count": 0,
      "outputs": []
    },
    {
      "cell_type": "code",
      "metadata": {
        "id": "WIRmCdZNHNfX",
        "colab_type": "code",
        "outputId": "b41a4dd2-45fa-464f-f1be-5327c6cd5724",
        "colab": {
          "base_uri": "https://localhost:8080/",
          "height": 34
        }
      },
      "source": [
        "#Total de peliculas\n",
        "unique_movies.count()"
      ],
      "execution_count": 51,
      "outputs": [
        {
          "output_type": "execute_result",
          "data": {
            "text/plain": [
              "1664"
            ]
          },
          "metadata": {
            "tags": []
          },
          "execution_count": 51
        }
      ]
    },
    {
      "cell_type": "code",
      "metadata": {
        "id": "taX8DiH85XBQ",
        "colab_type": "code",
        "colab": {}
      },
      "source": [
        "#Asignando un alias {a} la lista unica de peliculas\n",
        "a = unique_movies.alias('a')"
      ],
      "execution_count": 0,
      "outputs": []
    },
    {
      "cell_type": "code",
      "metadata": {
        "id": "XBoqyCAU51sv",
        "colab_type": "code",
        "outputId": "a1dc2350-483f-44d8-ec35-e8b88c789bf4",
        "colab": {
          "base_uri": "https://localhost:8080/",
          "height": 34
        }
      },
      "source": [
        "# Eligiendo un cliente\n",
        "user_id=100\n",
        "\n",
        "# Creando una tabla que contiene una pelicula por usuario\n",
        "watched_movies=indexed.filter(indexed['userId'] == user_id).select('title_new').distinct()\n",
        "\n",
        "#Numero de peliculas ya evaluadas \n",
        "watched_movies.count()"
      ],
      "execution_count": 53,
      "outputs": [
        {
          "output_type": "execute_result",
          "data": {
            "text/plain": [
              "59"
            ]
          },
          "metadata": {
            "tags": []
          },
          "execution_count": 53
        }
      ]
    },
    {
      "cell_type": "code",
      "metadata": {
        "id": "oyv-yms65v5v",
        "colab_type": "code",
        "colab": {}
      },
      "source": [
        "# Asignando un alias  {b} ha peliculas que el usuario ya vio de la tabla\n",
        "b=watched_movies.alias('b')"
      ],
      "execution_count": 0,
      "outputs": []
    },
    {
      "cell_type": "code",
      "metadata": {
        "id": "2g1l6cNKIg3N",
        "colab_type": "code",
        "colab": {}
      },
      "source": [
        "#Cruzando ambas tablas\n",
        "total_movies = a.join(b, a.title_new == b.title_new,how='left')"
      ],
      "execution_count": 0,
      "outputs": []
    },
    {
      "cell_type": "code",
      "metadata": {
        "id": "oQSPG1WPIyHc",
        "colab_type": "code",
        "outputId": "6878643e-ccef-4a7e-bdb3-72a92ff3e012",
        "colab": {
          "base_uri": "https://localhost:8080/",
          "height": 289
        }
      },
      "source": [
        "total_movies.show(10,False)"
      ],
      "execution_count": 56,
      "outputs": [
        {
          "output_type": "stream",
          "text": [
            "+---------+---------+\n",
            "|title_new|title_new|\n",
            "+---------+---------+\n",
            "|558.0    |null     |\n",
            "|305.0    |null     |\n",
            "|299.0    |null     |\n",
            "|596.0    |null     |\n",
            "|769.0    |null     |\n",
            "|934.0    |null     |\n",
            "|496.0    |null     |\n",
            "|1051.0   |null     |\n",
            "|692.0    |null     |\n",
            "|810.0    |null     |\n",
            "+---------+---------+\n",
            "only showing top 10 rows\n",
            "\n"
          ],
          "name": "stdout"
        }
      ]
    },
    {
      "cell_type": "code",
      "metadata": {
        "id": "jTTbDE_oI4Rv",
        "colab_type": "code",
        "colab": {}
      },
      "source": [
        "# Seleccionando peliculas que el cliente aun no ha mirado\n",
        "remaining_movies=total_movies.where(col(\"b.title_new\").isNull()).select(a.title_new).distinct()"
      ],
      "execution_count": 0,
      "outputs": []
    },
    {
      "cell_type": "code",
      "metadata": {
        "id": "oNshK4j_JBIG",
        "colab_type": "code",
        "outputId": "07cf3f10-20d1-4608-bd24-8ae9b4a9206f",
        "colab": {
          "base_uri": "https://localhost:8080/",
          "height": 459
        }
      },
      "source": [
        "remaining_movies.show()"
      ],
      "execution_count": 58,
      "outputs": [
        {
          "output_type": "stream",
          "text": [
            "+---------+\n",
            "|title_new|\n",
            "+---------+\n",
            "|    558.0|\n",
            "|    305.0|\n",
            "|    299.0|\n",
            "|    596.0|\n",
            "|    769.0|\n",
            "|    934.0|\n",
            "|    496.0|\n",
            "|   1051.0|\n",
            "|    692.0|\n",
            "|    810.0|\n",
            "|    720.0|\n",
            "|    782.0|\n",
            "|    184.0|\n",
            "|    147.0|\n",
            "|    576.0|\n",
            "|    170.0|\n",
            "|   1369.0|\n",
            "|   1587.0|\n",
            "|    608.0|\n",
            "|    735.0|\n",
            "+---------+\n",
            "only showing top 20 rows\n",
            "\n"
          ],
          "name": "stdout"
        }
      ]
    },
    {
      "cell_type": "code",
      "metadata": {
        "id": "0g1asm_eJMhe",
        "colab_type": "code",
        "outputId": "cf2e6a3c-c6ec-4f86-8f14-1ee64660b260",
        "colab": {
          "base_uri": "https://localhost:8080/",
          "height": 34
        }
      },
      "source": [
        "# Numero de peliculas que los usuario aun no lo ven \n",
        "remaining_movies.count()"
      ],
      "execution_count": 59,
      "outputs": [
        {
          "output_type": "execute_result",
          "data": {
            "text/plain": [
              "1605"
            ]
          },
          "metadata": {
            "tags": []
          },
          "execution_count": 59
        }
      ]
    },
    {
      "cell_type": "code",
      "metadata": {
        "id": "ZEualSXXJZfQ",
        "colab_type": "code",
        "colab": {}
      },
      "source": [
        "# Agregando una nueva columna del usuario \n",
        "remaining_movies=remaining_movies.withColumn(\"userId\",lit(int(user_id)))"
      ],
      "execution_count": 0,
      "outputs": []
    },
    {
      "cell_type": "code",
      "metadata": {
        "id": "mYwMGFg2Jr5L",
        "colab_type": "code",
        "outputId": "ea10e84e-b277-424a-bb02-e64eaed0bedf",
        "colab": {
          "base_uri": "https://localhost:8080/",
          "height": 289
        }
      },
      "source": [
        "remaining_movies.show(10,False)"
      ],
      "execution_count": 61,
      "outputs": [
        {
          "output_type": "stream",
          "text": [
            "+---------+------+\n",
            "|title_new|userId|\n",
            "+---------+------+\n",
            "|558.0    |100   |\n",
            "|305.0    |100   |\n",
            "|299.0    |100   |\n",
            "|596.0    |100   |\n",
            "|769.0    |100   |\n",
            "|934.0    |100   |\n",
            "|496.0    |100   |\n",
            "|1051.0   |100   |\n",
            "|692.0    |100   |\n",
            "|810.0    |100   |\n",
            "+---------+------+\n",
            "only showing top 10 rows\n",
            "\n"
          ],
          "name": "stdout"
        }
      ]
    },
    {
      "cell_type": "code",
      "metadata": {
        "id": "6VI20fG2Jy-s",
        "colab_type": "code",
        "colab": {}
      },
      "source": [
        "# Haciendo la recomendacion de peliculas utilizando el modelo recomendador ALS y seleccionado solo las mejores top {n} peliculas\n",
        "recommendations=rec_model.transform(remaining_movies).orderBy('prediction',ascending=False)"
      ],
      "execution_count": 0,
      "outputs": []
    },
    {
      "cell_type": "code",
      "metadata": {
        "id": "Vho32qWRKBYz",
        "colab_type": "code",
        "outputId": "083b5c47-0a81-411c-97b1-eb9f0bf21666",
        "colab": {
          "base_uri": "https://localhost:8080/",
          "height": 204
        }
      },
      "source": [
        "recommendations.show(5,False)"
      ],
      "execution_count": 63,
      "outputs": [
        {
          "output_type": "stream",
          "text": [
            "+---------+------+----------+\n",
            "|title_new|userId|prediction|\n",
            "+---------+------+----------+\n",
            "|853.0    |100   |6.5949626 |\n",
            "|1072.0   |100   |6.275746  |\n",
            "|1013.0   |100   |5.3618693 |\n",
            "|1132.0   |100   |5.155148  |\n",
            "|883.0    |100   |4.979104  |\n",
            "+---------+------+----------+\n",
            "only showing top 5 rows\n",
            "\n"
          ],
          "name": "stdout"
        }
      ]
    },
    {
      "cell_type": "code",
      "metadata": {
        "id": "WvNsq2skKF4t",
        "colab_type": "code",
        "colab": {}
      },
      "source": [
        "# Consiguiendo los de las peliculas sugeridas\n",
        "movie_title = IndexToString(inputCol=\"title_new\", outputCol=\"title\",labels=model.labels)\n",
        "\n",
        "final_recommendations=movie_title.transform(recommendations)"
      ],
      "execution_count": 0,
      "outputs": []
    },
    {
      "cell_type": "code",
      "metadata": {
        "id": "cKjoYW7NKNkO",
        "colab_type": "code",
        "outputId": "32eb3a6a-d765-4b0e-b9fc-980fd7f24189",
        "colab": {
          "base_uri": "https://localhost:8080/",
          "height": 289
        }
      },
      "source": [
        "final_recommendations.show(10,False)"
      ],
      "execution_count": 65,
      "outputs": [
        {
          "output_type": "stream",
          "text": [
            "+---------+------+----------+--------------------------------------------+\n",
            "|title_new|userId|prediction|title                                       |\n",
            "+---------+------+----------+--------------------------------------------+\n",
            "|853.0    |100   |6.5949626 |Naked (1993)                                |\n",
            "|1072.0   |100   |6.275746  |Radioland Murders (1994)                    |\n",
            "|1013.0   |100   |5.3618693 |War, The (1994)                             |\n",
            "|1132.0   |100   |5.155148  |Incognito (1997)                            |\n",
            "|883.0    |100   |4.979104  |Inventing the Abbotts (1997)                |\n",
            "|851.0    |100   |4.9431586 |Halloween: The Curse of Michael Myers (1995)|\n",
            "|1233.0   |100   |4.88201   |Man of No Importance, A (1994)              |\n",
            "|892.0    |100   |4.8429766 |Welcome To Sarajevo (1997)                  |\n",
            "|700.0    |100   |4.780497  |Basketball Diaries, The (1995)              |\n",
            "|930.0    |100   |4.7306404 |Ma vie en rose (My Life in Pink) (1997)     |\n",
            "+---------+------+----------+--------------------------------------------+\n",
            "only showing top 10 rows\n",
            "\n"
          ],
          "name": "stdout"
        }
      ]
    },
    {
      "cell_type": "markdown",
      "metadata": {
        "id": "qg-eHdVRDZHq",
        "colab_type": "text"
      },
      "source": [
        "# 7. Construyendo las funcion que sugiera una pelicula recomendada segun el modelo recomendador"
      ]
    },
    {
      "cell_type": "code",
      "metadata": {
        "id": "u4LLYAgXDpnL",
        "colab_type": "code",
        "colab": {}
      },
      "source": [
        "# Funcion para recomendar las top n peliculas para cualquier usuario\n",
        "def top_movies(user_id,n):\n",
        "    \"\"\"\n",
        "    This function returns the top 'n' movies that user has not seen yet but might like \n",
        "    \n",
        "    \"\"\"\n",
        "    # Asignación de una lista de peliculas unicas a\n",
        "    a = unique_movies.alias('a')\n",
        "    \n",
        "    # Creando otra tabla que contiene las peliculas que ya vio el usuario\n",
        "    watched_movies=indexed.filter(indexed['userId'] == user_id).select('title_new')\n",
        "    \n",
        "    # Asignanción de tabla de peliculas b de peliculas ya vistas \n",
        "    b=watched_movies.alias('b')\n",
        "    \n",
        "    # Cruce de ambas tablas\n",
        "    total_movies = a.join(b, a.title_new == b.title_new,how='left')\n",
        "    \n",
        "    # Seleccionando peliculas que el usuario no ha visto aun \n",
        "    remaining_movies=total_movies.where(col(\"b.title_new\").isNull()).select(a.title_new).distinct()\n",
        "        \n",
        "    #Agregando una nueva columan del cliente  \n",
        "    remaining_movies=remaining_movies.withColumn(\"userId\",lit(int(user_id)))\n",
        "    \n",
        "    # REalizando la recomendnado de peliculas mas adecuada utilizando el Sistema de recomendador del modelo ALS y seleccionando las mejores peliculas\n",
        "    recommendations=rec_model.transform(remaining_movies).orderBy('prediction',ascending=False).limit(n)\n",
        "\n",
        "    # Agregando los titulos de las peliculas en texto   \n",
        "    movie_title = IndexToString(inputCol=\"title_new\", outputCol=\"title\",labels=model.labels)\n",
        "    final_recommendations=movie_title.transform(recommendations)\n",
        "    \n",
        "    # Entregando los titutlos recomendado por usuario\n",
        "    return final_recommendations.show(n,False)\n"
      ],
      "execution_count": 0,
      "outputs": []
    },
    {
      "cell_type": "code",
      "metadata": {
        "id": "3o06Kl2nMt2a",
        "colab_type": "code",
        "outputId": "c64cf828-eb6f-4d10-adc2-3ca9965fb114",
        "colab": {
          "base_uri": "https://localhost:8080/",
          "height": 272
        }
      },
      "source": [
        "# REvision del clientes y las 10 peliculas sugeridas para el cliente\n",
        "top_movies(402,10)"
      ],
      "execution_count": 67,
      "outputs": [
        {
          "output_type": "stream",
          "text": [
            "+---------+------+----------+---------------------------------------------------+\n",
            "|title_new|userId|prediction|title                                              |\n",
            "+---------+------+----------+---------------------------------------------------+\n",
            "|1057.0   |402   |6.10757   |Boys of St. Vincent, The (1993)                    |\n",
            "|1432.0   |402   |5.774143  |Boys, Les (1997)                                   |\n",
            "|47.0     |402   |5.5253663 |Shawshank Redemption, The (1994)                   |\n",
            "|82.0     |402   |5.4308147 |It's a Wonderful Life (1946)                       |\n",
            "|36.0     |402   |5.3533115 |Schindler's List (1993)                            |\n",
            "|1375.0   |402   |5.3417935 |C'est arriv<U+008E> pr<U+008F>s de chez vous (1992)|\n",
            "|261.0    |402   |5.307897  |My Fair Lady (1964)                                |\n",
            "|768.0    |402   |5.2848053 |Fast, Cheap & Out of Control (1997)                |\n",
            "|1290.0   |402   |5.279434  |N<U+008E>nette et Boni (1996)                      |\n",
            "|230.0    |402   |5.2681546 |Sling Blade (1996)                                 |\n",
            "+---------+------+----------+---------------------------------------------------+\n",
            "\n"
          ],
          "name": "stdout"
        }
      ]
    },
    {
      "cell_type": "code",
      "metadata": {
        "id": "v6CUg2sShtTP",
        "colab_type": "code",
        "outputId": "2e44ca6c-dd41-4565-c47a-bed3bc0c2ba1",
        "colab": {
          "base_uri": "https://localhost:8080/",
          "height": 459
        }
      },
      "source": [
        "# El cliente 450 que revisa Star Wars\n",
        "DS_peliculas_rating.filter((DS_peliculas_rating['rating']>4)&(DS_peliculas_rating['userId']=='450')).show()"
      ],
      "execution_count": 68,
      "outputs": [
        {
          "output_type": "stream",
          "text": [
            "+------+--------------------+------+\n",
            "|userId|               title|rating|\n",
            "+------+--------------------+------+\n",
            "|   450|L.A. Confidential...|     5|\n",
            "|   450|Dr. Strangelove o...|     5|\n",
            "|   450|Hunt for Red Octo...|     5|\n",
            "|   450|Age of Innocence,...|     5|\n",
            "|   450|     Die Hard (1988)|     5|\n",
            "|   450|Right Stuff, The ...|     5|\n",
            "|   450|Sleepless in Seat...|     5|\n",
            "|   450|   Sting, The (1973)|     5|\n",
            "|   450|  Rear Window (1954)|     5|\n",
            "|   450|Dead Poets Societ...|     5|\n",
            "|   450|Sound of Music, T...|     5|\n",
            "|   450|E.T. the Extra-Te...|     5|\n",
            "|   450|Brothers McMullen...|     5|\n",
            "|   450|To Kill a Mocking...|     5|\n",
            "|   450|   Old Yeller (1957)|     5|\n",
            "|   450|Jerry Maguire (1996)|     5|\n",
            "|   450|     Backbeat (1993)|     5|\n",
            "|   450|  Taxi Driver (1976)|     5|\n",
            "|   450|Young Frankenstei...|     5|\n",
            "|   450|It's a Wonderful ...|     5|\n",
            "+------+--------------------+------+\n",
            "only showing top 20 rows\n",
            "\n"
          ],
          "name": "stdout"
        }
      ]
    },
    {
      "cell_type": "code",
      "metadata": {
        "id": "LSZ9IReFibmG",
        "colab_type": "code",
        "outputId": "01c1d696-059e-4187-99f0-1dcf99998024",
        "colab": {
          "base_uri": "https://localhost:8080/",
          "height": 357
        }
      },
      "source": [
        "# REvision del clientes y las 10 peliculas sugeridas para el cliente\n",
        "top_movies(450,15)"
      ],
      "execution_count": 69,
      "outputs": [
        {
          "output_type": "stream",
          "text": [
            "+---------+------+----------+----------------------------------------------------+\n",
            "|title_new|userId|prediction|title                                               |\n",
            "+---------+------+----------+----------------------------------------------------+\n",
            "|1072.0   |450   |5.4741545 |Radioland Murders (1994)                            |\n",
            "|892.0    |450   |5.080003  |Welcome To Sarajevo (1997)                          |\n",
            "|853.0    |450   |4.9881797 |Naked (1993)                                        |\n",
            "|1213.0   |450   |4.959093  |Aparajito (1956)                                    |\n",
            "|850.0    |450   |4.929431  |Shanghai Triad (Yao a yao yao dao waipo qiao) (1995)|\n",
            "|698.0    |450   |4.89843   |Charade (1963)                                      |\n",
            "|1341.0   |450   |4.8924117 |Best Men (1997)                                     |\n",
            "|1271.0   |450   |4.8558726 |Whole Wide World, The (1996)                        |\n",
            "|1028.0   |450   |4.801185  |To Live (Huozhe) (1994)                             |\n",
            "|1013.0   |450   |4.7967844 |War, The (1994)                                     |\n",
            "|1505.0   |450   |4.7805815 |Golden Earrings (1947)                              |\n",
            "|1354.0   |450   |4.773553  |Crossfire (1947)                                    |\n",
            "|1437.0   |450   |4.7507267 |Prefontaine (1997)                                  |\n",
            "|115.0    |450   |4.745082  |Boot, Das (1981)                                    |\n",
            "|494.0    |450   |4.7338943 |Grand Day Out, A (1992)                             |\n",
            "+---------+------+----------+----------------------------------------------------+\n",
            "\n"
          ],
          "name": "stdout"
        }
      ]
    }
  ]
}